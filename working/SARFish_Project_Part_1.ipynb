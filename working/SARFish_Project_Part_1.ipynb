{
 "cells": [
  {
   "cell_type": "markdown",
   "id": "591c7a77-9125-41c7-bb68-684148cfba6b",
   "metadata": {},
   "source": [
    "# CITS5014/15 Research Project"
   ]
  },
  {
   "cell_type": "markdown",
   "id": "8a324d8b-a786-47c9-9b43-9868b2b43d5e",
   "metadata": {},
   "source": [
    "### Name: Peter Millitz [23088298]   Date: 17/10/2025"
   ]
  },
  {
   "attachments": {},
   "cell_type": "markdown",
   "id": "9a7076f3-1d00-4984-8d05-e4dbe1994232",
   "metadata": {},
   "source": [
    "# Deep-Learning-Based Techniques for Ship Object Detection and Classification Using Complex-Valued SAR Imagery\n",
    "\n",
    "## [Part 1: Exploratory Data Analysis and Data Pre-Processing]"
   ]
  },
  {
   "cell_type": "markdown",
   "id": "fb21db66-7d6b-4f10-8b1a-7f6c4e68c915",
   "metadata": {},
   "source": [
    "## 1. Introduction"
   ]
  },
  {
   "cell_type": "markdown",
   "id": "651d6821-34ae-4791-b25d-dfebf16da555",
   "metadata": {},
   "source": [
    "This research seeks to investigate the use of high-resolution complex-valued SLC data products from space-based SAR imagery for the tasks of ship detection, classification, and vessel regression using Deep Learning (DL). The basis for this investigation is the hypothesis that fully leveraging the information in the inherently complex-valued SAR imagery should naturally lead to superior model performance compared to real-valued networks. The underlying motivation is to achieve tangible improvements in the performance of existing SAR ship detection models used for maritime surveillance of IUU fishing activity."
   ]
  },
  {
   "cell_type": "markdown",
   "id": "1058df27-d20b-4ad0-b174-073ca6c63e34",
   "metadata": {},
   "source": [
    "## 2. The SARFish dataset"
   ]
  },
  {
   "cell_type": "markdown",
   "id": "3507d01d-fa5b-4bca-9b62-2f8df859d2fd",
   "metadata": {},
   "source": [
    "### 2.1 Overview"
   ]
  },
  {
   "cell_type": "markdown",
   "id": "310b4df0-d541-480d-b060-a1af77176a71",
   "metadata": {},
   "source": [
    "SARFish is an imagery dataset for the purpose of training, validating and testing supervised machine learning models on the tasks of ship detection, classification and vessel length regression. SARFish builds on the work of the xView3-SAR dataset by expanding the imagery data to include Single Look Complex (SLC) as well as Ground Range Detected (GRD) imagery data taken directly from the European Space Agency (ESA) Copernicus Programme Open Access Hub Website.  \n",
    "\n",
    "The pre-processing applied to the Sentinel-1 images to the SARFish dataset was chosen to be deliberately minimal. The only operations applied to the SARFish data have been those necessary to make the images usable for computer vison tasks and include flipping, debursting and no-data masking. The philosophy was to provide GRD and SLC data in a format as close as practicable to the Sentinel-1 data that can be downloaded from Copernicus.  \n",
    "\n",
    "The three operations applied post download are describe below:  \n",
    "\n",
    "1. **Flipping:** Flipping was applied to both GRD and SLC products. Due to the acquisition methodology, raw images appear as mirror images of the surface of the Earth. This parity inversion between raw images and real-world coordinates is accounted for by reversing the image and its associated ground control points along the range or x-axis. \n",
    "\n",
    "2. **Debursting:** Debursting was applied only to SLC products. Sentinel-1 SLC products are provided as sets of 3 \"swaths\" per channel per scene. These swaths consist of \"sub-swaths\" or \"bursts\" which are overlapping segments of the image. The process of de-bursting is the alignment of these bursts into a contiguous image. This was done to create a one-to-one correspondence between the objects in each swath and the features on the Earth to which they correspond. It is important to note that as the deburst images are concatenations of bursts which themselves are individual SAR images, there are significant phase discontinuities on the boundaries of the bursts. It was decided for the purposes of this dataset that the bursts within the individual swaths should be merged rather than being split into separate images.\n",
    "\n",
    "3. **No data masking:** No data masking was applied to both GRD and SLC products. Invalid pixels in the image have been masked using a 'no data' mask."
   ]
  },
  {
   "cell_type": "markdown",
   "id": "6fa352c6-b0f9-4e82-a023-46e3c2796cb8",
   "metadata": {},
   "source": [
    "### 2.2. Dataset download"
   ]
  },
  {
   "cell_type": "markdown",
   "id": "1bd2758f-c999-47b3-a971-2854344fae85",
   "metadata": {},
   "source": [
    "All SLC (and corresponding GRD) products from the 50 scenes that comprise the 'validation' partition of the SARFish dataset, were downloaded for this project. The SARFish dataset resides in a Hugging Face repository available for download at: https://huggingface.co/datasets/ConnorLuckettDSTG/SARFish. The validation partition was chosen because of the high prevalence of associated labelling where true vessel detections were of `HIGH` and `MEDIUM` confidence and bounding box coordinates were present. In contrast, the 'train' partition, although having many more scenes, entirely lacked labels with 'HIGH' confidence true vessel detections. Moreover, the majority of MEDIUM confidence labels did not have bounding boxes. The exact selection criteria for SLC images based on associated groundtruth labels is shown in Table 1 below.\n",
    "\n",
    "Table 1. Label criteria required for SLC image selection.\n",
    "\n",
    "|  Attribute |      Value(s)     |\n",
    "|:-----------|:------------------|\n",
    "|  is_vessel |        True       |\n",
    "| is_fishing |   True, False     |\n",
    "| confidence |   HIGH, MEDIUM    |\n",
    "|     top    |    not missing    |\n",
    "|     left   |    not missing    |\n",
    "|   bottom   |    not missing    |\n",
    "|    right   |    not missing    |\n",
    "\n",
    "A script, kindly supplied by one of the principal authors of the dataset^1, was customised to selectively download 50 SLC scenes selected from the validation partition (see script: *downloader/download_specific_files_from_the_SARFish_dataset_mod.py*). The script requires a specific python environment setup. The *requirements.txt* file used to create the python environment is included in the downloader directory.\n",
    "\n",
    "* Note: due to the debursting operation, each scene comprises three separate swaths (with small overlap), so the total number of images downloaded is actually 150.\n",
    "\n",
    "[1] Connor Luckett, connor.luckett@defence.cgov.au"
   ]
  },
  {
   "cell_type": "markdown",
   "id": "751dba96-7ee3-4874-b264-ce1dd3c38708",
   "metadata": {},
   "source": [
    "## 3. Setup"
   ]
  },
  {
   "cell_type": "markdown",
   "id": "2bc98972-7d51-42d2-a7fb-4fa10844bdfd",
   "metadata": {},
   "source": [
    "### 3.1 Import required libraries"
   ]
  },
  {
   "cell_type": "code",
   "execution_count": 34,
   "id": "4f0a748d-135b-4abe-a4b3-b971551f7f7d",
   "metadata": {
    "tags": []
   },
   "outputs": [],
   "source": [
    "from pathlib import Path\n",
    "import os\n",
    "import re\n",
    "import socket\n",
    "from time import time\n",
    "import numpy as np\n",
    "import pandas as pd\n",
    "import matplotlib.pyplot as plt\n",
    "import yaml\n",
    "from GeoTiff import load_GeoTiff\n",
    "from complex_scale_and_norm import process_complex_data\n",
    "from utilities import *\n",
    "from batch_sar_processing import *\n",
    "from compare_crops import crop_compare\n",
    "from analyse_crop_stats import *\n",
    "\n",
    "%gui qt\n",
    "from visualise_labels import scale_sentinel_1_image, SARFish_Plot\n",
    "#from SARFish_metric import score\n",
    "\n",
    "pd.set_option('display.max_colwidth', None)"
   ]
  },
  {
   "cell_type": "markdown",
   "id": "bb6889e2-5201-4ceb-b4ca-82031bd1e152",
   "metadata": {},
   "source": [
    "### 3.2 Build the root paths for raw and processed data"
   ]
  },
  {
   "cell_type": "code",
   "execution_count": 35,
   "id": "bd5d4db6-10c7-4c23-9a3c-c1bc711fe2f1",
   "metadata": {},
   "outputs": [],
   "source": [
    "# Determine the current host\n",
    "hostname = socket.gethostname()\n",
    "if \"kaya\" in hostname.lower() or os.getenv(\"HPC_ENV\") == \"true\":\n",
    "    system = \"kaya\"\n",
    "else:\n",
    "    system = \"local\""
   ]
  },
  {
   "cell_type": "code",
   "execution_count": 36,
   "id": "6650a3e8-451d-4db0-a68b-70a0d84d6c3d",
   "metadata": {},
   "outputs": [],
   "source": [
    "# Load config.yaml file\n",
    "with open(\"config.yaml\", \"r\") as f:\n",
    "    config = yaml.safe_load(f)\n",
    "\n",
    "# Build the raw and processed data root paths\n",
    "sar_data_root = config[\"data_paths\"][\"SARFish_root_directory\"][system]\n",
    "gen_data_root = config[\"data_paths\"][\"Generated_root_directory\"][system]"
   ]
  },
  {
   "cell_type": "markdown",
   "id": "09186470-ca65-4121-873f-5e5c9403ed60",
   "metadata": {},
   "source": [
    "### 3.3 Split and unload the dataset"
   ]
  },
  {
   "cell_type": "markdown",
   "id": "16c8c687-7b4a-4275-854d-907af5eb4e69",
   "metadata": {},
   "source": [
    "First create a full list of qualifying validation partition scenes then partition it into train, validation and test scene lists (80:10:10):"
   ]
  },
  {
   "cell_type": "code",
   "execution_count": 37,
   "id": "db633d43-f221-4df2-92f6-6906c78a2b14",
   "metadata": {
    "tags": []
   },
   "outputs": [
    {
     "name": "stdout",
     "output_type": "stream",
     "text": [
      "Total number of items in fifty_scenes: 50\n",
      "fifty_scenes = [\"0157baf3866b2cf9v\",\"0d8ed29b0760dc59v\",\"0e309957cef7bdc8v\",\"128443d1e98e2839v\",\"13dd786ee6c95e06v\"\n",
      "                ,\"204e657a411faf4dv\",\"264ed833a13b7f2av\",\"2e80028071b89173v\",\"335f9a411884e9cbv\",\"36076e547370064ev\"\n",
      "                ,\"377410f6ab9824dfv\",\"3808f5703f0920bfv\",\"39268d50efe8dae9v\",\"3ceef682fbe4930av\",\"3fe00bf7beab8812v\"\n",
      "                ,\"487b4884f467c94av\",\"4a97701b4bd81bf7v\",\"4da9db72dea50504v\",\"590dd08f71056cacv\",\"5c3d986db930f848v\"\n",
      "                ,\"5e9a2c1bcf179e9bv\",\"65d6f6baee882077v\",\"6a2b6ddecd398c6fv\",\"758991708403f218v\",\"75c03770095c6d9ev\"\n",
      "                ,\"7b7e837a7ac5a880v\",\"8204efcfe9f09f94v\",\"844545c005776fb1v\",\"94dca5e4de2edcf8v\",\"9a5aa7310c195f14v\"\n",
      "                ,\"9b89b9dcce7dc85ev\",\"9c418af4acd217d1v\",\"9ea5029406691ce4v\",\"a1a21a222e244555v\",\"a6073537a4ea5fb9v\"\n",
      "                ,\"a9a58462f221a9eev\",\"acf76647ba3f524bv\",\"b1844cde847a3942v\",\"c5ea6da5405bfac0v\",\"c8bbfb37522617e9v\"\n",
      "                ,\"cd36e75010a021f7v\",\"cd4f6ff86f9f5991v\",\"cdc04ca397865356v\",\"e40c9251a4fce150v\",\"eeddcc0db3cff0d8v\"\n",
      "                ,\"f298dbd78ef977d5v\",\"f9eb760aaf6e798dv\",\"fc2f57371370c521v\",\"fc483682c621b54bv\",\"fe6a8d80fb5ebb8ev\"]\n"
     ]
    }
   ],
   "source": [
    "# Create a list of the 50 selected scene ids from the'validation' partition of the SARFish dataset downloaded from Hugging Face\n",
    "command = \"awk -F',' '{print $3}' ./SARFish_labels/validation/SLC/SLC_validation_labels.csv | tail -n +2 | sort -u\"\n",
    "fifty_scenes = extract_list_from_command(command, print_summary=True, columns=5, list_name=\"fifty_scenes\")"
   ]
  },
  {
   "cell_type": "markdown",
   "id": "ce60c9f9-5965-45f7-acc3-e7ac9fe876b4",
   "metadata": {},
   "source": [
    "Ten percent of the 50 scenes will be randomly selected and set aside as the test set for later model evaluation."
   ]
  },
  {
   "cell_type": "code",
   "execution_count": 38,
   "id": "c17e650f-0e74-4716-9684-aeea83996d0f",
   "metadata": {
    "tags": []
   },
   "outputs": [
    {
     "name": "stdout",
     "output_type": "stream",
     "text": [
      "Number of train scenes: 40\n",
      "train_scene_ids = [\"f9eb760aaf6e798dv\",\"eeddcc0db3cff0d8v\",\"fc483682c621b54bv\",\"9ea5029406691ce4v\",\"3808f5703f0920bfv\"\n",
      "                   ,\"c8bbfb37522617e9v\",\"9c418af4acd217d1v\",\"cd4f6ff86f9f5991v\",\"75c03770095c6d9ev\",\"5e9a2c1bcf179e9bv\"\n",
      "                   ,\"4a97701b4bd81bf7v\",\"13dd786ee6c95e06v\",\"9b89b9dcce7dc85ev\",\"a6073537a4ea5fb9v\",\"a9a58462f221a9eev\"\n",
      "                   ,\"377410f6ab9824dfv\",\"5c3d986db930f848v\",\"7b7e837a7ac5a880v\",\"204e657a411faf4dv\",\"acf76647ba3f524bv\"\n",
      "                   ,\"844545c005776fb1v\",\"fe6a8d80fb5ebb8ev\",\"39268d50efe8dae9v\",\"128443d1e98e2839v\",\"e40c9251a4fce150v\"\n",
      "                   ,\"fc2f57371370c521v\",\"0d8ed29b0760dc59v\",\"94dca5e4de2edcf8v\",\"4da9db72dea50504v\",\"6a2b6ddecd398c6fv\"\n",
      "                   ,\"335f9a411884e9cbv\",\"3ceef682fbe4930av\",\"cd36e75010a021f7v\",\"cdc04ca397865356v\",\"590dd08f71056cacv\"\n",
      "                   ,\"487b4884f467c94av\",\"0e309957cef7bdc8v\",\"a1a21a222e244555v\",\"b1844cde847a3942v\",\"9a5aa7310c195f14v\"]\n",
      "List saved to train_scene_ids.txt\n",
      "\n",
      "Number of validation scenes: 5\n",
      "validation_scene_ids = [\"758991708403f218v\",\"c5ea6da5405bfac0v\",\"36076e547370064ev\",\"f298dbd78ef977d5v\",\"65d6f6baee882077v\"]\n",
      "List saved to validation_scene_ids.txt\n",
      "\n",
      "Number of test scenes: 5\n",
      "test_scene_ids = [\"2e80028071b89173v\",\"0157baf3866b2cf9v\",\"264ed833a13b7f2av\",\"8204efcfe9f09f94v\",\"3fe00bf7beab8812v\"]\n",
      "List saved to test_scene_ids.txt\n",
      "\n"
     ]
    }
   ],
   "source": [
    "# Randomly select 10% of scene_ids from the pool of 50 to be set aside as the test set. \n",
    "# Store the remainder as the train set to be used for training the model.\n",
    "train_scene_ids, val_scene_ids, test_scene_ids = \\\n",
    "            train_val_test_split(fifty_scenes , test_ratio=0.1, val_ratio=0.1, seed=40)\n",
    "\n",
    "# Display and save scene ID splits\n",
    "splits = [\n",
    "    (train_scene_ids, \"train\"),\n",
    "    (val_scene_ids, \"validation\"), \n",
    "    (test_scene_ids, \"test\")\n",
    "]\n",
    "\n",
    "for scene_ids, split_name in splits:\n",
    "    print(f\"Number of {split_name} scenes: {len(scene_ids)}\")\n",
    "    print_list_formatted(scene_ids, 5, f\"{split_name}_scene_ids\")\n",
    "    save_list_to_txt(scene_ids, f\"{split_name}_scene_ids.txt\")"
   ]
  },
  {
   "cell_type": "markdown",
   "id": "a2d8f093-b733-4fdb-b052-7c3d0c78ca26",
   "metadata": {},
   "source": [
    "Now use the train_scenes_ids list to find and unload the relevant image files from GeoTIFFs and then save them as NumPy arrays:"
   ]
  },
  {
   "cell_type": "code",
   "execution_count": 39,
   "id": "e7fa5c4c-893f-4f76-b986-9e43f83a22ee",
   "metadata": {},
   "outputs": [
    {
     "name": "stdout",
     "output_type": "stream",
     "text": [
      "input_path:  /mnt/h/SARFish/SLC/validation/\n",
      "output_path: /mnt/h/SARFish/Generated/SLC/train/arrays_raw/\n"
     ]
    }
   ],
   "source": [
    "# Build the necessary paths\n",
    "input_path  = sar_data_root\n",
    "arrays_path = config[\"data_paths\"][\"arrays_path\"][\"train\"]\n",
    "output_path_train = os.path.join(gen_data_root, arrays_path)\n",
    "\n",
    "# Print the input and output paths created\n",
    "print(f\"input_path:  {input_path}\\noutput_path: {output_path_train}\")"
   ]
  },
  {
   "cell_type": "code",
   "execution_count": 40,
   "id": "0129a4a1-700b-4b6f-b590-73b7ecd59a7c",
   "metadata": {},
   "outputs": [],
   "source": [
    "# Unload the training images and save as numpy arrays \n",
    "#%run unload_sar_data.py {input_path} --pattern slc-vh --include-scene-ids train_scene_ids.txt --quiet {output_path_train}"
   ]
  },
  {
   "cell_type": "markdown",
   "id": "ede03fd7-7a4e-47e3-815c-f73692c606f6",
   "metadata": {},
   "source": [
    "Repeat for validatation set and test set:"
   ]
  },
  {
   "cell_type": "code",
   "execution_count": 41,
   "id": "75286d77-8dba-4169-bd31-598ecb069be5",
   "metadata": {},
   "outputs": [],
   "source": [
    "# Unload images for validataion set\n",
    "#arrays_path = config[\"data_paths\"][\"arrays_path\"][\"val\"]\n",
    "#output_path_val = os.path.join(gen_data_root, arrays_path)\n",
    "#%run unload_sar_data.py {input_path} --pattern slc-vh --include-scene-ids val_scene_ids.txt --quiet {output_path_val}"
   ]
  },
  {
   "cell_type": "code",
   "execution_count": 42,
   "id": "4d77fab6-7fdf-4623-b17d-c2e41e52d894",
   "metadata": {},
   "outputs": [],
   "source": [
    "# Unload images for test set\n",
    "#arrays_path = config[\"data_paths\"][\"arrays_path\"][\"test\"]\n",
    "#output_path_test = os.path.join(gen_data_root, arrays_path)\n",
    "#%run unload_sar_data.py {input_path} --pattern slc-vh --include-scene-ids test_scene_ids.txt --quiet {output_path_test}"
   ]
  },
  {
   "cell_type": "markdown",
   "id": "5d2f772a-fa01-4138-a247-b94282c58703",
   "metadata": {},
   "source": [
    "## 4. Exploratory Data Analysis"
   ]
  },
  {
   "cell_type": "markdown",
   "id": "44915cb7-93d2-4974-af65-31a15002b8c6",
   "metadata": {},
   "source": [
    "### 4.1 Training labels"
   ]
  },
  {
   "cell_type": "markdown",
   "id": "1b1cb1dd-89bb-4f7a-bd2a-0212ee5b9aef",
   "metadata": {},
   "source": [
    "Load and examine the labels associated with each train scene_id. The labels are sourced from the master SLC 'validation' partition labels CSV file ('*SLC_validation_labels.csv*').\n",
    "\n",
    "Note: Only images with the appropriate level of labelling will be retained for training."
   ]
  },
  {
   "cell_type": "code",
   "execution_count": 43,
   "id": "712a185a-7598-4ee2-9bfe-41a8b558a51a",
   "metadata": {
    "tags": []
   },
   "outputs": [
    {
     "data": {
      "text/html": [
       "<div>\n",
       "<style scoped>\n",
       "    .dataframe tbody tr th:only-of-type {\n",
       "        vertical-align: middle;\n",
       "    }\n",
       "\n",
       "    .dataframe tbody tr th {\n",
       "        vertical-align: top;\n",
       "    }\n",
       "\n",
       "    .dataframe thead th {\n",
       "        text-align: right;\n",
       "    }\n",
       "</style>\n",
       "<table border=\"1\" class=\"dataframe\">\n",
       "  <thead>\n",
       "    <tr style=\"text-align: right;\">\n",
       "      <th></th>\n",
       "      <th>partition</th>\n",
       "      <th>product_type</th>\n",
       "      <th>scene_id</th>\n",
       "      <th>detect_id</th>\n",
       "      <th>SLC_product_identifier</th>\n",
       "      <th>swath_index</th>\n",
       "      <th>detect_lat</th>\n",
       "      <th>detect_lon</th>\n",
       "      <th>detect_scene_column</th>\n",
       "      <th>detect_scene_row</th>\n",
       "      <th>...</th>\n",
       "      <th>left</th>\n",
       "      <th>bottom</th>\n",
       "      <th>right</th>\n",
       "      <th>vessel_length_m</th>\n",
       "      <th>source</th>\n",
       "      <th>is_vessel</th>\n",
       "      <th>is_fishing</th>\n",
       "      <th>global_shoreline_vector_distance_from_shore_km</th>\n",
       "      <th>xView3_shoreline_distance_from_shore_km</th>\n",
       "      <th>confidence</th>\n",
       "    </tr>\n",
       "  </thead>\n",
       "  <tbody>\n",
       "    <tr>\n",
       "      <th>0</th>\n",
       "      <td>validation</td>\n",
       "      <td>SLC</td>\n",
       "      <td>5c3d986db930f848v</td>\n",
       "      <td>5c3d986db930f848v_065.60344616000000428357_-20.89814321000000063577</td>\n",
       "      <td>S1B_IW_SLC__1SDV_20200803T075720_20200803T075748_022756_02B2FF_E5D2</td>\n",
       "      <td>1</td>\n",
       "      <td>65.603446160</td>\n",
       "      <td>-20.898143210</td>\n",
       "      <td>18083.0</td>\n",
       "      <td>5388.0</td>\n",
       "      <td>...</td>\n",
       "      <td>18079.0</td>\n",
       "      <td>5387.0</td>\n",
       "      <td>18087.0</td>\n",
       "      <td>NaN</td>\n",
       "      <td>manual</td>\n",
       "      <td>True</td>\n",
       "      <td>NaN</td>\n",
       "      <td>0.1307769616</td>\n",
       "      <td>0.1097268307</td>\n",
       "      <td>LOW</td>\n",
       "    </tr>\n",
       "    <tr>\n",
       "      <th>1</th>\n",
       "      <td>validation</td>\n",
       "      <td>SLC</td>\n",
       "      <td>5c3d986db930f848v</td>\n",
       "      <td>5c3d986db930f848v_065.60102723999999341231_-20.90357632999999992762</td>\n",
       "      <td>S1B_IW_SLC__1SDV_20200803T075720_20200803T075748_022756_02B2FF_E5D2</td>\n",
       "      <td>1</td>\n",
       "      <td>65.601027240</td>\n",
       "      <td>-20.903576330</td>\n",
       "      <td>18131.0</td>\n",
       "      <td>5365.0</td>\n",
       "      <td>...</td>\n",
       "      <td>18124.0</td>\n",
       "      <td>5363.0</td>\n",
       "      <td>18138.0</td>\n",
       "      <td>NaN</td>\n",
       "      <td>manual</td>\n",
       "      <td>True</td>\n",
       "      <td>NaN</td>\n",
       "      <td>0.1422627235</td>\n",
       "      <td>0.0710514325</td>\n",
       "      <td>MEDIUM</td>\n",
       "    </tr>\n",
       "    <tr>\n",
       "      <th>2</th>\n",
       "      <td>validation</td>\n",
       "      <td>SLC</td>\n",
       "      <td>5c3d986db930f848v</td>\n",
       "      <td>5c3d986db930f848v_065.17134473999999499938_-21.09210240000000169402</td>\n",
       "      <td>S1B_IW_SLC__1SDV_20200803T075720_20200803T075748_022756_02B2FF_E5D2</td>\n",
       "      <td>1</td>\n",
       "      <td>65.171344740</td>\n",
       "      <td>-21.092102400</td>\n",
       "      <td>17649.0</td>\n",
       "      <td>1860.0</td>\n",
       "      <td>...</td>\n",
       "      <td>17643.0</td>\n",
       "      <td>1859.0</td>\n",
       "      <td>17652.0</td>\n",
       "      <td>NaN</td>\n",
       "      <td>manual</td>\n",
       "      <td>True</td>\n",
       "      <td>NaN</td>\n",
       "      <td>0.0418837330</td>\n",
       "      <td>0.5096837748</td>\n",
       "      <td>MEDIUM</td>\n",
       "    </tr>\n",
       "    <tr>\n",
       "      <th>3</th>\n",
       "      <td>validation</td>\n",
       "      <td>SLC</td>\n",
       "      <td>5c3d986db930f848v</td>\n",
       "      <td>5c3d986db930f848v_065.17062706000000105178_-21.09188649000000026490</td>\n",
       "      <td>S1B_IW_SLC__1SDV_20200803T075720_20200803T075748_022756_02B2FF_E5D2</td>\n",
       "      <td>1</td>\n",
       "      <td>65.170627060</td>\n",
       "      <td>-21.091886490</td>\n",
       "      <td>17642.0</td>\n",
       "      <td>1855.0</td>\n",
       "      <td>...</td>\n",
       "      <td>17635.0</td>\n",
       "      <td>1852.0</td>\n",
       "      <td>17649.0</td>\n",
       "      <td>NaN</td>\n",
       "      <td>manual</td>\n",
       "      <td>True</td>\n",
       "      <td>NaN</td>\n",
       "      <td>0.0448946415</td>\n",
       "      <td>0.5021807889</td>\n",
       "      <td>MEDIUM</td>\n",
       "    </tr>\n",
       "    <tr>\n",
       "      <th>4</th>\n",
       "      <td>validation</td>\n",
       "      <td>SLC</td>\n",
       "      <td>5c3d986db930f848v</td>\n",
       "      <td>5c3d986db930f848v_065.70719721999999762829_-20.71366400000000140835</td>\n",
       "      <td>S1B_IW_SLC__1SDV_20200803T075720_20200803T075748_022756_02B2FF_E5D2</td>\n",
       "      <td>1</td>\n",
       "      <td>65.707197220</td>\n",
       "      <td>-20.713664000</td>\n",
       "      <td>16672.0</td>\n",
       "      <td>6335.0</td>\n",
       "      <td>...</td>\n",
       "      <td>16655.0</td>\n",
       "      <td>6331.0</td>\n",
       "      <td>16687.0</td>\n",
       "      <td>NaN</td>\n",
       "      <td>manual</td>\n",
       "      <td>True</td>\n",
       "      <td>NaN</td>\n",
       "      <td>0.0154433573</td>\n",
       "      <td>2.7897569722</td>\n",
       "      <td>MEDIUM</td>\n",
       "    </tr>\n",
       "    <tr>\n",
       "      <th>...</th>\n",
       "      <td>...</td>\n",
       "      <td>...</td>\n",
       "      <td>...</td>\n",
       "      <td>...</td>\n",
       "      <td>...</td>\n",
       "      <td>...</td>\n",
       "      <td>...</td>\n",
       "      <td>...</td>\n",
       "      <td>...</td>\n",
       "      <td>...</td>\n",
       "      <td>...</td>\n",
       "      <td>...</td>\n",
       "      <td>...</td>\n",
       "      <td>...</td>\n",
       "      <td>...</td>\n",
       "      <td>...</td>\n",
       "      <td>...</td>\n",
       "      <td>...</td>\n",
       "      <td>...</td>\n",
       "      <td>...</td>\n",
       "      <td>...</td>\n",
       "    </tr>\n",
       "    <tr>\n",
       "      <th>19181</th>\n",
       "      <td>validation</td>\n",
       "      <td>SLC</td>\n",
       "      <td>377410f6ab9824dfv</td>\n",
       "      <td>377410f6ab9824dfv_006.46657020399999993288_003.39077283399999984681</td>\n",
       "      <td>S1A_IW_SLC__1SDV_20200407T052956_20200407T053026_032017_03B2E2_18FA</td>\n",
       "      <td>3</td>\n",
       "      <td>6.466570204</td>\n",
       "      <td>3.390772834</td>\n",
       "      <td>11095.0</td>\n",
       "      <td>9420.0</td>\n",
       "      <td>...</td>\n",
       "      <td>11084.0</td>\n",
       "      <td>9418.0</td>\n",
       "      <td>11105.0</td>\n",
       "      <td>41.66266083</td>\n",
       "      <td>manual</td>\n",
       "      <td>True</td>\n",
       "      <td>NaN</td>\n",
       "      <td>0.0129786373</td>\n",
       "      <td>0.4586791222</td>\n",
       "      <td>MEDIUM</td>\n",
       "    </tr>\n",
       "    <tr>\n",
       "      <th>19182</th>\n",
       "      <td>validation</td>\n",
       "      <td>SLC</td>\n",
       "      <td>377410f6ab9824dfv</td>\n",
       "      <td>377410f6ab9824dfv_006.46965017399999986480_003.38507763299999986373</td>\n",
       "      <td>S1A_IW_SLC__1SDV_20200407T052956_20200407T053026_032017_03B2E2_18FA</td>\n",
       "      <td>3</td>\n",
       "      <td>6.469650174</td>\n",
       "      <td>3.385077633</td>\n",
       "      <td>11299.0</td>\n",
       "      <td>9435.0</td>\n",
       "      <td>...</td>\n",
       "      <td>11285.0</td>\n",
       "      <td>9432.0</td>\n",
       "      <td>11312.0</td>\n",
       "      <td>164.11293480</td>\n",
       "      <td>manual</td>\n",
       "      <td>True</td>\n",
       "      <td>NaN</td>\n",
       "      <td>0.1093857865</td>\n",
       "      <td>0.1949056056</td>\n",
       "      <td>MEDIUM</td>\n",
       "    </tr>\n",
       "    <tr>\n",
       "      <th>19183</th>\n",
       "      <td>validation</td>\n",
       "      <td>SLC</td>\n",
       "      <td>377410f6ab9824dfv</td>\n",
       "      <td>377410f6ab9824dfv_006.28999598099999968071_003.23360257100000003661</td>\n",
       "      <td>S1A_IW_SLC__1SDV_20200407T052956_20200407T053026_032017_03B2E2_18FA</td>\n",
       "      <td>3</td>\n",
       "      <td>6.289995981</td>\n",
       "      <td>3.233602571</td>\n",
       "      <td>15029.0</td>\n",
       "      <td>7806.0</td>\n",
       "      <td>...</td>\n",
       "      <td>14983.0</td>\n",
       "      <td>7799.0</td>\n",
       "      <td>15071.0</td>\n",
       "      <td>234.08431390</td>\n",
       "      <td>ais/manual</td>\n",
       "      <td>True</td>\n",
       "      <td>False</td>\n",
       "      <td>9999.9900000000</td>\n",
       "      <td>9999.9900000000</td>\n",
       "      <td>HIGH</td>\n",
       "    </tr>\n",
       "    <tr>\n",
       "      <th>19184</th>\n",
       "      <td>validation</td>\n",
       "      <td>SLC</td>\n",
       "      <td>377410f6ab9824dfv</td>\n",
       "      <td>377410f6ab9824dfv_006.36177788400000032709_003.31700163200000019970</td>\n",
       "      <td>S1A_IW_SLC__1SDV_20200407T052956_20200407T053026_032017_03B2E2_18FA</td>\n",
       "      <td>3</td>\n",
       "      <td>6.361777884</td>\n",
       "      <td>3.317001632</td>\n",
       "      <td>12791.0</td>\n",
       "      <td>8493.0</td>\n",
       "      <td>...</td>\n",
       "      <td>12748.0</td>\n",
       "      <td>8488.0</td>\n",
       "      <td>12835.0</td>\n",
       "      <td>109.96308340</td>\n",
       "      <td>ais/manual</td>\n",
       "      <td>True</td>\n",
       "      <td>False</td>\n",
       "      <td>4.3938699883</td>\n",
       "      <td>4.7675374629</td>\n",
       "      <td>HIGH</td>\n",
       "    </tr>\n",
       "    <tr>\n",
       "      <th>19185</th>\n",
       "      <td>validation</td>\n",
       "      <td>SLC</td>\n",
       "      <td>377410f6ab9824dfv</td>\n",
       "      <td>377410f6ab9824dfv_006.36544217700000025673_003.38282932300000016568</td>\n",
       "      <td>S1A_IW_SLC__1SDV_20200407T052956_20200407T053026_032017_03B2E2_18FA</td>\n",
       "      <td>3</td>\n",
       "      <td>6.365442177</td>\n",
       "      <td>3.382829323</td>\n",
       "      <td>10690.0</td>\n",
       "      <td>8625.0</td>\n",
       "      <td>...</td>\n",
       "      <td>10680.0</td>\n",
       "      <td>8623.0</td>\n",
       "      <td>10701.0</td>\n",
       "      <td>26.74146001</td>\n",
       "      <td>ais/manual</td>\n",
       "      <td>True</td>\n",
       "      <td>True</td>\n",
       "      <td>3.3176478972</td>\n",
       "      <td>3.5224205090</td>\n",
       "      <td>HIGH</td>\n",
       "    </tr>\n",
       "  </tbody>\n",
       "</table>\n",
       "<p>15235 rows × 21 columns</p>\n",
       "</div>"
      ],
      "text/plain": [
       "        partition product_type           scene_id  \\\n",
       "0      validation          SLC  5c3d986db930f848v   \n",
       "1      validation          SLC  5c3d986db930f848v   \n",
       "2      validation          SLC  5c3d986db930f848v   \n",
       "3      validation          SLC  5c3d986db930f848v   \n",
       "4      validation          SLC  5c3d986db930f848v   \n",
       "...           ...          ...                ...   \n",
       "19181  validation          SLC  377410f6ab9824dfv   \n",
       "19182  validation          SLC  377410f6ab9824dfv   \n",
       "19183  validation          SLC  377410f6ab9824dfv   \n",
       "19184  validation          SLC  377410f6ab9824dfv   \n",
       "19185  validation          SLC  377410f6ab9824dfv   \n",
       "\n",
       "                                                                 detect_id  \\\n",
       "0      5c3d986db930f848v_065.60344616000000428357_-20.89814321000000063577   \n",
       "1      5c3d986db930f848v_065.60102723999999341231_-20.90357632999999992762   \n",
       "2      5c3d986db930f848v_065.17134473999999499938_-21.09210240000000169402   \n",
       "3      5c3d986db930f848v_065.17062706000000105178_-21.09188649000000026490   \n",
       "4      5c3d986db930f848v_065.70719721999999762829_-20.71366400000000140835   \n",
       "...                                                                    ...   \n",
       "19181  377410f6ab9824dfv_006.46657020399999993288_003.39077283399999984681   \n",
       "19182  377410f6ab9824dfv_006.46965017399999986480_003.38507763299999986373   \n",
       "19183  377410f6ab9824dfv_006.28999598099999968071_003.23360257100000003661   \n",
       "19184  377410f6ab9824dfv_006.36177788400000032709_003.31700163200000019970   \n",
       "19185  377410f6ab9824dfv_006.36544217700000025673_003.38282932300000016568   \n",
       "\n",
       "                                                    SLC_product_identifier  \\\n",
       "0      S1B_IW_SLC__1SDV_20200803T075720_20200803T075748_022756_02B2FF_E5D2   \n",
       "1      S1B_IW_SLC__1SDV_20200803T075720_20200803T075748_022756_02B2FF_E5D2   \n",
       "2      S1B_IW_SLC__1SDV_20200803T075720_20200803T075748_022756_02B2FF_E5D2   \n",
       "3      S1B_IW_SLC__1SDV_20200803T075720_20200803T075748_022756_02B2FF_E5D2   \n",
       "4      S1B_IW_SLC__1SDV_20200803T075720_20200803T075748_022756_02B2FF_E5D2   \n",
       "...                                                                    ...   \n",
       "19181  S1A_IW_SLC__1SDV_20200407T052956_20200407T053026_032017_03B2E2_18FA   \n",
       "19182  S1A_IW_SLC__1SDV_20200407T052956_20200407T053026_032017_03B2E2_18FA   \n",
       "19183  S1A_IW_SLC__1SDV_20200407T052956_20200407T053026_032017_03B2E2_18FA   \n",
       "19184  S1A_IW_SLC__1SDV_20200407T052956_20200407T053026_032017_03B2E2_18FA   \n",
       "19185  S1A_IW_SLC__1SDV_20200407T052956_20200407T053026_032017_03B2E2_18FA   \n",
       "\n",
       "       swath_index    detect_lat    detect_lon  detect_scene_column  \\\n",
       "0                1  65.603446160 -20.898143210              18083.0   \n",
       "1                1  65.601027240 -20.903576330              18131.0   \n",
       "2                1  65.171344740 -21.092102400              17649.0   \n",
       "3                1  65.170627060 -21.091886490              17642.0   \n",
       "4                1  65.707197220 -20.713664000              16672.0   \n",
       "...            ...           ...           ...                  ...   \n",
       "19181            3   6.466570204   3.390772834              11095.0   \n",
       "19182            3   6.469650174   3.385077633              11299.0   \n",
       "19183            3   6.289995981   3.233602571              15029.0   \n",
       "19184            3   6.361777884   3.317001632              12791.0   \n",
       "19185            3   6.365442177   3.382829323              10690.0   \n",
       "\n",
       "       detect_scene_row  ...     left  bottom    right  vessel_length_m  \\\n",
       "0                5388.0  ...  18079.0  5387.0  18087.0              NaN   \n",
       "1                5365.0  ...  18124.0  5363.0  18138.0              NaN   \n",
       "2                1860.0  ...  17643.0  1859.0  17652.0              NaN   \n",
       "3                1855.0  ...  17635.0  1852.0  17649.0              NaN   \n",
       "4                6335.0  ...  16655.0  6331.0  16687.0              NaN   \n",
       "...                 ...  ...      ...     ...      ...              ...   \n",
       "19181            9420.0  ...  11084.0  9418.0  11105.0      41.66266083   \n",
       "19182            9435.0  ...  11285.0  9432.0  11312.0     164.11293480   \n",
       "19183            7806.0  ...  14983.0  7799.0  15071.0     234.08431390   \n",
       "19184            8493.0  ...  12748.0  8488.0  12835.0     109.96308340   \n",
       "19185            8625.0  ...  10680.0  8623.0  10701.0      26.74146001   \n",
       "\n",
       "           source is_vessel is_fishing  \\\n",
       "0          manual      True        NaN   \n",
       "1          manual      True        NaN   \n",
       "2          manual      True        NaN   \n",
       "3          manual      True        NaN   \n",
       "4          manual      True        NaN   \n",
       "...           ...       ...        ...   \n",
       "19181      manual      True        NaN   \n",
       "19182      manual      True        NaN   \n",
       "19183  ais/manual      True      False   \n",
       "19184  ais/manual      True      False   \n",
       "19185  ais/manual      True       True   \n",
       "\n",
       "      global_shoreline_vector_distance_from_shore_km  \\\n",
       "0                                       0.1307769616   \n",
       "1                                       0.1422627235   \n",
       "2                                       0.0418837330   \n",
       "3                                       0.0448946415   \n",
       "4                                       0.0154433573   \n",
       "...                                              ...   \n",
       "19181                                   0.0129786373   \n",
       "19182                                   0.1093857865   \n",
       "19183                                9999.9900000000   \n",
       "19184                                   4.3938699883   \n",
       "19185                                   3.3176478972   \n",
       "\n",
       "       xView3_shoreline_distance_from_shore_km  confidence  \n",
       "0                                 0.1097268307         LOW  \n",
       "1                                 0.0710514325      MEDIUM  \n",
       "2                                 0.5096837748      MEDIUM  \n",
       "3                                 0.5021807889      MEDIUM  \n",
       "4                                 2.7897569722      MEDIUM  \n",
       "...                                        ...         ...  \n",
       "19181                             0.4586791222      MEDIUM  \n",
       "19182                             0.1949056056      MEDIUM  \n",
       "19183                          9999.9900000000        HIGH  \n",
       "19184                             4.7675374629        HIGH  \n",
       "19185                             3.5224205090        HIGH  \n",
       "\n",
       "[15235 rows x 21 columns]"
      ]
     },
     "execution_count": 43,
     "metadata": {},
     "output_type": "execute_result"
    }
   ],
   "source": [
    "# Read the the master SLC 'validation' partition labels CSV file in chunks, filtering on train dataset scene_ids.\n",
    "df_labels_train = pd.concat(\n",
    "    filter_rows(chunk, 'scene_id', train_scene_ids)\n",
    "    for chunk in pd.read_csv('./SARFish_labels/validation/SLC/SLC_validation_labels.csv', chunksize=5000)\n",
    ")\n",
    "# Display a few rows\n",
    "df_labels_train"
   ]
  },
  {
   "cell_type": "markdown",
   "id": "1b040fcd-1d99-44b5-9592-558247587721",
   "metadata": {},
   "source": [
    "There are a total of 15,235 label entries across the 40 training scenes."
   ]
  },
  {
   "cell_type": "code",
   "execution_count": 44,
   "id": "9e7cb7b8-e37c-481a-a1b9-fa3ba586cc00",
   "metadata": {
    "tags": []
   },
   "outputs": [
    {
     "data": {
      "text/plain": [
       "detect_id\n",
       "5c3d986db930f848v_065.43694542999999441690_-21.17495764999999963152    2\n",
       "5e9a2c1bcf179e9bv_056.20117016999999748350_007.25929560700000031659    2\n",
       "4da9db72dea50504v_006.04193965600000026939_004.46055697799999961717    2\n",
       "4da9db72dea50504v_005.36500317299999984755_004.31411007899999976445    2\n",
       "b1844cde847a3942v_005.32469935700000007728_004.31322601100000024843    2\n",
       "                                                                      ..\n",
       "4a97701b4bd81bf7v_057.66493117000000268035_006.89090410699999988964    2\n",
       "4a97701b4bd81bf7v_058.10224829999999940355_007.03281236599999992620    2\n",
       "4a97701b4bd81bf7v_057.64114407000000284143_006.85491939200000022225    2\n",
       "4a97701b4bd81bf7v_058.04971403999999779444_006.98266058100000019948    2\n",
       "377410f6ab9824dfv_006.02922705100000033696_003.64273458300000019250    2\n",
       "Name: count, Length: 223, dtype: int64"
      ]
     },
     "execution_count": 44,
     "metadata": {},
     "output_type": "execute_result"
    }
   ],
   "source": [
    "# Check for duplicates\n",
    "duplicates_val = df_labels_train[df_labels_train.duplicated(subset=['detect_id'], keep=False)]\n",
    "duplicates_val['detect_id'].value_counts()"
   ]
  },
  {
   "cell_type": "markdown",
   "id": "5b4545ab-2a86-4149-85b4-14af3c2cd372",
   "metadata": {},
   "source": [
    "223 duplicate detection IDs were found."
   ]
  },
  {
   "cell_type": "markdown",
   "id": "cac6ff23-f2b9-42a3-98cb-0a4deaab8170",
   "metadata": {},
   "source": [
    "Now filter the the dataframe for labels that meet the requirements:"
   ]
  },
  {
   "cell_type": "code",
   "execution_count": 45,
   "id": "baa4d2c9-b593-43ff-9474-54fa37a19332",
   "metadata": {
    "tags": []
   },
   "outputs": [
    {
     "data": {
      "text/html": [
       "<div>\n",
       "<style scoped>\n",
       "    .dataframe tbody tr th:only-of-type {\n",
       "        vertical-align: middle;\n",
       "    }\n",
       "\n",
       "    .dataframe tbody tr th {\n",
       "        vertical-align: top;\n",
       "    }\n",
       "\n",
       "    .dataframe thead th {\n",
       "        text-align: right;\n",
       "    }\n",
       "</style>\n",
       "<table border=\"1\" class=\"dataframe\">\n",
       "  <thead>\n",
       "    <tr style=\"text-align: right;\">\n",
       "      <th></th>\n",
       "      <th>partition</th>\n",
       "      <th>product_type</th>\n",
       "      <th>scene_id</th>\n",
       "      <th>detect_id</th>\n",
       "      <th>SLC_product_identifier</th>\n",
       "      <th>swath_index</th>\n",
       "      <th>detect_lat</th>\n",
       "      <th>detect_lon</th>\n",
       "      <th>detect_scene_column</th>\n",
       "      <th>detect_scene_row</th>\n",
       "      <th>...</th>\n",
       "      <th>left</th>\n",
       "      <th>bottom</th>\n",
       "      <th>right</th>\n",
       "      <th>vessel_length_m</th>\n",
       "      <th>source</th>\n",
       "      <th>is_vessel</th>\n",
       "      <th>is_fishing</th>\n",
       "      <th>global_shoreline_vector_distance_from_shore_km</th>\n",
       "      <th>xView3_shoreline_distance_from_shore_km</th>\n",
       "      <th>confidence</th>\n",
       "    </tr>\n",
       "  </thead>\n",
       "  <tbody>\n",
       "    <tr>\n",
       "      <th>22</th>\n",
       "      <td>validation</td>\n",
       "      <td>SLC</td>\n",
       "      <td>5c3d986db930f848v</td>\n",
       "      <td>5c3d986db930f848v_065.98324671999999679883_-20.70595078999999927305</td>\n",
       "      <td>S1B_IW_SLC__1SDV_20200803T075720_20200803T075748_022756_02B2FF_E5D2</td>\n",
       "      <td>1</td>\n",
       "      <td>65.983246720</td>\n",
       "      <td>-20.705950790</td>\n",
       "      <td>18289.0</td>\n",
       "      <td>8503.0</td>\n",
       "      <td>...</td>\n",
       "      <td>18282.0</td>\n",
       "      <td>8500.0</td>\n",
       "      <td>18293.0</td>\n",
       "      <td>9.97000000</td>\n",
       "      <td>ais/manual</td>\n",
       "      <td>True</td>\n",
       "      <td>True</td>\n",
       "      <td>9999.9900000000</td>\n",
       "      <td>9999.9900000000</td>\n",
       "      <td>HIGH</td>\n",
       "    </tr>\n",
       "    <tr>\n",
       "      <th>23</th>\n",
       "      <td>validation</td>\n",
       "      <td>SLC</td>\n",
       "      <td>5c3d986db930f848v</td>\n",
       "      <td>5c3d986db930f848v_065.60488521000000616823_-21.09645533999999855723</td>\n",
       "      <td>S1B_IW_SLC__1SDV_20200803T075720_20200803T075748_022756_02B2FF_E5D2</td>\n",
       "      <td>1</td>\n",
       "      <td>65.604885210</td>\n",
       "      <td>-21.096455340</td>\n",
       "      <td>20344.0</td>\n",
       "      <td>5257.0</td>\n",
       "      <td>...</td>\n",
       "      <td>20335.0</td>\n",
       "      <td>5255.0</td>\n",
       "      <td>20350.0</td>\n",
       "      <td>11.51000000</td>\n",
       "      <td>ais/manual</td>\n",
       "      <td>True</td>\n",
       "      <td>True</td>\n",
       "      <td>7.9485651366</td>\n",
       "      <td>7.5869432758</td>\n",
       "      <td>HIGH</td>\n",
       "    </tr>\n",
       "    <tr>\n",
       "      <th>25</th>\n",
       "      <td>validation</td>\n",
       "      <td>SLC</td>\n",
       "      <td>5c3d986db930f848v</td>\n",
       "      <td>5c3d986db930f848v_065.96593518000000244683_-20.62517562000000026501</td>\n",
       "      <td>S1B_IW_SLC__1SDV_20200803T075720_20200803T075748_022756_02B2FF_E5D2</td>\n",
       "      <td>1</td>\n",
       "      <td>65.965935180</td>\n",
       "      <td>-20.625175620</td>\n",
       "      <td>17290.0</td>\n",
       "      <td>8426.0</td>\n",
       "      <td>...</td>\n",
       "      <td>17279.0</td>\n",
       "      <td>8421.0</td>\n",
       "      <td>17298.0</td>\n",
       "      <td>11.10000000</td>\n",
       "      <td>ais/manual</td>\n",
       "      <td>True</td>\n",
       "      <td>True</td>\n",
       "      <td>9999.9900000000</td>\n",
       "      <td>9999.9900000000</td>\n",
       "      <td>HIGH</td>\n",
       "    </tr>\n",
       "    <tr>\n",
       "      <th>30</th>\n",
       "      <td>validation</td>\n",
       "      <td>SLC</td>\n",
       "      <td>5c3d986db930f848v</td>\n",
       "      <td>5c3d986db930f848v_066.13229690999999377254_-19.98992583000000067273</td>\n",
       "      <td>S1B_IW_SLC__1SDV_20200803T075720_20200803T075748_022756_02B2FF_E5D2</td>\n",
       "      <td>1</td>\n",
       "      <td>66.132296910</td>\n",
       "      <td>-19.989925830</td>\n",
       "      <td>11494.0</td>\n",
       "      <td>10195.0</td>\n",
       "      <td>...</td>\n",
       "      <td>11489.0</td>\n",
       "      <td>10194.0</td>\n",
       "      <td>11497.0</td>\n",
       "      <td>14.98000000</td>\n",
       "      <td>ais/manual</td>\n",
       "      <td>True</td>\n",
       "      <td>True</td>\n",
       "      <td>4.9784111927</td>\n",
       "      <td>5.2402711048</td>\n",
       "      <td>HIGH</td>\n",
       "    </tr>\n",
       "    <tr>\n",
       "      <th>33</th>\n",
       "      <td>validation</td>\n",
       "      <td>SLC</td>\n",
       "      <td>5c3d986db930f848v</td>\n",
       "      <td>5c3d986db930f848v_066.33721583999999893422_-18.87526499999999884949</td>\n",
       "      <td>S1B_IW_SLC__1SDV_20200803T075720_20200803T075748_022756_02B2FF_E5D2</td>\n",
       "      <td>1</td>\n",
       "      <td>66.337215840</td>\n",
       "      <td>-18.875265000</td>\n",
       "      <td>1589.0</td>\n",
       "      <td>12651.0</td>\n",
       "      <td>...</td>\n",
       "      <td>1576.0</td>\n",
       "      <td>12645.0</td>\n",
       "      <td>1599.0</td>\n",
       "      <td>14.80000000</td>\n",
       "      <td>ais/manual</td>\n",
       "      <td>True</td>\n",
       "      <td>True</td>\n",
       "      <td>9999.9900000000</td>\n",
       "      <td>9999.9900000000</td>\n",
       "      <td>HIGH</td>\n",
       "    </tr>\n",
       "    <tr>\n",
       "      <th>...</th>\n",
       "      <td>...</td>\n",
       "      <td>...</td>\n",
       "      <td>...</td>\n",
       "      <td>...</td>\n",
       "      <td>...</td>\n",
       "      <td>...</td>\n",
       "      <td>...</td>\n",
       "      <td>...</td>\n",
       "      <td>...</td>\n",
       "      <td>...</td>\n",
       "      <td>...</td>\n",
       "      <td>...</td>\n",
       "      <td>...</td>\n",
       "      <td>...</td>\n",
       "      <td>...</td>\n",
       "      <td>...</td>\n",
       "      <td>...</td>\n",
       "      <td>...</td>\n",
       "      <td>...</td>\n",
       "      <td>...</td>\n",
       "      <td>...</td>\n",
       "    </tr>\n",
       "    <tr>\n",
       "      <th>19179</th>\n",
       "      <td>validation</td>\n",
       "      <td>SLC</td>\n",
       "      <td>377410f6ab9824dfv</td>\n",
       "      <td>377410f6ab9824dfv_006.33977017199999970387_003.35668044700000001157</td>\n",
       "      <td>S1A_IW_SLC__1SDV_20200407T052956_20200407T053026_032017_03B2E2_18FA</td>\n",
       "      <td>3</td>\n",
       "      <td>6.339770172</td>\n",
       "      <td>3.356680447</td>\n",
       "      <td>11364.0</td>\n",
       "      <td>8385.0</td>\n",
       "      <td>...</td>\n",
       "      <td>11345.0</td>\n",
       "      <td>8382.0</td>\n",
       "      <td>11384.0</td>\n",
       "      <td>64.87461302</td>\n",
       "      <td>ais/manual</td>\n",
       "      <td>True</td>\n",
       "      <td>False</td>\n",
       "      <td>6.5084871675</td>\n",
       "      <td>6.6980791736</td>\n",
       "      <td>HIGH</td>\n",
       "    </tr>\n",
       "    <tr>\n",
       "      <th>19180</th>\n",
       "      <td>validation</td>\n",
       "      <td>SLC</td>\n",
       "      <td>377410f6ab9824dfv</td>\n",
       "      <td>377410f6ab9824dfv_006.29591264799999983381_003.33278283300000000011</td>\n",
       "      <td>S1A_IW_SLC__1SDV_20200407T052956_20200407T053026_032017_03B2E2_18FA</td>\n",
       "      <td>3</td>\n",
       "      <td>6.295912648</td>\n",
       "      <td>3.332782833</td>\n",
       "      <td>11848.0</td>\n",
       "      <td>8008.0</td>\n",
       "      <td>...</td>\n",
       "      <td>11816.0</td>\n",
       "      <td>8003.0</td>\n",
       "      <td>11880.0</td>\n",
       "      <td>92.09711576</td>\n",
       "      <td>ais/manual</td>\n",
       "      <td>True</td>\n",
       "      <td>False</td>\n",
       "      <td>9999.9900000000</td>\n",
       "      <td>9999.9900000000</td>\n",
       "      <td>HIGH</td>\n",
       "    </tr>\n",
       "    <tr>\n",
       "      <th>19183</th>\n",
       "      <td>validation</td>\n",
       "      <td>SLC</td>\n",
       "      <td>377410f6ab9824dfv</td>\n",
       "      <td>377410f6ab9824dfv_006.28999598099999968071_003.23360257100000003661</td>\n",
       "      <td>S1A_IW_SLC__1SDV_20200407T052956_20200407T053026_032017_03B2E2_18FA</td>\n",
       "      <td>3</td>\n",
       "      <td>6.289995981</td>\n",
       "      <td>3.233602571</td>\n",
       "      <td>15029.0</td>\n",
       "      <td>7806.0</td>\n",
       "      <td>...</td>\n",
       "      <td>14983.0</td>\n",
       "      <td>7799.0</td>\n",
       "      <td>15071.0</td>\n",
       "      <td>234.08431390</td>\n",
       "      <td>ais/manual</td>\n",
       "      <td>True</td>\n",
       "      <td>False</td>\n",
       "      <td>9999.9900000000</td>\n",
       "      <td>9999.9900000000</td>\n",
       "      <td>HIGH</td>\n",
       "    </tr>\n",
       "    <tr>\n",
       "      <th>19184</th>\n",
       "      <td>validation</td>\n",
       "      <td>SLC</td>\n",
       "      <td>377410f6ab9824dfv</td>\n",
       "      <td>377410f6ab9824dfv_006.36177788400000032709_003.31700163200000019970</td>\n",
       "      <td>S1A_IW_SLC__1SDV_20200407T052956_20200407T053026_032017_03B2E2_18FA</td>\n",
       "      <td>3</td>\n",
       "      <td>6.361777884</td>\n",
       "      <td>3.317001632</td>\n",
       "      <td>12791.0</td>\n",
       "      <td>8493.0</td>\n",
       "      <td>...</td>\n",
       "      <td>12748.0</td>\n",
       "      <td>8488.0</td>\n",
       "      <td>12835.0</td>\n",
       "      <td>109.96308340</td>\n",
       "      <td>ais/manual</td>\n",
       "      <td>True</td>\n",
       "      <td>False</td>\n",
       "      <td>4.3938699883</td>\n",
       "      <td>4.7675374629</td>\n",
       "      <td>HIGH</td>\n",
       "    </tr>\n",
       "    <tr>\n",
       "      <th>19185</th>\n",
       "      <td>validation</td>\n",
       "      <td>SLC</td>\n",
       "      <td>377410f6ab9824dfv</td>\n",
       "      <td>377410f6ab9824dfv_006.36544217700000025673_003.38282932300000016568</td>\n",
       "      <td>S1A_IW_SLC__1SDV_20200407T052956_20200407T053026_032017_03B2E2_18FA</td>\n",
       "      <td>3</td>\n",
       "      <td>6.365442177</td>\n",
       "      <td>3.382829323</td>\n",
       "      <td>10690.0</td>\n",
       "      <td>8625.0</td>\n",
       "      <td>...</td>\n",
       "      <td>10680.0</td>\n",
       "      <td>8623.0</td>\n",
       "      <td>10701.0</td>\n",
       "      <td>26.74146001</td>\n",
       "      <td>ais/manual</td>\n",
       "      <td>True</td>\n",
       "      <td>True</td>\n",
       "      <td>3.3176478972</td>\n",
       "      <td>3.5224205090</td>\n",
       "      <td>HIGH</td>\n",
       "    </tr>\n",
       "  </tbody>\n",
       "</table>\n",
       "<p>3139 rows × 21 columns</p>\n",
       "</div>"
      ],
      "text/plain": [
       "        partition product_type           scene_id  \\\n",
       "22     validation          SLC  5c3d986db930f848v   \n",
       "23     validation          SLC  5c3d986db930f848v   \n",
       "25     validation          SLC  5c3d986db930f848v   \n",
       "30     validation          SLC  5c3d986db930f848v   \n",
       "33     validation          SLC  5c3d986db930f848v   \n",
       "...           ...          ...                ...   \n",
       "19179  validation          SLC  377410f6ab9824dfv   \n",
       "19180  validation          SLC  377410f6ab9824dfv   \n",
       "19183  validation          SLC  377410f6ab9824dfv   \n",
       "19184  validation          SLC  377410f6ab9824dfv   \n",
       "19185  validation          SLC  377410f6ab9824dfv   \n",
       "\n",
       "                                                                 detect_id  \\\n",
       "22     5c3d986db930f848v_065.98324671999999679883_-20.70595078999999927305   \n",
       "23     5c3d986db930f848v_065.60488521000000616823_-21.09645533999999855723   \n",
       "25     5c3d986db930f848v_065.96593518000000244683_-20.62517562000000026501   \n",
       "30     5c3d986db930f848v_066.13229690999999377254_-19.98992583000000067273   \n",
       "33     5c3d986db930f848v_066.33721583999999893422_-18.87526499999999884949   \n",
       "...                                                                    ...   \n",
       "19179  377410f6ab9824dfv_006.33977017199999970387_003.35668044700000001157   \n",
       "19180  377410f6ab9824dfv_006.29591264799999983381_003.33278283300000000011   \n",
       "19183  377410f6ab9824dfv_006.28999598099999968071_003.23360257100000003661   \n",
       "19184  377410f6ab9824dfv_006.36177788400000032709_003.31700163200000019970   \n",
       "19185  377410f6ab9824dfv_006.36544217700000025673_003.38282932300000016568   \n",
       "\n",
       "                                                    SLC_product_identifier  \\\n",
       "22     S1B_IW_SLC__1SDV_20200803T075720_20200803T075748_022756_02B2FF_E5D2   \n",
       "23     S1B_IW_SLC__1SDV_20200803T075720_20200803T075748_022756_02B2FF_E5D2   \n",
       "25     S1B_IW_SLC__1SDV_20200803T075720_20200803T075748_022756_02B2FF_E5D2   \n",
       "30     S1B_IW_SLC__1SDV_20200803T075720_20200803T075748_022756_02B2FF_E5D2   \n",
       "33     S1B_IW_SLC__1SDV_20200803T075720_20200803T075748_022756_02B2FF_E5D2   \n",
       "...                                                                    ...   \n",
       "19179  S1A_IW_SLC__1SDV_20200407T052956_20200407T053026_032017_03B2E2_18FA   \n",
       "19180  S1A_IW_SLC__1SDV_20200407T052956_20200407T053026_032017_03B2E2_18FA   \n",
       "19183  S1A_IW_SLC__1SDV_20200407T052956_20200407T053026_032017_03B2E2_18FA   \n",
       "19184  S1A_IW_SLC__1SDV_20200407T052956_20200407T053026_032017_03B2E2_18FA   \n",
       "19185  S1A_IW_SLC__1SDV_20200407T052956_20200407T053026_032017_03B2E2_18FA   \n",
       "\n",
       "       swath_index    detect_lat    detect_lon  detect_scene_column  \\\n",
       "22               1  65.983246720 -20.705950790              18289.0   \n",
       "23               1  65.604885210 -21.096455340              20344.0   \n",
       "25               1  65.965935180 -20.625175620              17290.0   \n",
       "30               1  66.132296910 -19.989925830              11494.0   \n",
       "33               1  66.337215840 -18.875265000               1589.0   \n",
       "...            ...           ...           ...                  ...   \n",
       "19179            3   6.339770172   3.356680447              11364.0   \n",
       "19180            3   6.295912648   3.332782833              11848.0   \n",
       "19183            3   6.289995981   3.233602571              15029.0   \n",
       "19184            3   6.361777884   3.317001632              12791.0   \n",
       "19185            3   6.365442177   3.382829323              10690.0   \n",
       "\n",
       "       detect_scene_row  ...     left   bottom    right  vessel_length_m  \\\n",
       "22               8503.0  ...  18282.0   8500.0  18293.0       9.97000000   \n",
       "23               5257.0  ...  20335.0   5255.0  20350.0      11.51000000   \n",
       "25               8426.0  ...  17279.0   8421.0  17298.0      11.10000000   \n",
       "30              10195.0  ...  11489.0  10194.0  11497.0      14.98000000   \n",
       "33              12651.0  ...   1576.0  12645.0   1599.0      14.80000000   \n",
       "...                 ...  ...      ...      ...      ...              ...   \n",
       "19179            8385.0  ...  11345.0   8382.0  11384.0      64.87461302   \n",
       "19180            8008.0  ...  11816.0   8003.0  11880.0      92.09711576   \n",
       "19183            7806.0  ...  14983.0   7799.0  15071.0     234.08431390   \n",
       "19184            8493.0  ...  12748.0   8488.0  12835.0     109.96308340   \n",
       "19185            8625.0  ...  10680.0   8623.0  10701.0      26.74146001   \n",
       "\n",
       "           source is_vessel is_fishing  \\\n",
       "22     ais/manual      True       True   \n",
       "23     ais/manual      True       True   \n",
       "25     ais/manual      True       True   \n",
       "30     ais/manual      True       True   \n",
       "33     ais/manual      True       True   \n",
       "...           ...       ...        ...   \n",
       "19179  ais/manual      True      False   \n",
       "19180  ais/manual      True      False   \n",
       "19183  ais/manual      True      False   \n",
       "19184  ais/manual      True      False   \n",
       "19185  ais/manual      True       True   \n",
       "\n",
       "      global_shoreline_vector_distance_from_shore_km  \\\n",
       "22                                   9999.9900000000   \n",
       "23                                      7.9485651366   \n",
       "25                                   9999.9900000000   \n",
       "30                                      4.9784111927   \n",
       "33                                   9999.9900000000   \n",
       "...                                              ...   \n",
       "19179                                   6.5084871675   \n",
       "19180                                9999.9900000000   \n",
       "19183                                9999.9900000000   \n",
       "19184                                   4.3938699883   \n",
       "19185                                   3.3176478972   \n",
       "\n",
       "       xView3_shoreline_distance_from_shore_km  confidence  \n",
       "22                             9999.9900000000        HIGH  \n",
       "23                                7.5869432758        HIGH  \n",
       "25                             9999.9900000000        HIGH  \n",
       "30                                5.2402711048        HIGH  \n",
       "33                             9999.9900000000        HIGH  \n",
       "...                                        ...         ...  \n",
       "19179                             6.6980791736        HIGH  \n",
       "19180                          9999.9900000000        HIGH  \n",
       "19183                          9999.9900000000        HIGH  \n",
       "19184                             4.7675374629        HIGH  \n",
       "19185                             3.5224205090        HIGH  \n",
       "\n",
       "[3139 rows x 21 columns]"
      ]
     },
     "execution_count": 45,
     "metadata": {},
     "output_type": "execute_result"
    }
   ],
   "source": [
    "# Filter for true vessels detections which are either fishing or not and for which there is HIGH or MEDIUM confidence and\n",
    "# where the pixels locations of all four corners of the bounding box are not missing\n",
    "col_range = ['top', 'left', 'bottom', 'right'] # bounding box corner pixels\n",
    "\n",
    "df_labels_train_filt = df_labels_train[ ( (df_labels_train['is_vessel'] == True) & (df_labels_train['is_fishing'].notnull() ) &  \n",
    "                                    ( (df_labels_train['confidence'] == 'HIGH') | (df_labels_train['confidence'] == 'MEDIUM') ) & \n",
    "                                       df_labels_train[col_range].notnull().all(axis=1)) ]                                   \n",
    "# Display a few rows\n",
    "df_labels_train_filt"
   ]
  },
  {
   "cell_type": "markdown",
   "id": "40657d0c-d431-48ef-b5d1-6864538de780",
   "metadata": {},
   "source": [
    "There are 3,139 labels in the train dataset that meet the selection criteria."
   ]
  },
  {
   "cell_type": "code",
   "execution_count": 46,
   "id": "c3600c86-670e-4093-bd7a-22913c4521d6",
   "metadata": {
    "tags": []
   },
   "outputs": [
    {
     "data": {
      "text/html": [
       "<div>\n",
       "<style scoped>\n",
       "    .dataframe tbody tr th:only-of-type {\n",
       "        vertical-align: middle;\n",
       "    }\n",
       "\n",
       "    .dataframe tbody tr th {\n",
       "        vertical-align: top;\n",
       "    }\n",
       "\n",
       "    .dataframe thead th {\n",
       "        text-align: right;\n",
       "    }\n",
       "</style>\n",
       "<table border=\"1\" class=\"dataframe\">\n",
       "  <thead>\n",
       "    <tr style=\"text-align: right;\">\n",
       "      <th></th>\n",
       "      <th>partition</th>\n",
       "      <th>product_type</th>\n",
       "      <th>scene_id</th>\n",
       "      <th>detect_id</th>\n",
       "      <th>swath_index</th>\n",
       "      <th>detect_scene_column</th>\n",
       "      <th>detect_scene_row</th>\n",
       "      <th>top</th>\n",
       "      <th>left</th>\n",
       "      <th>bottom</th>\n",
       "      <th>right</th>\n",
       "      <th>vessel_length_m</th>\n",
       "      <th>is_vessel</th>\n",
       "      <th>is_fishing</th>\n",
       "      <th>confidence</th>\n",
       "    </tr>\n",
       "  </thead>\n",
       "  <tbody>\n",
       "    <tr>\n",
       "      <th>22</th>\n",
       "      <td>validation</td>\n",
       "      <td>SLC</td>\n",
       "      <td>5c3d986db930f848v</td>\n",
       "      <td>...71999999679883_-20.70595078999999927305</td>\n",
       "      <td>1</td>\n",
       "      <td>18289.0</td>\n",
       "      <td>8503.0</td>\n",
       "      <td>8506.0</td>\n",
       "      <td>18282.0</td>\n",
       "      <td>8500.0</td>\n",
       "      <td>18293.0</td>\n",
       "      <td>9.97</td>\n",
       "      <td>True</td>\n",
       "      <td>True</td>\n",
       "      <td>HIGH</td>\n",
       "    </tr>\n",
       "    <tr>\n",
       "      <th>23</th>\n",
       "      <td>validation</td>\n",
       "      <td>SLC</td>\n",
       "      <td>5c3d986db930f848v</td>\n",
       "      <td>...21000000616823_-21.09645533999999855723</td>\n",
       "      <td>1</td>\n",
       "      <td>20344.0</td>\n",
       "      <td>5257.0</td>\n",
       "      <td>5259.0</td>\n",
       "      <td>20335.0</td>\n",
       "      <td>5255.0</td>\n",
       "      <td>20350.0</td>\n",
       "      <td>11.51</td>\n",
       "      <td>True</td>\n",
       "      <td>True</td>\n",
       "      <td>HIGH</td>\n",
       "    </tr>\n",
       "    <tr>\n",
       "      <th>25</th>\n",
       "      <td>validation</td>\n",
       "      <td>SLC</td>\n",
       "      <td>5c3d986db930f848v</td>\n",
       "      <td>...18000000244683_-20.62517562000000026501</td>\n",
       "      <td>1</td>\n",
       "      <td>17290.0</td>\n",
       "      <td>8426.0</td>\n",
       "      <td>8431.0</td>\n",
       "      <td>17279.0</td>\n",
       "      <td>8421.0</td>\n",
       "      <td>17298.0</td>\n",
       "      <td>11.10</td>\n",
       "      <td>True</td>\n",
       "      <td>True</td>\n",
       "      <td>HIGH</td>\n",
       "    </tr>\n",
       "    <tr>\n",
       "      <th>30</th>\n",
       "      <td>validation</td>\n",
       "      <td>SLC</td>\n",
       "      <td>5c3d986db930f848v</td>\n",
       "      <td>...90999999377254_-19.98992583000000067273</td>\n",
       "      <td>1</td>\n",
       "      <td>11494.0</td>\n",
       "      <td>10195.0</td>\n",
       "      <td>10196.0</td>\n",
       "      <td>11489.0</td>\n",
       "      <td>10194.0</td>\n",
       "      <td>11497.0</td>\n",
       "      <td>14.98</td>\n",
       "      <td>True</td>\n",
       "      <td>True</td>\n",
       "      <td>HIGH</td>\n",
       "    </tr>\n",
       "    <tr>\n",
       "      <th>33</th>\n",
       "      <td>validation</td>\n",
       "      <td>SLC</td>\n",
       "      <td>5c3d986db930f848v</td>\n",
       "      <td>...83999999893422_-18.87526499999999884949</td>\n",
       "      <td>1</td>\n",
       "      <td>1589.0</td>\n",
       "      <td>12651.0</td>\n",
       "      <td>12656.0</td>\n",
       "      <td>1576.0</td>\n",
       "      <td>12645.0</td>\n",
       "      <td>1599.0</td>\n",
       "      <td>14.80</td>\n",
       "      <td>True</td>\n",
       "      <td>True</td>\n",
       "      <td>HIGH</td>\n",
       "    </tr>\n",
       "  </tbody>\n",
       "</table>\n",
       "</div>"
      ],
      "text/plain": [
       "     partition product_type           scene_id  \\\n",
       "22  validation          SLC  5c3d986db930f848v   \n",
       "23  validation          SLC  5c3d986db930f848v   \n",
       "25  validation          SLC  5c3d986db930f848v   \n",
       "30  validation          SLC  5c3d986db930f848v   \n",
       "33  validation          SLC  5c3d986db930f848v   \n",
       "\n",
       "                                     detect_id  swath_index  \\\n",
       "22  ...71999999679883_-20.70595078999999927305            1   \n",
       "23  ...21000000616823_-21.09645533999999855723            1   \n",
       "25  ...18000000244683_-20.62517562000000026501            1   \n",
       "30  ...90999999377254_-19.98992583000000067273            1   \n",
       "33  ...83999999893422_-18.87526499999999884949            1   \n",
       "\n",
       "    detect_scene_column  detect_scene_row      top     left   bottom    right  \\\n",
       "22              18289.0            8503.0   8506.0  18282.0   8500.0  18293.0   \n",
       "23              20344.0            5257.0   5259.0  20335.0   5255.0  20350.0   \n",
       "25              17290.0            8426.0   8431.0  17279.0   8421.0  17298.0   \n",
       "30              11494.0           10195.0  10196.0  11489.0  10194.0  11497.0   \n",
       "33               1589.0           12651.0  12656.0   1576.0  12645.0   1599.0   \n",
       "\n",
       "    vessel_length_m is_vessel is_fishing confidence  \n",
       "22             9.97      True       True       HIGH  \n",
       "23            11.51      True       True       HIGH  \n",
       "25            11.10      True       True       HIGH  \n",
       "30            14.98      True       True       HIGH  \n",
       "33            14.80      True       True       HIGH  "
      ]
     },
     "execution_count": 46,
     "metadata": {},
     "output_type": "execute_result"
    }
   ],
   "source": [
    "# Display an abbreviated column version of the previous dataframe\n",
    "df_labels_train_filt_abv = (df_labels_train_filt[['partition','product_type','scene_id','detect_id','swath_index',\n",
    "                                                  'detect_scene_column','detect_scene_row','top','left','bottom','right',\n",
    "                                                  'vessel_length_m','is_vessel','is_fishing','confidence']]\n",
    "                            .assign(detect_id=lambda x: '...' + x['detect_id'].str[-39:]))\n",
    "# Display a few rows\n",
    "df_labels_train_filt_abv.head()"
   ]
  },
  {
   "cell_type": "markdown",
   "id": "61a2a87c-aa94-4b50-9326-3b2f56c9e39c",
   "metadata": {},
   "source": [
    "The abbreviated display sample, above, shows the columns used for the selection cirteria: 'is_vessel' == True, 'is_fishing' is not missing and confidence has a valid value and all bounding box coordinates are populated. "
   ]
  },
  {
   "cell_type": "markdown",
   "id": "8be50212-db7e-4420-851f-7a7d43cefc9f",
   "metadata": {},
   "source": [
    "Determine if any any swaths have missing labels:"
   ]
  },
  {
   "cell_type": "code",
   "execution_count": 47,
   "id": "db93c32d-c056-4607-b731-f1a895e3ca9e",
   "metadata": {
    "tags": []
   },
   "outputs": [
    {
     "data": {
      "text/html": [
       "<div>\n",
       "<style scoped>\n",
       "    .dataframe tbody tr th:only-of-type {\n",
       "        vertical-align: middle;\n",
       "    }\n",
       "\n",
       "    .dataframe tbody tr th {\n",
       "        vertical-align: top;\n",
       "    }\n",
       "\n",
       "    .dataframe thead th {\n",
       "        text-align: right;\n",
       "    }\n",
       "</style>\n",
       "<table border=\"1\" class=\"dataframe\">\n",
       "  <thead>\n",
       "    <tr style=\"text-align: right;\">\n",
       "      <th></th>\n",
       "      <th>scene_id</th>\n",
       "      <th>swaths_with_labels</th>\n",
       "      <th>swaths_missing_labels</th>\n",
       "    </tr>\n",
       "  </thead>\n",
       "  <tbody>\n",
       "    <tr>\n",
       "      <th>1</th>\n",
       "      <td>0e309957cef7bdc8v</td>\n",
       "      <td>{3}</td>\n",
       "      <td>{1, 2}</td>\n",
       "    </tr>\n",
       "    <tr>\n",
       "      <th>2</th>\n",
       "      <td>128443d1e98e2839v</td>\n",
       "      <td>{1, 2}</td>\n",
       "      <td>{3}</td>\n",
       "    </tr>\n",
       "    <tr>\n",
       "      <th>3</th>\n",
       "      <td>13dd786ee6c95e06v</td>\n",
       "      <td>{1, 2}</td>\n",
       "      <td>{3}</td>\n",
       "    </tr>\n",
       "    <tr>\n",
       "      <th>9</th>\n",
       "      <td>3ceef682fbe4930av</td>\n",
       "      <td>{1, 2}</td>\n",
       "      <td>{3}</td>\n",
       "    </tr>\n",
       "    <tr>\n",
       "      <th>17</th>\n",
       "      <td>75c03770095c6d9ev</td>\n",
       "      <td>{2, 3}</td>\n",
       "      <td>{1}</td>\n",
       "    </tr>\n",
       "    <tr>\n",
       "      <th>19</th>\n",
       "      <td>844545c005776fb1v</td>\n",
       "      <td>{1, 2}</td>\n",
       "      <td>{3}</td>\n",
       "    </tr>\n",
       "    <tr>\n",
       "      <th>21</th>\n",
       "      <td>9a5aa7310c195f14v</td>\n",
       "      <td>{1, 2}</td>\n",
       "      <td>{3}</td>\n",
       "    </tr>\n",
       "    <tr>\n",
       "      <th>28</th>\n",
       "      <td>acf76647ba3f524bv</td>\n",
       "      <td>{1, 3}</td>\n",
       "      <td>{2}</td>\n",
       "    </tr>\n",
       "    <tr>\n",
       "      <th>30</th>\n",
       "      <td>c8bbfb37522617e9v</td>\n",
       "      <td>{1, 3}</td>\n",
       "      <td>{2}</td>\n",
       "    </tr>\n",
       "  </tbody>\n",
       "</table>\n",
       "</div>"
      ],
      "text/plain": [
       "             scene_id swaths_with_labels swaths_missing_labels\n",
       "1   0e309957cef7bdc8v                {3}                {1, 2}\n",
       "2   128443d1e98e2839v             {1, 2}                   {3}\n",
       "3   13dd786ee6c95e06v             {1, 2}                   {3}\n",
       "9   3ceef682fbe4930av             {1, 2}                   {3}\n",
       "17  75c03770095c6d9ev             {2, 3}                   {1}\n",
       "19  844545c005776fb1v             {1, 2}                   {3}\n",
       "21  9a5aa7310c195f14v             {1, 2}                   {3}\n",
       "28  acf76647ba3f524bv             {1, 3}                   {2}\n",
       "30  c8bbfb37522617e9v             {1, 3}                   {2}"
      ]
     },
     "execution_count": 47,
     "metadata": {},
     "output_type": "execute_result"
    }
   ],
   "source": [
    "# First, get the full set of expected swath indices\n",
    "expected_swaths = set([1, 2, 3])\n",
    "# Group by scene_id_ and collect the actual swath indices\n",
    "swaths_with_labels = df_labels_train_filt.groupby('scene_id')['swath_index'].apply(set).reset_index(name='swaths_with_labels')\n",
    "# Find the difference between expected and actual for each scene\n",
    "swaths_with_labels['swaths_missing_labels'] = swaths_with_labels['swaths_with_labels'].apply(lambda x: expected_swaths - x)\n",
    "# Filter down to scenes missing one or more swaths\n",
    "scenes_with_gaps = swaths_with_labels[swaths_with_labels['swaths_missing_labels'].apply(len) > 0]\n",
    "# Display scenes with one or more swaths with missing labels\n",
    "scenes_with_gaps"
   ]
  },
  {
   "cell_type": "markdown",
   "id": "6a557b09-2845-4f17-8b39-18ef0f4b6a5c",
   "metadata": {},
   "source": [
    "There are 9 scenes that have at least one swath without labels."
   ]
  },
  {
   "cell_type": "code",
   "execution_count": 48,
   "id": "51a8b7ef-3e74-4390-aeb1-efb7033c6c08",
   "metadata": {
    "tags": []
   },
   "outputs": [
    {
     "name": "stdout",
     "output_type": "stream",
     "text": [
      "Number of unique scene_id/swath_index entries: 110\n"
     ]
    }
   ],
   "source": [
    "# Determine the number of unique scene_id/swath_index combinations present. \n",
    "# This will indicate the total number of images that meet the selection criteria.\n",
    "unique_combinations = df_labels_train_filt[['scene_id', 'swath_index']].drop_duplicates()\n",
    "count_images = len(unique_combinations)\n",
    "print(f\"Number of unique scene_id/swath_index entries: {count_images}\")"
   ]
  },
  {
   "cell_type": "code",
   "execution_count": 49,
   "id": "519c8ee2-4aca-42ef-a703-3b83962af31f",
   "metadata": {
    "tags": []
   },
   "outputs": [
    {
     "name": "stdout",
     "output_type": "stream",
     "text": [
      "confidence\n",
      "HIGH      3102\n",
      "MEDIUM      37\n",
      "Name: count, dtype: int64\n"
     ]
    }
   ],
   "source": [
    "# Count and display the number of 'HIGH' and 'MEDIUM' confidence labels (including duplicates) in the train dataset\n",
    "labels_count = df_labels_train_filt['confidence'].value_counts()\n",
    "print(labels_count[['HIGH', 'MEDIUM']])"
   ]
  },
  {
   "cell_type": "code",
   "execution_count": 50,
   "id": "cf6303a3-286b-469b-a7b4-aad255c4f90b",
   "metadata": {
    "tags": []
   },
   "outputs": [
    {
     "name": "stdout",
     "output_type": "stream",
     "text": [
      "       is_fishing  is_vessel\n",
      "False        2370        NaN\n",
      "True          769     3139.0\n"
     ]
    }
   ],
   "source": [
    "# Count and display the number of non-fishing vessel and fishing vessel labels in the train dataset\n",
    "class_count = df_labels_train_filt[['is_fishing', 'is_vessel']].apply(pd.Series.value_counts)\n",
    "print(class_count)"
   ]
  },
  {
   "cell_type": "markdown",
   "id": "d3593930-06ca-4815-8a6f-230f8e60eb7d",
   "metadata": {},
   "source": [
    "Summary:\n",
    "\n",
    "* There are a total of **15,235** label entries (rows) in total, encompassing 40 scenes. Of these, **223** have duplicated detection ids. This is attributed to the overlap between adjacent swaths i.e., a detection occurring in the overlap zone is recorded once, having a unique detection id, but is associated with both swaths and considered unique to each swath.\n",
    "* There are a total of **3,139** labels spread across the 40 scenes, which meet the selection criteria. The overwhelming majority are 'HIGH' confidence labels (3102) with only 37 'MEDIUM' confidence labels.\n",
    "* Of the 3,139 vessel detections, **769** (24.5%) are fishing vessels, indicating a class imbalance of approximately **3:1** in favour of non-fishing vessels.\n",
    "* There are **8** scenes identified that have one swath with no labels that meet the selection criteria and **1** scene with two swaths with no labels that meet the selecton criteria. Since each swath is equivalent to one unique image product (i.e. '.tiff' file), this means 10 images in the dataset can't be used. This reduces the total number of images in the train dataset to **110**, down from the original 120.\n",
    "* The bounding box annotations use an **unconventional image origin** (bottom-left) for image coordinates systems. This needs to be accounted for to ensure compatibility downstream of the processing pipeline."
   ]
  },
  {
   "cell_type": "markdown",
   "id": "28d813ec-58d4-4692-b324-cc96ad33ff5d",
   "metadata": {},
   "source": [
    "### 4.2 Training images"
   ]
  },
  {
   "cell_type": "markdown",
   "id": "fe9764f4-2c4a-4e17-a690-b2859caa229c",
   "metadata": {},
   "source": [
    "#### 4.2.1 Statistical summary"
   ]
  },
  {
   "cell_type": "markdown",
   "id": "f8c50016-1152-412b-ade0-f2f415738c46",
   "metadata": {},
   "source": [
    "Compute summary statistics for each SLC VH-polarisation train scene image.\n",
    "\n",
    "(Original images are stored as GeoTIFF files and converted to numpy arrays. The arrays are saved to disk for later use.)"
   ]
  },
  {
   "cell_type": "code",
   "execution_count": 51,
   "id": "44860593-5b25-48a3-93ff-9d792fc9d1aa",
   "metadata": {
    "tags": []
   },
   "outputs": [
    {
     "name": "stdout",
     "output_type": "stream",
     "text": [
      "usage: compute_sar_stats.py [-h] [-j JOBS] [-q] input_path\n",
      "\n",
      "Process NumPy arrays created by unload_sar_data.py and compute statistics. The\n",
      "input directory should contain .npy files and a manifest.json file.\n",
      "\n",
      "positional arguments:\n",
      "  input_path            Path to the directory containing .npy files and\n",
      "                        manifest.json\n",
      "\n",
      "options:\n",
      "  -h, --help            show this help message and exit\n",
      "  -j JOBS, --jobs JOBS  Number of parallel workers (default: auto-detect based\n",
      "                        on CPU cores)\n",
      "  -q, --quiet           Suppress per-file progress messages; only warnings and\n",
      "                        final summary are shown\n"
     ]
    }
   ],
   "source": [
    "%run compute_sar_stats.py -h"
   ]
  },
  {
   "cell_type": "code",
   "execution_count": 52,
   "id": "d3e7d1fa-8dec-407d-b15f-471dabdd93f0",
   "metadata": {
    "tags": []
   },
   "outputs": [],
   "source": [
    "# Compute statistics for all train scene SLC VH-polarisation image arrays \n",
    "# Note: execution time for 120 arrays approx. 70 mins; reduce execution time \n",
    "# by running external to jupyter environment and utilising parallel workers.\n",
    "#%run compute_sar_stats.py {output_path_train} --quiet --jobs 1"
   ]
  },
  {
   "cell_type": "markdown",
   "id": "9ddcc7f2-7597-49a3-905a-ca48403a23a8",
   "metadata": {},
   "source": [
    "Read the output file into a dataframe and display the full results:"
   ]
  },
  {
   "cell_type": "code",
   "execution_count": 53,
   "id": "db75eb13-f83f-4eba-9aea-73a9e1fa98b4",
   "metadata": {
    "tags": []
   },
   "outputs": [
    {
     "data": {
      "text/html": [
       "<div>\n",
       "<style scoped>\n",
       "    .dataframe tbody tr th:only-of-type {\n",
       "        vertical-align: middle;\n",
       "    }\n",
       "\n",
       "    .dataframe tbody tr th {\n",
       "        vertical-align: top;\n",
       "    }\n",
       "\n",
       "    .dataframe thead th {\n",
       "        text-align: right;\n",
       "    }\n",
       "</style>\n",
       "<table border=\"1\" class=\"dataframe\">\n",
       "  <thead>\n",
       "    <tr style=\"text-align: right;\">\n",
       "      <th></th>\n",
       "      <th>scene_id</th>\n",
       "      <th>safe_directory</th>\n",
       "      <th>filename</th>\n",
       "      <th>valid_pixels</th>\n",
       "      <th>nan_count</th>\n",
       "      <th>zero_count</th>\n",
       "      <th>valid_percentage</th>\n",
       "      <th>real_mean</th>\n",
       "      <th>real_std</th>\n",
       "      <th>real_min</th>\n",
       "      <th>...</th>\n",
       "      <th>amplitude_min</th>\n",
       "      <th>amplitude_max</th>\n",
       "      <th>amplitude_median</th>\n",
       "      <th>phase_mean</th>\n",
       "      <th>phase_std</th>\n",
       "      <th>phase_min</th>\n",
       "      <th>phase_max</th>\n",
       "      <th>phase_circular_mean</th>\n",
       "      <th>phase_circular_variance</th>\n",
       "      <th>phase_circular_std</th>\n",
       "    </tr>\n",
       "  </thead>\n",
       "  <tbody>\n",
       "    <tr>\n",
       "      <th>0</th>\n",
       "      <td>335f9a411884e9cbv</td>\n",
       "      <td>S1B_IW_SLC__1SDV_20201018T054753_20201018T054820_023863_02D58D_8CE7.SAFE</td>\n",
       "      <td>s1b-iw1-slc-vh-20201018t054754-20201018t054819-023863-02d58d-001_SARFish.tiff</td>\n",
       "      <td>285029283</td>\n",
       "      <td>0</td>\n",
       "      <td>36226849</td>\n",
       "      <td>100.0</td>\n",
       "      <td>-0.0027574815</td>\n",
       "      <td>14.997891</td>\n",
       "      <td>-3529.0</td>\n",
       "      <td>...</td>\n",
       "      <td>0.0</td>\n",
       "      <td>6096.8047</td>\n",
       "      <td>13.892444</td>\n",
       "      <td>0.078970045</td>\n",
       "      <td>1.7004949</td>\n",
       "      <td>-3.1389046</td>\n",
       "      <td>3.1415927</td>\n",
       "      <td>0.0102660050</td>\n",
       "      <td>0.8735023439</td>\n",
       "      <td>2.0334854314</td>\n",
       "    </tr>\n",
       "    <tr>\n",
       "      <th>1</th>\n",
       "      <td>335f9a411884e9cbv</td>\n",
       "      <td>S1B_IW_SLC__1SDV_20201018T054753_20201018T054820_023863_02D58D_8CE7.SAFE</td>\n",
       "      <td>s1b-iw2-slc-vh-20201018t054755-20201018t054820-023863-02d58d-002_SARFish.tiff</td>\n",
       "      <td>331309224</td>\n",
       "      <td>0</td>\n",
       "      <td>34412972</td>\n",
       "      <td>100.0</td>\n",
       "      <td>-0.0071014264</td>\n",
       "      <td>23.076190</td>\n",
       "      <td>-6541.0</td>\n",
       "      <td>...</td>\n",
       "      <td>0.0</td>\n",
       "      <td>9894.8570</td>\n",
       "      <td>15.811388</td>\n",
       "      <td>0.068502165</td>\n",
       "      <td>1.7210786</td>\n",
       "      <td>-3.1387190</td>\n",
       "      <td>3.1415927</td>\n",
       "      <td>-0.0138930600</td>\n",
       "      <td>0.8952171206</td>\n",
       "      <td>2.1240832777</td>\n",
       "    </tr>\n",
       "    <tr>\n",
       "      <th>2</th>\n",
       "      <td>335f9a411884e9cbv</td>\n",
       "      <td>S1B_IW_SLC__1SDV_20201018T054753_20201018T054820_023863_02D58D_8CE7.SAFE</td>\n",
       "      <td>s1b-iw3-slc-vh-20201018t054753-20201018t054818-023863-02d58d-003_SARFish.tiff</td>\n",
       "      <td>318382830</td>\n",
       "      <td>0</td>\n",
       "      <td>31162632</td>\n",
       "      <td>100.0</td>\n",
       "      <td>0.0025658230</td>\n",
       "      <td>18.202345</td>\n",
       "      <td>-4646.0</td>\n",
       "      <td>...</td>\n",
       "      <td>0.0</td>\n",
       "      <td>6370.0454</td>\n",
       "      <td>13.341663</td>\n",
       "      <td>0.084059930</td>\n",
       "      <td>1.7275264</td>\n",
       "      <td>-3.1384773</td>\n",
       "      <td>3.1415927</td>\n",
       "      <td>0.0012314179</td>\n",
       "      <td>0.9013760909</td>\n",
       "      <td>2.1524133253</td>\n",
       "    </tr>\n",
       "    <tr>\n",
       "      <th>3</th>\n",
       "      <td>3808f5703f0920bfv</td>\n",
       "      <td>S1A_IW_SLC__1SDV_20200421T050338_20200421T050406_032221_03BA14_7DD2.SAFE</td>\n",
       "      <td>s1a-iw3-slc-vh-20200421t050338-20200421t050406-032221-03ba14-003_SARFish.tiff</td>\n",
       "      <td>341956342</td>\n",
       "      <td>0</td>\n",
       "      <td>20759728</td>\n",
       "      <td>100.0</td>\n",
       "      <td>0.0041074160</td>\n",
       "      <td>30.860744</td>\n",
       "      <td>-3417.0</td>\n",
       "      <td>...</td>\n",
       "      <td>0.0</td>\n",
       "      <td>5437.0166</td>\n",
       "      <td>24.186773</td>\n",
       "      <td>0.066700200</td>\n",
       "      <td>1.7640727</td>\n",
       "      <td>-3.1401580</td>\n",
       "      <td>3.1415927</td>\n",
       "      <td>0.0374434500</td>\n",
       "      <td>0.9409502037</td>\n",
       "      <td>2.3788123868</td>\n",
       "    </tr>\n",
       "    <tr>\n",
       "      <th>4</th>\n",
       "      <td>3808f5703f0920bfv</td>\n",
       "      <td>S1A_IW_SLC__1SDV_20200421T050338_20200421T050406_032221_03BA14_7DD2.SAFE</td>\n",
       "      <td>s1a-iw1-slc-vh-20200421t050339-20200421t050404-032221-03ba14-001_SARFish.tiff</td>\n",
       "      <td>272711592</td>\n",
       "      <td>0</td>\n",
       "      <td>22474879</td>\n",
       "      <td>100.0</td>\n",
       "      <td>-0.0024438456</td>\n",
       "      <td>23.275122</td>\n",
       "      <td>-4129.0</td>\n",
       "      <td>...</td>\n",
       "      <td>0.0</td>\n",
       "      <td>5646.9604</td>\n",
       "      <td>18.248287</td>\n",
       "      <td>0.061542723</td>\n",
       "      <td>1.7411201</td>\n",
       "      <td>-3.1404703</td>\n",
       "      <td>3.1415927</td>\n",
       "      <td>-0.0183383490</td>\n",
       "      <td>0.9167891368</td>\n",
       "      <td>2.2299674315</td>\n",
       "    </tr>\n",
       "    <tr>\n",
       "      <th>...</th>\n",
       "      <td>...</td>\n",
       "      <td>...</td>\n",
       "      <td>...</td>\n",
       "      <td>...</td>\n",
       "      <td>...</td>\n",
       "      <td>...</td>\n",
       "      <td>...</td>\n",
       "      <td>...</td>\n",
       "      <td>...</td>\n",
       "      <td>...</td>\n",
       "      <td>...</td>\n",
       "      <td>...</td>\n",
       "      <td>...</td>\n",
       "      <td>...</td>\n",
       "      <td>...</td>\n",
       "      <td>...</td>\n",
       "      <td>...</td>\n",
       "      <td>...</td>\n",
       "      <td>...</td>\n",
       "      <td>...</td>\n",
       "      <td>...</td>\n",
       "    </tr>\n",
       "    <tr>\n",
       "      <th>115</th>\n",
       "      <td>9a5aa7310c195f14v</td>\n",
       "      <td>S1B_IW_SLC__1SDV_20200823T051851_20200823T051918_023046_02BC20_FDFA.SAFE</td>\n",
       "      <td>s1b-iw2-slc-vh-20200823t051851-20200823t051916-023046-02bc20-002_SARFish.tiff</td>\n",
       "      <td>329083515</td>\n",
       "      <td>0</td>\n",
       "      <td>29897941</td>\n",
       "      <td>100.0</td>\n",
       "      <td>-0.0109479470</td>\n",
       "      <td>29.276749</td>\n",
       "      <td>-4616.0</td>\n",
       "      <td>...</td>\n",
       "      <td>0.0</td>\n",
       "      <td>6778.0264</td>\n",
       "      <td>25.553865</td>\n",
       "      <td>0.048622746</td>\n",
       "      <td>1.7329835</td>\n",
       "      <td>-3.1394045</td>\n",
       "      <td>3.1415927</td>\n",
       "      <td>-0.0092704990</td>\n",
       "      <td>0.9089866206</td>\n",
       "      <td>2.1894057445</td>\n",
       "    </tr>\n",
       "    <tr>\n",
       "      <th>116</th>\n",
       "      <td>9a5aa7310c195f14v</td>\n",
       "      <td>S1B_IW_SLC__1SDV_20200823T051851_20200823T051918_023046_02BC20_FDFA.SAFE</td>\n",
       "      <td>s1b-iw3-slc-vh-20200823t051852-20200823t051917-023046-02bc20-003_SARFish.tiff</td>\n",
       "      <td>316267371</td>\n",
       "      <td>0</td>\n",
       "      <td>26182545</td>\n",
       "      <td>100.0</td>\n",
       "      <td>0.0019399820</td>\n",
       "      <td>29.960432</td>\n",
       "      <td>-5235.0</td>\n",
       "      <td>...</td>\n",
       "      <td>0.0</td>\n",
       "      <td>6383.5500</td>\n",
       "      <td>28.301943</td>\n",
       "      <td>0.044965487</td>\n",
       "      <td>1.7402991</td>\n",
       "      <td>-3.1400204</td>\n",
       "      <td>3.1415927</td>\n",
       "      <td>0.0018418386</td>\n",
       "      <td>0.9171238691</td>\n",
       "      <td>2.2317742647</td>\n",
       "    </tr>\n",
       "    <tr>\n",
       "      <th>117</th>\n",
       "      <td>94dca5e4de2edcf8v</td>\n",
       "      <td>S1B_IW_SLC__1SDV_20201013T054008_20201013T054035_023790_02D350_04D0.SAFE</td>\n",
       "      <td>s1b-iw1-slc-vh-20201013t054009-20201013t054034-023790-02d350-001_SARFish.tiff</td>\n",
       "      <td>284636268</td>\n",
       "      <td>0</td>\n",
       "      <td>35120348</td>\n",
       "      <td>100.0</td>\n",
       "      <td>0.0395251440</td>\n",
       "      <td>20.074750</td>\n",
       "      <td>-5304.0</td>\n",
       "      <td>...</td>\n",
       "      <td>0.0</td>\n",
       "      <td>8834.3000</td>\n",
       "      <td>16.278820</td>\n",
       "      <td>0.070487090</td>\n",
       "      <td>1.7019278</td>\n",
       "      <td>-3.1393554</td>\n",
       "      <td>3.1415927</td>\n",
       "      <td>0.0177565030</td>\n",
       "      <td>0.8758852109</td>\n",
       "      <td>2.0428159111</td>\n",
       "    </tr>\n",
       "    <tr>\n",
       "      <th>118</th>\n",
       "      <td>94dca5e4de2edcf8v</td>\n",
       "      <td>S1B_IW_SLC__1SDV_20201013T054008_20201013T054035_023790_02D350_04D0.SAFE</td>\n",
       "      <td>s1b-iw2-slc-vh-20201013t054010-20201013t054035-023790-02d350-002_SARFish.tiff</td>\n",
       "      <td>330781988</td>\n",
       "      <td>0</td>\n",
       "      <td>32423713</td>\n",
       "      <td>100.0</td>\n",
       "      <td>-0.0059878984</td>\n",
       "      <td>28.977694</td>\n",
       "      <td>-6916.0</td>\n",
       "      <td>...</td>\n",
       "      <td>0.0</td>\n",
       "      <td>9521.1690</td>\n",
       "      <td>28.319605</td>\n",
       "      <td>0.045942990</td>\n",
       "      <td>1.7260902</td>\n",
       "      <td>-3.1407537</td>\n",
       "      <td>3.1415927</td>\n",
       "      <td>0.0034723240</td>\n",
       "      <td>0.9020422250</td>\n",
       "      <td>2.1555596770</td>\n",
       "    </tr>\n",
       "    <tr>\n",
       "      <th>119</th>\n",
       "      <td>94dca5e4de2edcf8v</td>\n",
       "      <td>S1B_IW_SLC__1SDV_20201013T054008_20201013T054035_023790_02D350_04D0.SAFE</td>\n",
       "      <td>s1b-iw3-slc-vh-20201013t054008-20201013t054033-023790-02d350-003_SARFish.tiff</td>\n",
       "      <td>317898972</td>\n",
       "      <td>0</td>\n",
       "      <td>31751601</td>\n",
       "      <td>100.0</td>\n",
       "      <td>0.0068865684</td>\n",
       "      <td>13.958346</td>\n",
       "      <td>-3346.0</td>\n",
       "      <td>...</td>\n",
       "      <td>0.0</td>\n",
       "      <td>4694.6284</td>\n",
       "      <td>9.000000</td>\n",
       "      <td>0.114719790</td>\n",
       "      <td>1.7259040</td>\n",
       "      <td>-3.1390285</td>\n",
       "      <td>3.1415927</td>\n",
       "      <td>-0.0044778045</td>\n",
       "      <td>0.8983002231</td>\n",
       "      <td>2.1380973641</td>\n",
       "    </tr>\n",
       "  </tbody>\n",
       "</table>\n",
       "<p>120 rows × 27 columns</p>\n",
       "</div>"
      ],
      "text/plain": [
       "              scene_id  \\\n",
       "0    335f9a411884e9cbv   \n",
       "1    335f9a411884e9cbv   \n",
       "2    335f9a411884e9cbv   \n",
       "3    3808f5703f0920bfv   \n",
       "4    3808f5703f0920bfv   \n",
       "..                 ...   \n",
       "115  9a5aa7310c195f14v   \n",
       "116  9a5aa7310c195f14v   \n",
       "117  94dca5e4de2edcf8v   \n",
       "118  94dca5e4de2edcf8v   \n",
       "119  94dca5e4de2edcf8v   \n",
       "\n",
       "                                                               safe_directory  \\\n",
       "0    S1B_IW_SLC__1SDV_20201018T054753_20201018T054820_023863_02D58D_8CE7.SAFE   \n",
       "1    S1B_IW_SLC__1SDV_20201018T054753_20201018T054820_023863_02D58D_8CE7.SAFE   \n",
       "2    S1B_IW_SLC__1SDV_20201018T054753_20201018T054820_023863_02D58D_8CE7.SAFE   \n",
       "3    S1A_IW_SLC__1SDV_20200421T050338_20200421T050406_032221_03BA14_7DD2.SAFE   \n",
       "4    S1A_IW_SLC__1SDV_20200421T050338_20200421T050406_032221_03BA14_7DD2.SAFE   \n",
       "..                                                                        ...   \n",
       "115  S1B_IW_SLC__1SDV_20200823T051851_20200823T051918_023046_02BC20_FDFA.SAFE   \n",
       "116  S1B_IW_SLC__1SDV_20200823T051851_20200823T051918_023046_02BC20_FDFA.SAFE   \n",
       "117  S1B_IW_SLC__1SDV_20201013T054008_20201013T054035_023790_02D350_04D0.SAFE   \n",
       "118  S1B_IW_SLC__1SDV_20201013T054008_20201013T054035_023790_02D350_04D0.SAFE   \n",
       "119  S1B_IW_SLC__1SDV_20201013T054008_20201013T054035_023790_02D350_04D0.SAFE   \n",
       "\n",
       "                                                                          filename  \\\n",
       "0    s1b-iw1-slc-vh-20201018t054754-20201018t054819-023863-02d58d-001_SARFish.tiff   \n",
       "1    s1b-iw2-slc-vh-20201018t054755-20201018t054820-023863-02d58d-002_SARFish.tiff   \n",
       "2    s1b-iw3-slc-vh-20201018t054753-20201018t054818-023863-02d58d-003_SARFish.tiff   \n",
       "3    s1a-iw3-slc-vh-20200421t050338-20200421t050406-032221-03ba14-003_SARFish.tiff   \n",
       "4    s1a-iw1-slc-vh-20200421t050339-20200421t050404-032221-03ba14-001_SARFish.tiff   \n",
       "..                                                                             ...   \n",
       "115  s1b-iw2-slc-vh-20200823t051851-20200823t051916-023046-02bc20-002_SARFish.tiff   \n",
       "116  s1b-iw3-slc-vh-20200823t051852-20200823t051917-023046-02bc20-003_SARFish.tiff   \n",
       "117  s1b-iw1-slc-vh-20201013t054009-20201013t054034-023790-02d350-001_SARFish.tiff   \n",
       "118  s1b-iw2-slc-vh-20201013t054010-20201013t054035-023790-02d350-002_SARFish.tiff   \n",
       "119  s1b-iw3-slc-vh-20201013t054008-20201013t054033-023790-02d350-003_SARFish.tiff   \n",
       "\n",
       "     valid_pixels  nan_count  zero_count  valid_percentage     real_mean  \\\n",
       "0       285029283          0    36226849             100.0 -0.0027574815   \n",
       "1       331309224          0    34412972             100.0 -0.0071014264   \n",
       "2       318382830          0    31162632             100.0  0.0025658230   \n",
       "3       341956342          0    20759728             100.0  0.0041074160   \n",
       "4       272711592          0    22474879             100.0 -0.0024438456   \n",
       "..            ...        ...         ...               ...           ...   \n",
       "115     329083515          0    29897941             100.0 -0.0109479470   \n",
       "116     316267371          0    26182545             100.0  0.0019399820   \n",
       "117     284636268          0    35120348             100.0  0.0395251440   \n",
       "118     330781988          0    32423713             100.0 -0.0059878984   \n",
       "119     317898972          0    31751601             100.0  0.0068865684   \n",
       "\n",
       "      real_std  real_min  ...  amplitude_min  amplitude_max  amplitude_median  \\\n",
       "0    14.997891   -3529.0  ...            0.0      6096.8047         13.892444   \n",
       "1    23.076190   -6541.0  ...            0.0      9894.8570         15.811388   \n",
       "2    18.202345   -4646.0  ...            0.0      6370.0454         13.341663   \n",
       "3    30.860744   -3417.0  ...            0.0      5437.0166         24.186773   \n",
       "4    23.275122   -4129.0  ...            0.0      5646.9604         18.248287   \n",
       "..         ...       ...  ...            ...            ...               ...   \n",
       "115  29.276749   -4616.0  ...            0.0      6778.0264         25.553865   \n",
       "116  29.960432   -5235.0  ...            0.0      6383.5500         28.301943   \n",
       "117  20.074750   -5304.0  ...            0.0      8834.3000         16.278820   \n",
       "118  28.977694   -6916.0  ...            0.0      9521.1690         28.319605   \n",
       "119  13.958346   -3346.0  ...            0.0      4694.6284          9.000000   \n",
       "\n",
       "      phase_mean  phase_std  phase_min  phase_max  phase_circular_mean  \\\n",
       "0    0.078970045  1.7004949 -3.1389046  3.1415927         0.0102660050   \n",
       "1    0.068502165  1.7210786 -3.1387190  3.1415927        -0.0138930600   \n",
       "2    0.084059930  1.7275264 -3.1384773  3.1415927         0.0012314179   \n",
       "3    0.066700200  1.7640727 -3.1401580  3.1415927         0.0374434500   \n",
       "4    0.061542723  1.7411201 -3.1404703  3.1415927        -0.0183383490   \n",
       "..           ...        ...        ...        ...                  ...   \n",
       "115  0.048622746  1.7329835 -3.1394045  3.1415927        -0.0092704990   \n",
       "116  0.044965487  1.7402991 -3.1400204  3.1415927         0.0018418386   \n",
       "117  0.070487090  1.7019278 -3.1393554  3.1415927         0.0177565030   \n",
       "118  0.045942990  1.7260902 -3.1407537  3.1415927         0.0034723240   \n",
       "119  0.114719790  1.7259040 -3.1390285  3.1415927        -0.0044778045   \n",
       "\n",
       "     phase_circular_variance  phase_circular_std  \n",
       "0               0.8735023439        2.0334854314  \n",
       "1               0.8952171206        2.1240832777  \n",
       "2               0.9013760909        2.1524133253  \n",
       "3               0.9409502037        2.3788123868  \n",
       "4               0.9167891368        2.2299674315  \n",
       "..                       ...                 ...  \n",
       "115             0.9089866206        2.1894057445  \n",
       "116             0.9171238691        2.2317742647  \n",
       "117             0.8758852109        2.0428159111  \n",
       "118             0.9020422250        2.1555596770  \n",
       "119             0.8983002231        2.1380973641  \n",
       "\n",
       "[120 rows x 27 columns]"
      ]
     },
     "execution_count": 53,
     "metadata": {},
     "output_type": "execute_result"
    }
   ],
   "source": [
    "# Load the slc-vh stats tabulation  into a dataframe and display it\n",
    "df_slc_vh_stats = pd.read_csv('slc-vh_stats.csv')\n",
    "df_slc_vh_stats"
   ]
  },
  {
   "cell_type": "markdown",
   "id": "afef6601-d435-44ed-b7b1-38e5e9a93f01",
   "metadata": {},
   "source": [
    "Display an abbreviated version of the dataframe showing important columns only:"
   ]
  },
  {
   "cell_type": "code",
   "execution_count": 54,
   "id": "72ca5921-8f6c-43fa-bcd8-341014a7e8c0",
   "metadata": {
    "tags": []
   },
   "outputs": [
    {
     "data": {
      "text/html": [
       "<div>\n",
       "<style scoped>\n",
       "    .dataframe tbody tr th:only-of-type {\n",
       "        vertical-align: middle;\n",
       "    }\n",
       "\n",
       "    .dataframe tbody tr th {\n",
       "        vertical-align: top;\n",
       "    }\n",
       "\n",
       "    .dataframe thead th {\n",
       "        text-align: right;\n",
       "    }\n",
       "</style>\n",
       "<table border=\"1\" class=\"dataframe\">\n",
       "  <thead>\n",
       "    <tr style=\"text-align: right;\">\n",
       "      <th></th>\n",
       "      <th>scene_id</th>\n",
       "      <th>filename</th>\n",
       "      <th>valid_pixels</th>\n",
       "      <th>nan_count</th>\n",
       "      <th>zero_count</th>\n",
       "      <th>real_min</th>\n",
       "      <th>real_max</th>\n",
       "      <th>amplitude_mean</th>\n",
       "      <th>amplitude_std</th>\n",
       "      <th>amplitude_min</th>\n",
       "      <th>amplitude_max</th>\n",
       "      <th>amplitude_median</th>\n",
       "      <th>phase_circular_mean</th>\n",
       "      <th>phase_min</th>\n",
       "      <th>phase_max</th>\n",
       "      <th>phase_circular_std</th>\n",
       "    </tr>\n",
       "  </thead>\n",
       "  <tbody>\n",
       "    <tr>\n",
       "      <th>0</th>\n",
       "      <td>335f9a411884e9cbv</td>\n",
       "      <td>s1b-iw1-slc-vh...</td>\n",
       "      <td>285029283</td>\n",
       "      <td>0</td>\n",
       "      <td>36226849</td>\n",
       "      <td>-3529.0</td>\n",
       "      <td>2966.0</td>\n",
       "      <td>15.748271</td>\n",
       "      <td>14.217105</td>\n",
       "      <td>0.0</td>\n",
       "      <td>6096.8047</td>\n",
       "      <td>13.892444</td>\n",
       "      <td>0.0102660050</td>\n",
       "      <td>-3.1389046</td>\n",
       "      <td>3.1415927</td>\n",
       "      <td>2.0334854314</td>\n",
       "    </tr>\n",
       "    <tr>\n",
       "      <th>1</th>\n",
       "      <td>335f9a411884e9cbv</td>\n",
       "      <td>s1b-iw2-slc-vh...</td>\n",
       "      <td>331309224</td>\n",
       "      <td>0</td>\n",
       "      <td>34412972</td>\n",
       "      <td>-6541.0</td>\n",
       "      <td>9334.0</td>\n",
       "      <td>22.926825</td>\n",
       "      <td>23.219760</td>\n",
       "      <td>0.0</td>\n",
       "      <td>9894.8570</td>\n",
       "      <td>15.811388</td>\n",
       "      <td>-0.0138930600</td>\n",
       "      <td>-3.1387190</td>\n",
       "      <td>3.1415927</td>\n",
       "      <td>2.1240832777</td>\n",
       "    </tr>\n",
       "    <tr>\n",
       "      <th>2</th>\n",
       "      <td>335f9a411884e9cbv</td>\n",
       "      <td>s1b-iw3-slc-vh...</td>\n",
       "      <td>318382830</td>\n",
       "      <td>0</td>\n",
       "      <td>31162632</td>\n",
       "      <td>-4646.0</td>\n",
       "      <td>5784.0</td>\n",
       "      <td>18.143103</td>\n",
       "      <td>18.260683</td>\n",
       "      <td>0.0</td>\n",
       "      <td>6370.0454</td>\n",
       "      <td>13.341663</td>\n",
       "      <td>0.0012314179</td>\n",
       "      <td>-3.1384773</td>\n",
       "      <td>3.1415927</td>\n",
       "      <td>2.1524133253</td>\n",
       "    </tr>\n",
       "    <tr>\n",
       "      <th>3</th>\n",
       "      <td>3808f5703f0920bfv</td>\n",
       "      <td>s1a-iw3-slc-vh...</td>\n",
       "      <td>341956342</td>\n",
       "      <td>0</td>\n",
       "      <td>20759728</td>\n",
       "      <td>-3417.0</td>\n",
       "      <td>5118.0</td>\n",
       "      <td>32.412090</td>\n",
       "      <td>29.226326</td>\n",
       "      <td>0.0</td>\n",
       "      <td>5437.0166</td>\n",
       "      <td>24.186773</td>\n",
       "      <td>0.0374434500</td>\n",
       "      <td>-3.1401580</td>\n",
       "      <td>3.1415927</td>\n",
       "      <td>2.3788123868</td>\n",
       "    </tr>\n",
       "    <tr>\n",
       "      <th>4</th>\n",
       "      <td>3808f5703f0920bfv</td>\n",
       "      <td>s1a-iw1-slc-vh...</td>\n",
       "      <td>272711592</td>\n",
       "      <td>0</td>\n",
       "      <td>22474879</td>\n",
       "      <td>-4129.0</td>\n",
       "      <td>5132.0</td>\n",
       "      <td>23.730442</td>\n",
       "      <td>22.816694</td>\n",
       "      <td>0.0</td>\n",
       "      <td>5646.9604</td>\n",
       "      <td>18.248287</td>\n",
       "      <td>-0.0183383490</td>\n",
       "      <td>-3.1404703</td>\n",
       "      <td>3.1415927</td>\n",
       "      <td>2.2299674315</td>\n",
       "    </tr>\n",
       "    <tr>\n",
       "      <th>...</th>\n",
       "      <td>...</td>\n",
       "      <td>...</td>\n",
       "      <td>...</td>\n",
       "      <td>...</td>\n",
       "      <td>...</td>\n",
       "      <td>...</td>\n",
       "      <td>...</td>\n",
       "      <td>...</td>\n",
       "      <td>...</td>\n",
       "      <td>...</td>\n",
       "      <td>...</td>\n",
       "      <td>...</td>\n",
       "      <td>...</td>\n",
       "      <td>...</td>\n",
       "      <td>...</td>\n",
       "      <td>...</td>\n",
       "    </tr>\n",
       "    <tr>\n",
       "      <th>115</th>\n",
       "      <td>9a5aa7310c195f14v</td>\n",
       "      <td>s1b-iw2-slc-vh...</td>\n",
       "      <td>329083515</td>\n",
       "      <td>0</td>\n",
       "      <td>29897941</td>\n",
       "      <td>-4616.0</td>\n",
       "      <td>4312.0</td>\n",
       "      <td>31.288660</td>\n",
       "      <td>27.120457</td>\n",
       "      <td>0.0</td>\n",
       "      <td>6778.0264</td>\n",
       "      <td>25.553865</td>\n",
       "      <td>-0.0092704990</td>\n",
       "      <td>-3.1394045</td>\n",
       "      <td>3.1415927</td>\n",
       "      <td>2.1894057445</td>\n",
       "    </tr>\n",
       "    <tr>\n",
       "      <th>116</th>\n",
       "      <td>9a5aa7310c195f14v</td>\n",
       "      <td>s1b-iw3-slc-vh...</td>\n",
       "      <td>316267371</td>\n",
       "      <td>0</td>\n",
       "      <td>26182545</td>\n",
       "      <td>-5235.0</td>\n",
       "      <td>5937.0</td>\n",
       "      <td>32.780293</td>\n",
       "      <td>26.831316</td>\n",
       "      <td>0.0</td>\n",
       "      <td>6383.5500</td>\n",
       "      <td>28.301943</td>\n",
       "      <td>0.0018418386</td>\n",
       "      <td>-3.1400204</td>\n",
       "      <td>3.1415927</td>\n",
       "      <td>2.2317742647</td>\n",
       "    </tr>\n",
       "    <tr>\n",
       "      <th>117</th>\n",
       "      <td>94dca5e4de2edcf8v</td>\n",
       "      <td>s1b-iw1-slc-vh...</td>\n",
       "      <td>284636268</td>\n",
       "      <td>0</td>\n",
       "      <td>35120348</td>\n",
       "      <td>-5304.0</td>\n",
       "      <td>4751.0</td>\n",
       "      <td>20.447000</td>\n",
       "      <td>19.692966</td>\n",
       "      <td>0.0</td>\n",
       "      <td>8834.3000</td>\n",
       "      <td>16.278820</td>\n",
       "      <td>0.0177565030</td>\n",
       "      <td>-3.1393554</td>\n",
       "      <td>3.1415927</td>\n",
       "      <td>2.0428159111</td>\n",
       "    </tr>\n",
       "    <tr>\n",
       "      <th>118</th>\n",
       "      <td>94dca5e4de2edcf8v</td>\n",
       "      <td>s1b-iw2-slc-vh...</td>\n",
       "      <td>330781988</td>\n",
       "      <td>0</td>\n",
       "      <td>32423713</td>\n",
       "      <td>-6916.0</td>\n",
       "      <td>5841.0</td>\n",
       "      <td>32.277737</td>\n",
       "      <td>25.245028</td>\n",
       "      <td>0.0</td>\n",
       "      <td>9521.1690</td>\n",
       "      <td>28.319605</td>\n",
       "      <td>0.0034723240</td>\n",
       "      <td>-3.1407537</td>\n",
       "      <td>3.1415927</td>\n",
       "      <td>2.1555596770</td>\n",
       "    </tr>\n",
       "    <tr>\n",
       "      <th>119</th>\n",
       "      <td>94dca5e4de2edcf8v</td>\n",
       "      <td>s1b-iw3-slc-vh...</td>\n",
       "      <td>317898972</td>\n",
       "      <td>0</td>\n",
       "      <td>31751601</td>\n",
       "      <td>-3346.0</td>\n",
       "      <td>4234.0</td>\n",
       "      <td>12.987852</td>\n",
       "      <td>14.863776</td>\n",
       "      <td>0.0</td>\n",
       "      <td>4694.6284</td>\n",
       "      <td>9.000000</td>\n",
       "      <td>-0.0044778045</td>\n",
       "      <td>-3.1390285</td>\n",
       "      <td>3.1415927</td>\n",
       "      <td>2.1380973641</td>\n",
       "    </tr>\n",
       "  </tbody>\n",
       "</table>\n",
       "<p>120 rows × 16 columns</p>\n",
       "</div>"
      ],
      "text/plain": [
       "              scene_id           filename  valid_pixels  nan_count  \\\n",
       "0    335f9a411884e9cbv  s1b-iw1-slc-vh...     285029283          0   \n",
       "1    335f9a411884e9cbv  s1b-iw2-slc-vh...     331309224          0   \n",
       "2    335f9a411884e9cbv  s1b-iw3-slc-vh...     318382830          0   \n",
       "3    3808f5703f0920bfv  s1a-iw3-slc-vh...     341956342          0   \n",
       "4    3808f5703f0920bfv  s1a-iw1-slc-vh...     272711592          0   \n",
       "..                 ...                ...           ...        ...   \n",
       "115  9a5aa7310c195f14v  s1b-iw2-slc-vh...     329083515          0   \n",
       "116  9a5aa7310c195f14v  s1b-iw3-slc-vh...     316267371          0   \n",
       "117  94dca5e4de2edcf8v  s1b-iw1-slc-vh...     284636268          0   \n",
       "118  94dca5e4de2edcf8v  s1b-iw2-slc-vh...     330781988          0   \n",
       "119  94dca5e4de2edcf8v  s1b-iw3-slc-vh...     317898972          0   \n",
       "\n",
       "     zero_count  real_min  real_max  amplitude_mean  amplitude_std  \\\n",
       "0      36226849   -3529.0    2966.0       15.748271      14.217105   \n",
       "1      34412972   -6541.0    9334.0       22.926825      23.219760   \n",
       "2      31162632   -4646.0    5784.0       18.143103      18.260683   \n",
       "3      20759728   -3417.0    5118.0       32.412090      29.226326   \n",
       "4      22474879   -4129.0    5132.0       23.730442      22.816694   \n",
       "..          ...       ...       ...             ...            ...   \n",
       "115    29897941   -4616.0    4312.0       31.288660      27.120457   \n",
       "116    26182545   -5235.0    5937.0       32.780293      26.831316   \n",
       "117    35120348   -5304.0    4751.0       20.447000      19.692966   \n",
       "118    32423713   -6916.0    5841.0       32.277737      25.245028   \n",
       "119    31751601   -3346.0    4234.0       12.987852      14.863776   \n",
       "\n",
       "     amplitude_min  amplitude_max  amplitude_median  phase_circular_mean  \\\n",
       "0              0.0      6096.8047         13.892444         0.0102660050   \n",
       "1              0.0      9894.8570         15.811388        -0.0138930600   \n",
       "2              0.0      6370.0454         13.341663         0.0012314179   \n",
       "3              0.0      5437.0166         24.186773         0.0374434500   \n",
       "4              0.0      5646.9604         18.248287        -0.0183383490   \n",
       "..             ...            ...               ...                  ...   \n",
       "115            0.0      6778.0264         25.553865        -0.0092704990   \n",
       "116            0.0      6383.5500         28.301943         0.0018418386   \n",
       "117            0.0      8834.3000         16.278820         0.0177565030   \n",
       "118            0.0      9521.1690         28.319605         0.0034723240   \n",
       "119            0.0      4694.6284          9.000000        -0.0044778045   \n",
       "\n",
       "     phase_min  phase_max  phase_circular_std  \n",
       "0   -3.1389046  3.1415927        2.0334854314  \n",
       "1   -3.1387190  3.1415927        2.1240832777  \n",
       "2   -3.1384773  3.1415927        2.1524133253  \n",
       "3   -3.1401580  3.1415927        2.3788123868  \n",
       "4   -3.1404703  3.1415927        2.2299674315  \n",
       "..         ...        ...                 ...  \n",
       "115 -3.1394045  3.1415927        2.1894057445  \n",
       "116 -3.1400204  3.1415927        2.2317742647  \n",
       "117 -3.1393554  3.1415927        2.0428159111  \n",
       "118 -3.1407537  3.1415927        2.1555596770  \n",
       "119 -3.1390285  3.1415927        2.1380973641  \n",
       "\n",
       "[120 rows x 16 columns]"
      ]
     },
     "execution_count": 54,
     "metadata": {},
     "output_type": "execute_result"
    }
   ],
   "source": [
    "# Display abbreviated list of columns\n",
    "df_display = (df_slc_vh_stats[['scene_id', 'filename', 'valid_pixels', 'nan_count','zero_count', 'real_min', 'real_max',\n",
    "                               'amplitude_mean','amplitude_std','amplitude_min','amplitude_max','amplitude_median',\n",
    "                               'phase_circular_mean','phase_min', 'phase_max', 'phase_circular_std']]\n",
    "              .assign(filename=lambda x: x['filename'].str[:14] + '...'))\n",
    "df_display"
   ]
  },
  {
   "cell_type": "markdown",
   "id": "be7e2d05-01cd-4b99-872c-7518ff5e07dd",
   "metadata": {},
   "source": [
    "Determine the global minimum and maximum values of amplitude and phase across the 150 images"
   ]
  },
  {
   "cell_type": "code",
   "execution_count": 55,
   "id": "fb2160f0-5bd7-43ab-9fdb-d06c67c650c3",
   "metadata": {
    "tags": []
   },
   "outputs": [
    {
     "name": "stdout",
     "output_type": "stream",
     "text": [
      "amplitude_min        0.0000000\n",
      "amplitude_max    22862.6000000\n",
      "real_min           -64.0000000\n",
      "real_max         16334.0000000\n",
      "phase_min           -3.1234128\n",
      "phase_max            3.1415927\n",
      "dtype: float64\n"
     ]
    }
   ],
   "source": [
    "cols = ['amplitude_min','amplitude_max', 'real_min', 'real_max', 'phase_min', 'phase_max']\n",
    "column_maximums = df_display[cols].max()\n",
    "pd.set_option('display.precision', 10)\n",
    "print(column_maximums)"
   ]
  },
  {
   "cell_type": "markdown",
   "id": "32aef2db-97b9-4f4f-8a28-86a16fcc3f4a",
   "metadata": {},
   "source": [
    "#### 4.2.2 Examine one image array"
   ]
  },
  {
   "cell_type": "markdown",
   "id": "8c8ddf0a-97f8-4214-be29-7ccb8513b5ef",
   "metadata": {},
   "source": [
    "Analyse one full-size image array from the dataset: `scene_id='5c3d986db930f848v'`, `swath_index=2`."
   ]
  },
  {
   "cell_type": "code",
   "execution_count": 56,
   "id": "6d74fe04-eaac-4685-94aa-00244089f878",
   "metadata": {},
   "outputs": [
    {
     "name": "stdout",
     "output_type": "stream",
     "text": [
      "Image array filename: s1b-iw2-slc-vh-20200803t075721-20200803t075746-022756-02b2ff-002_SARFish.npy\n"
     ]
    }
   ],
   "source": [
    "# Determine the image array filename to examine\n",
    "row = df_slc_vh_stats[(df_slc_vh_stats['scene_id']=='5c3d986db930f848v') & (df_slc_vh_stats['filename'].str.contains('002_SARFish', case=False, na=False))]\n",
    "npy_filename = re.sub(r'\\.\\w+$', '.npy', row['filename'].iloc[0])\n",
    "\n",
    "# Print the name of the image array file\n",
    "print(f\"Image array filename: {npy_filename}\")"
   ]
  },
  {
   "cell_type": "code",
   "execution_count": 57,
   "id": "f11e2ea4-ec18-4c8d-b29f-89394e50ee40",
   "metadata": {
    "tags": []
   },
   "outputs": [
    {
     "name": "stdout",
     "output_type": "stream",
     "text": [
      "slc_data size:299990055, slc_data.shape: (12237, 24515), slc_data dtype:complex64\n"
     ]
    }
   ],
   "source": [
    "# Load the image array and print some vital stats\n",
    "slc_data = np.load(f\"{output_path_train}{npy_filename}\")\n",
    "print(f\"slc_data size:{slc_data.size}, slc_data.shape: {slc_data.shape}, slc_data dtype:{slc_data.dtype}\")"
   ]
  },
  {
   "cell_type": "code",
   "execution_count": 58,
   "id": "d0895855-00a7-4723-a40d-467bd89bcda7",
   "metadata": {},
   "outputs": [
    {
     "data": {
      "text/html": [
       "<div>\n",
       "<style scoped>\n",
       "    .dataframe tbody tr th:only-of-type {\n",
       "        vertical-align: middle;\n",
       "    }\n",
       "\n",
       "    .dataframe tbody tr th {\n",
       "        vertical-align: top;\n",
       "    }\n",
       "\n",
       "    .dataframe thead th {\n",
       "        text-align: right;\n",
       "    }\n",
       "</style>\n",
       "<table border=\"1\" class=\"dataframe\">\n",
       "  <thead>\n",
       "    <tr style=\"text-align: right;\">\n",
       "      <th></th>\n",
       "      <th>scene_id</th>\n",
       "      <th>filename</th>\n",
       "      <th>valid_pixels</th>\n",
       "      <th>nan_count</th>\n",
       "      <th>zero_count</th>\n",
       "      <th>real_min</th>\n",
       "      <th>real_max</th>\n",
       "      <th>amplitude_mean</th>\n",
       "      <th>amplitude_std</th>\n",
       "      <th>amplitude_min</th>\n",
       "      <th>amplitude_max</th>\n",
       "      <th>amplitude_median</th>\n",
       "      <th>phase_circular_mean</th>\n",
       "      <th>phase_min</th>\n",
       "      <th>phase_max</th>\n",
       "      <th>phase_circular_std</th>\n",
       "    </tr>\n",
       "  </thead>\n",
       "  <tbody>\n",
       "    <tr>\n",
       "      <th>23</th>\n",
       "      <td>5c3d986db930f848v</td>\n",
       "      <td>s1b-iw2-slc-vh...</td>\n",
       "      <td>299990055</td>\n",
       "      <td>0</td>\n",
       "      <td>4519704</td>\n",
       "      <td>-1155.0</td>\n",
       "      <td>2480.0</td>\n",
       "      <td>19.262346</td>\n",
       "      <td>16.159203</td>\n",
       "      <td>0.0</td>\n",
       "      <td>2684.2402</td>\n",
       "      <td>15.0</td>\n",
       "      <td>-0.06741247</td>\n",
       "      <td>-3.1386771</td>\n",
       "      <td>3.1415927</td>\n",
       "      <td>2.8861689803</td>\n",
       "    </tr>\n",
       "  </tbody>\n",
       "</table>\n",
       "</div>"
      ],
      "text/plain": [
       "             scene_id           filename  valid_pixels  nan_count  zero_count  \\\n",
       "23  5c3d986db930f848v  s1b-iw2-slc-vh...     299990055          0     4519704   \n",
       "\n",
       "    real_min  real_max  amplitude_mean  amplitude_std  amplitude_min  \\\n",
       "23   -1155.0    2480.0       19.262346      16.159203            0.0   \n",
       "\n",
       "    amplitude_max  amplitude_median  phase_circular_mean  phase_min  \\\n",
       "23      2684.2402              15.0          -0.06741247 -3.1386771   \n",
       "\n",
       "    phase_max  phase_circular_std  \n",
       "23  3.1415927        2.8861689803  "
      ]
     },
     "execution_count": 58,
     "metadata": {},
     "output_type": "execute_result"
    }
   ],
   "source": [
    "# Dispaly the computed statistics for that image array\n",
    "df_display.loc[[row.index[0]]]"
   ]
  },
  {
   "cell_type": "markdown",
   "id": "831893b0-7b4a-4925-bf3b-10be044e8e31",
   "metadata": {},
   "source": [
    "Plot histograms of the amplitude and phase diistribution:"
   ]
  },
  {
   "cell_type": "code",
   "execution_count": 59,
   "id": "e4f92148-3b10-480c-8380-01dfa565b876",
   "metadata": {},
   "outputs": [],
   "source": [
    "# Extract the raw amplitude and phase data   \n",
    "vh_mag = np.abs(slc_data)\n",
    "vh_phase = np.angle(slc_data)"
   ]
  },
  {
   "cell_type": "code",
   "execution_count": 60,
   "id": "b26c8f0c-68bd-44c3-9947-0508c00f43a2",
   "metadata": {},
   "outputs": [
    {
     "data": {
      "image/png": "[encoded data removed]",
      "text/plain": [
       "<Figure size 1200x500 with 2 Axes>"
      ]
     },
     "metadata": {},
     "output_type": "display_data"
    }
   ],
   "source": [
    "# Plot histograms of raw amplitude and phase (randomly sampled)\n",
    "sample_size = 10000\n",
    "vh_mag_sample = np.random.choice(vh_mag.ravel(), sample_size, replace=False)\n",
    "vh_phase_sample = np.random.choice(vh_phase.ravel(), sample_size, replace=False)\n",
    "\n",
    "fig, axes = plt.subplots(1, 2, figsize=(12, 5))\n",
    "\n",
    "# Plot histogram on the first subplot\n",
    "axes[0].hist(vh_mag_sample, bins=50, edgecolor='black')\n",
    "axes[0].set_title(\"(a) Amplitude\")\n",
    "axes[0].set_xlabel(\"Amplitude\")\n",
    "axes[0].set_ylabel(\"Frequency\")\n",
    "\n",
    "# Plot histogram on the second subplot\n",
    "axes[1].hist(vh_phase_sample, bins=50, edgecolor='black')\n",
    "axes[1].set_title(\"(b) Phase\")\n",
    "axes[1].set_xlabel(\"Phase (radians)\")\n",
    "axes[1].set_ylabel(\"Frequency\")\n",
    "\n",
    "# Add super title\n",
    "fig.suptitle(\"Figure 1. Amplitude and Phase Frequency Distributions (sample size = 10000).\", fontsize=16)\n",
    "\n",
    "# Improve layout and show plot\n",
    "plt.tight_layout()\n",
    "plt.show()\n",
    "\n",
    "# free up memory\n",
    "vh_mag = None\n",
    "vh_phase = None\n",
    "slc_data = None"
   ]
  },
  {
   "cell_type": "markdown",
   "id": "ffe252a5-50ef-42f3-8a5a-c83d329c5aaf",
   "metadata": {},
   "source": [
    "**Observations:**\n",
    "* The actual amplitude range for this image is [0.0, 2684.2] and the actual mean/median values are 19.3 and 15.0 respectively. The distribution is right skewed, starts at zero and has a long tail, resembling a Raleigh distribution, which is typical for this type of data (see Figure 1(a)).\n",
    "* Phase range is centred on zero radians with values in the range $(-\\pi, \\pi]$ and essentially distribution uniform across the range but with prominent high frequency peaks around $0$, $\\pm\\pi/2$ and $\\pi$ (see Figure 1(b)).\n",
    "* phase_max is effectively equal to $\\pi$ (discounting a small floating-point precision error) while the minimum phase is very close to $-\\pi$. These min/max values are characteristic across the 120 images.\n",
    "\n",
    "**Pre-processing recommendations: Scaling and Normalisation**\n",
    "* **Amplitude:** Logarithmic (decibel) transformation to compress dynamic range:\n",
    "  \n",
    "$\\quad\\quad\\quad\\quad\\quad\\quad\\quad\\quad\\quad\\quad\\quad\\quad\\quad\\quad\\quad\\quad\\quad\\quad vh\\_mag\\_db = 20\\log_{10}(vh\\_mag + \\epsilon)$,\n",
    "\n",
    "$\\quad~~$ where $\\epsilon$ is some small number (e.g. $10^-6$) to prevent log(0) errors, then normalise dB value to [0, 1] using min/max normalisation or percentile clipping to manage extreme outliers.\n",
    "\n",
    "$\\quad~~$ Note: A factor of 20 is appropriate for decibel conversion of field measurements such has amplitude and maintains consistency with radar and SAR processing conventions.\n",
    "\n",
    "* **Phase:** The focus is on maintaining relative structure. Phase is inherently circular/periodic; representing phase as sine and cosine components respects the circular nature of phase and can be more suitable for training a neural network (eliminates the phase wraparound problem while keeping values in a well-behaved range). This representation only requires mapping the values to within the range expected for YOLO-compatibility ([-1, 1] -> [0,1]):\n",
    "\n",
    " $\\quad\\quad\\quad\\quad\\quad\\quad\\quad\\quad\\quad\\quad\\quad\\quad\\quad\\quad\\quad\\quad\\quad\\quad phase\\_sin\\_norm = \\frac{(phase\\_sin + 1)}{2}\\quad\\text{and}$\n",
    " \n",
    " $\\quad\\quad\\quad\\quad\\quad\\quad\\quad\\quad\\quad\\quad\\quad\\quad\\quad\\quad\\quad\\quad\\quad\\quad phase\\_cos\\_norm = \\frac{(phase\\_cos + 1)}{2}$."
   ]
  },
  {
   "cell_type": "markdown",
   "id": "145c3dfc-cf3c-4f50-8856-596f78627ced",
   "metadata": {},
   "source": [
    "#### 4.2.3 Displaying an SLC VH-polarisation image"
   ]
  },
  {
   "cell_type": "markdown",
   "id": "e4813496-2162-4816-b84a-53499d6ab7c7",
   "metadata": {},
   "source": [
    "Plot one swath of an SLC VH-polarisation scene from the validation partition, with 'HIGH' confidence labels.\n",
    "(The same image array in Section 4.1 is used here again).\n",
    "\n",
    "Note: The image is scaled, clipped, downsampled and the complex amplitude and phase data mapped into real intensity values for display purposes."
   ]
  },
  {
   "cell_type": "markdown",
   "id": "4fa34d4d-0b59-4a13-9e97-f53c16cf6cbc",
   "metadata": {},
   "source": [
    "Build the image filepath"
   ]
  },
  {
   "cell_type": "code",
   "execution_count": 61,
   "id": "0a3e2d65-acde-4c5c-97c8-b7c7f9ae3998",
   "metadata": {
    "tags": []
   },
   "outputs": [
    {
     "data": {
      "text/plain": [
       "DATA_PARTITION                                                                                  validation\n",
       "scene_id                                                                                 5c3d986db930f848v\n",
       "GRD_product_identifier                 S1B_IW_GRDH_1SDV_20200803T075721_20200803T075746_022756_02B2FF_033A\n",
       "GRD_md5sum                                                                3f8ec460304f087c8f9a59b7c0897561\n",
       "GRD_vh                        s1b-iw-grd-vh-20200803t075721-20200803t075746-022756-02b2ff-002_SARFish.tiff\n",
       "GRD_vv                        s1b-iw-grd-vv-20200803t075721-20200803t075746-022756-02b2ff-001_SARFish.tiff\n",
       "GRD_vh_annotation                      s1b-iw-grd-vh-20200803t075721-20200803t075746-022756-02b2ff-002.xml\n",
       "GRD_vv_annotation                      s1b-iw-grd-vv-20200803t075721-20200803t075746-022756-02b2ff-001.xml\n",
       "SLC_product_identifier                 S1B_IW_SLC__1SDV_20200803T075720_20200803T075748_022756_02B2FF_E5D2\n",
       "SLC_md5sum                                                                c32f40b7d3a1304a30c287d7eae75684\n",
       "SLC_swath_1_vh               s1b-iw1-slc-vh-20200803t075720-20200803t075748-022756-02b2ff-001_SARFish.tiff\n",
       "SLC_swath_1_vv               s1b-iw1-slc-vv-20200803t075720-20200803t075748-022756-02b2ff-004_SARFish.tiff\n",
       "SLC_swath_1_vh_annotation             s1b-iw1-slc-vh-20200803t075720-20200803t075748-022756-02b2ff-001.xml\n",
       "SLC_swath_1_vv_annotation             s1b-iw1-slc-vv-20200803t075720-20200803t075748-022756-02b2ff-004.xml\n",
       "SLC_swath_2_vh               s1b-iw2-slc-vh-20200803t075721-20200803t075746-022756-02b2ff-002_SARFish.tiff\n",
       "SLC_swath_2_vv               s1b-iw2-slc-vv-20200803t075721-20200803t075746-022756-02b2ff-005_SARFish.tiff\n",
       "SLC_swath_2_vh_annotation             s1b-iw2-slc-vh-20200803t075721-20200803t075746-022756-02b2ff-002.xml\n",
       "SLC_swath_2_vv_annotation             s1b-iw2-slc-vv-20200803t075721-20200803t075746-022756-02b2ff-005.xml\n",
       "SLC_swath_3_vh               s1b-iw3-slc-vh-20200803t075722-20200803t075747-022756-02b2ff-003_SARFish.tiff\n",
       "SLC_swath_3_vv               s1b-iw3-slc-vv-20200803t075722-20200803t075747-022756-02b2ff-006_SARFish.tiff\n",
       "SLC_swath_3_vh_annotation             s1b-iw3-slc-vh-20200803t075722-20200803t075747-022756-02b2ff-003.xml\n",
       "SLC_swath_3_vv_annotation             s1b-iw3-slc-vv-20200803t075722-20200803t075747-022756-02b2ff-006.xml\n",
       "Name: 703, dtype: object"
      ]
     },
     "execution_count": 61,
     "metadata": {},
     "output_type": "execute_result"
    }
   ],
   "source": [
    "# Read correspondences file\n",
    "xView3_SLC_GRD_correspondences = pd.read_csv(\"xView3_SLC_GRD_correspondences.csv\") # in current working directory (\"SARFish/working/\")\n",
    "# Extract the validation partition row entry for scene_Id '5c3d986db930f848v' from the xView3_SLC_GRD_correspondences.csv file\n",
    "correspondence = xView3_SLC_GRD_correspondences[xView3_SLC_GRD_correspondences['scene_id'] == '5c3d986db930f848v'].squeeze()\n",
    "# Print extracted row entry details\n",
    "correspondence"
   ]
  },
  {
   "cell_type": "code",
   "execution_count": 62,
   "id": "6053b85d-dde3-43c6-9992-a119938a7e83",
   "metadata": {
    "tags": []
   },
   "outputs": [
    {
     "data": {
      "text/plain": [
       "PosixPath('/mnt/h/SARFish/SLC/validation/S1B_IW_SLC__1SDV_20200803T075720_20200803T075748_022756_02B2FF_E5D2.SAFE/measurement/s1b-iw2-slc-vh-20200803t075721-20200803t075746-022756-02b2ff-002_SARFish.tiff')"
      ]
     },
     "execution_count": 62,
     "metadata": {},
     "output_type": "execute_result"
    }
   ],
   "source": [
    "# Set the swath index for the selected scene\n",
    "swath_index = 2 # swath 2 of 3\n",
    "# Now build the path\n",
    "measurement_path_SLC = Path(sar_data_root, f\"{correspondence['SLC_product_identifier']}.SAFE\",\n",
    "                            \"measurement\", correspondence[f'SLC_swath_{swath_index}_vh'])\n",
    "# Check the path by printing it \n",
    "measurement_path_SLC"
   ]
  },
  {
   "cell_type": "markdown",
   "id": "6a23cc89-0b8d-4263-8f70-693395d0a6b6",
   "metadata": {},
   "source": [
    "Load, prepare and plot the SLC image"
   ]
  },
  {
   "cell_type": "code",
   "execution_count": 63,
   "id": "44869d9f-6df4-4615-8061-cba4aa41e79d",
   "metadata": {
    "tags": []
   },
   "outputs": [],
   "source": [
    "# Set a scale factor to be used for downsampling the image for display\n",
    "scale_factor = 2 # retain every other pixel\n",
    "\n",
    "# Unpack image from GeoTIFF as a NumPy array\n",
    "data_SLC, nodata_mask_SLC, _, _ = load_GeoTiff(str(measurement_path_SLC))\n",
    "\n",
    "# Apply decibel scaling to image\n",
    "scaled_data_SLC = scale_sentinel_1_image(data_SLC, nodata_mask_SLC, product_type = \"SLC\")\n",
    "data_SLC = None # free up memory\n",
    "\n",
    "# Clip the scaled data\n",
    "clipped_scaled_data_SLC = np.clip(scaled_data_SLC, 15, 60)\n",
    "scaled_data_SLC = None # free up memory\n",
    "\n",
    "# Downsample the image\n",
    "clipped_scaled_data_SLC_resized = clipped_scaled_data_SLC[::scale_factor, ::scale_factor]\n",
    "clipped_scaled_data_SLC = None # free up memory\n",
    "\n",
    "# Downsample the nodata mask\n",
    "nodata_mask_SLC_resized = nodata_mask_SLC[::scale_factor, ::scale_factor]\n",
    "\n",
    "# Plot the final image\n",
    "plot_SLC = SARFish_Plot(clipped_scaled_data_SLC_resized, nodata_mask_SLC_resized,\n",
    "                        title = f\"SLC VH-polarisation product with labels, swath: {swath_index}\", show=True)\n",
    "\n",
    "# Clean up remaining intermediate products too free up memory\n",
    "nodata_mask_SLC_resized = None\n",
    "clipped_scaled_data_SLC_resized = None"
   ]
  },
  {
   "cell_type": "markdown",
   "id": "a28ad7b0-1b2e-4985-acfe-7866d16627f7",
   "metadata": {},
   "source": [
    "Load and display groundtruth labels"
   ]
  },
  {
   "cell_type": "code",
   "execution_count": 64,
   "id": "35cfce33-b0d6-44b8-b335-e8f88a5c14c1",
   "metadata": {},
   "outputs": [],
   "source": [
    "groundtruth_SLC = pd.read_csv('./SARFish_labels/validation/SLC/SLC_validation_labels.csv')\n",
    "groundtruth_SLC = groundtruth_SLC[groundtruth_SLC['SLC_product_identifier'] == correspondence['SLC_product_identifier']]\n",
    "groundtruth_SLC = groundtruth_SLC[groundtruth_SLC['confidence'] == 'HIGH']"
   ]
  },
  {
   "cell_type": "code",
   "execution_count": 65,
   "id": "1929e015-3de4-471d-81bc-a2fb6297aabe",
   "metadata": {},
   "outputs": [],
   "source": [
    "# Scale down the bounding box and target coordinates the match the image scale\n",
    "groundtruth_SLC[['detect_scene_column', 'detect_scene_row', 'left', 'right', 'bottom', 'top']] = \\\n",
    "groundtruth_SLC[['detect_scene_column', 'detect_scene_row', 'left', 'right', 'bottom', 'top']].apply(lambda x: round(x / scale_factor))"
   ]
  },
  {
   "cell_type": "code",
   "execution_count": 66,
   "id": "49607594-6a45-4fc1-950d-842de60069e8",
   "metadata": {},
   "outputs": [],
   "source": [
    "# Plot the 'HIGH' confidence labels on the image currently displayed in the pop-up interactive window\n",
    "swath_groundtruth_SLC = groundtruth_SLC[groundtruth_SLC['swath_index'] == swath_index]\n",
    "plot_SLC.add_bboxes(swath_groundtruth_SLC[['left', 'right', 'bottom', 'top']])\n",
    "plot_SLC.add_labels(columns = swath_groundtruth_SLC['detect_scene_column'], rows = swath_groundtruth_SLC['detect_scene_row'],\n",
    "                    categories = swath_groundtruth_SLC[['detect_id', 'is_vessel', 'is_fishing', 'vessel_length_m', 'confidence']],\n",
    "                    legend_label = \"groundtruth\", color = \"yellow\")"
   ]
  },
  {
   "cell_type": "code",
   "execution_count": 67,
   "id": "bd3363e1-f30a-4a20-98c3-18a381744a62",
   "metadata": {},
   "outputs": [
    {
     "data": {
      "image/png": "[encoded data removed]",
      "text/plain": [
       "<Figure size 640x480 with 1 Axes>"
      ]
     },
     "metadata": {},
     "output_type": "display_data"
    }
   ],
   "source": [
    "# Capture and display the same image inline using matplotlib\n",
    "import matplotlib.pyplot as plt\n",
    "\n",
    "img = plot_SLC.render()  # Capture the VisPy canvas as an image\n",
    "plt.title(\"Figure 2. SLC VH-polarisation image with labels\")\n",
    "plt.imshow(img)\n",
    "plt.axis('off')\n",
    "plt.show()\n",
    "\n",
    "plot_SLC = None # free memory"
   ]
  },
  {
   "cell_type": "markdown",
   "id": "2f86d4f8-c6a3-4aac-acbb-90c46882f01f",
   "metadata": {},
   "source": [
    "Figure 2 above, is the scaled, clipped and downsampled version of the SLC VH-polarisation product for scene_id '5c3d986db930f848v' (swath 2). The complex amplitude and phase data have been mapped into real intensity values for the display. Yellow boxes represent the bounding-boxes of the groundtruth labels, representing fishing vessels or non-fishing-vessels and where confidence = 'HIGH'."
   ]
  },
  {
   "cell_type": "markdown",
   "id": "f97b458e-46ec-474e-a3c6-c684a1b6ea3f",
   "metadata": {},
   "source": [
    "## 5. Pre-processing"
   ]
  },
  {
   "cell_type": "markdown",
   "id": "2a30a90b-dd54-46b5-bad3-cd16f98289e4",
   "metadata": {},
   "source": [
    "### 5.1 Create image crops"
   ]
  },
  {
   "cell_type": "markdown",
   "id": "4df079c5-d1ba-4429-b3dd-ed3dba4e8180",
   "metadata": {},
   "source": [
    "Generate 96 x 96 pixel image crops from the raw image arrays saved to disk in Section 4.2.1 Each crop should be centred on a positive vessel detection location, with confidence level HIGH or MEDIUM, and have an associated bounding box.\n",
    "\n",
    "Notes:\n",
    "\n",
    "* Bounding box (BBox) annotations use inverse y-axis labeling i.e., image origin is bottom-left. This is corrected to top-left on-the-fly in the crop generating script `create_crop.py` below.\n",
    "* True positive vessel detections with BBoxes that extend beyond crop boundaries by more than 5 pixels are skipped. BBoxes extending by <= 5 pixels are shrunk to match the crop dimensions.\n",
    "* Crops where detections are close to the original image boundary are zero-padded to maintain a consistent crop-size. Crops with excessive padding (i.e., where padding encroaches on the BBox) are, as a rule, rejected. \n",
    "* The crop size of 96 x 96 pixels was chosen because it encapsulates most of the largest vessels in the dataset while minimising the background. Moreover, being a square crop-size of a multiple of 32, it is optimal for more efficient processing by models like YOLO."
   ]
  },
  {
   "cell_type": "markdown",
   "id": "67f3d58e-9eec-4676-add1-f7c020b44a79",
   "metadata": {},
   "source": [
    "#### 5.1.1 Training set"
   ]
  },
  {
   "cell_type": "code",
   "execution_count": 68,
   "id": "639e4a18-87ed-4b54-8f6a-a0f779fd7b1d",
   "metadata": {},
   "outputs": [
    {
     "name": "stdout",
     "output_type": "stream",
     "text": [
      "usage: create_crop.py [-h] [--config CONFIG] --base-dir BASE_DIR --data-split\n",
      "                      {train,val,test}\n",
      "\n",
      "Create crops from SAR data\n",
      "\n",
      "options:\n",
      "  -h, --help            show this help message and exit\n",
      "  --config CONFIG       Configuration file (default: config.yaml)\n",
      "  --base-dir BASE_DIR   Base directory for input/output paths\n",
      "  --data-split {train,val,test}\n",
      "                        Data split to process (train, val, or test)\n"
     ]
    }
   ],
   "source": [
    "%run create_crop.py -h"
   ]
  },
  {
   "cell_type": "code",
   "execution_count": 69,
   "id": "98c5bef1-c27e-4bdc-8861-01ed8383db2c",
   "metadata": {},
   "outputs": [
    {
     "name": "stdout",
     "output_type": "stream",
     "text": [
      "PROCESSING SUMMARY - TRAIN SPLIT\n",
      "============================================================\n",
      "Number of input images processed: 120\n",
      "Total crops of size 96 x 96 created: 3114\n",
      "Images with no crops created: 10\n",
      "Crops with padding applied: 4\n",
      "Crops with bounding box shrunk: 16\n",
      "Crops skipped (bounding box exceeds crop boundary): 25\n",
      "Actual image files written: 3114\n",
      "Actual label files written: 3114\n",
      "Padding strategy: Zero padding (pad_value=0) for complex64 SAR data\n",
      "Crop summary saved to: /mnt/h/SARFish/Generated/SLC/train/crops/crop_summary_train.csv\n",
      "Total crops processed: 3114\n"
     ]
    }
   ],
   "source": [
    "# Create training image crops - see config.yaml for configuration parameters, crops_log for full logging report.\n",
    "#%run create_crop.py --config config.yaml --base-dir {gen_data_root} --data-split train\n",
    "# Print the processing summary from the crops log\n",
    "!awk '/PROCESSING SUMMARY/ {found=1} found' ./crops_train_log.txt"
   ]
  },
  {
   "cell_type": "code",
   "execution_count": 70,
   "id": "6fc15a53-4e90-439a-949d-dddc91ab13cc",
   "metadata": {},
   "outputs": [
    {
     "name": "stdout",
     "output_type": "stream",
     "text": [
      "List saved to disqualified_images.txt\n",
      "\n",
      "Total number of items in disqualified_images: 10\n",
      "disqualified_images = [\"s1a-iw1-slc-vh-20200522t050603-20200522t050631-032673-03c8c7-001_SARFish.npy\"\n",
      "                       ,\"s1b-iw2-slc-vh-20200826t054009-20200826t054034-023090-02bd74-002_SARFish.npy\"\n",
      "                       ,\"s1a-iw3-slc-vh-20200126t175311-20200126t175336-030975-038e94-003_SARFish.npy\"\n",
      "                       ,\"s1a-iw3-slc-vh-20200503t051346-20200503t051413-032396-03c03f-003_SARFish.npy\"\n",
      "                       ,\"s1a-iw3-slc-vh-20200618t051930-20200618t051955-033067-03d4a2-003_SARFish.npy\"\n",
      "                       ,\"s1a-iw1-slc-vh-20200824t052155-20200824t052223-034044-03f3b6-001_SARFish.npy\"\n",
      "                       ,\"s1a-iw2-slc-vh-20200824t052156-20200824t052224-034044-03f3b6-002_SARFish.npy\"\n",
      "                       ,\"s1a-iw3-slc-vh-20200907t050726-20200907t050751-034248-03fad3-003_SARFish.npy\"\n",
      "                       ,\"s1b-iw2-slc-vh-20200615t054004-20200615t054030-022040-029d41-002_SARFish.npy\"\n",
      "                       ,\"s1b-iw3-slc-vh-20200823t051852-20200823t051917-023046-02bc20-003_SARFish.npy\"]\n"
     ]
    }
   ],
   "source": [
    "# Create a list of of all 10 disqualified image arrays for reference\n",
    "command = \"awk -v pat='No crops created' '$0 ~ pat {print fname} {fname = $2}' ./crops_train_log.txt\"\n",
    "disqualified_images = extract_list_from_command(command, output_file=\"disqualified_images.txt\", print_summary=True, columns=1, list_name=\"disqualified_images\")"
   ]
  },
  {
   "cell_type": "markdown",
   "id": "a110c117-f7e5-422b-98c7-6cbf4447b36e",
   "metadata": {},
   "source": [
    "Comments:\n",
    "\n",
    "From Section 4.1, we saw there are a total of 3,139 positive vessel detection labels in the train dataset that fit the criteria defined in Section 2.2. The *crops_log* generated by the `create_crop.py` script reports that of the 120 input swaths (aka images) **3,114** image crops were created. **26** potential crops were skipped because the bounding boxes fell partially outside of the crop boundary by more than 5 pixels while **16** were retained by shrinking the edges of the bounding box by up to 5 pixels at either end. Another **4** crops required padding due to vessel detections very close to the image boundary. The log also reported that **10** input images failed label validation meaning no qualifying labels were present in the annotations file for these inputs. This was consistent with the observation in Section 4.1, i.e., for the 40 training scenes only 110 out of 120 images (aka swaths) had annotations with 'HIGH' or 'MEDIUM' confidence for positive vessel detections."
   ]
  },
  {
   "cell_type": "markdown",
   "id": "8d02ba65-741a-4866-8a73-7c7a0ddf7152",
   "metadata": {},
   "source": [
    "#### 5.1.2 Validation set"
   ]
  },
  {
   "cell_type": "code",
   "execution_count": 71,
   "id": "d92b4354-5de8-491c-81c7-15ea2384603f",
   "metadata": {},
   "outputs": [
    {
     "name": "stdout",
     "output_type": "stream",
     "text": [
      "PROCESSING SUMMARY - VAL SPLIT\n",
      "============================================================\n",
      "Number of input images processed: 15\n",
      "Total crops of size 96 x 96 created: 463\n",
      "Images with no crops created: 1\n",
      "Crops with padding applied: 1\n",
      "Crops with bounding box shrunk: 1\n",
      "Crops skipped (bounding box exceeds crop boundary): 1\n",
      "Actual image files written: 463\n",
      "Actual label files written: 463\n",
      "Padding strategy: Zero padding (pad_value=0) for complex64 SAR data\n",
      "Crop summary saved to: /mnt/h/SARFish/Generated/SLC/val/crops/crop_summary_val.csv\n",
      "Total crops processed: 463\n"
     ]
    }
   ],
   "source": [
    "# Create crops from validation set scences\n",
    "#%run create_crop.py --config config.yaml --base-dir {gen_data_root} --data-split val\n",
    "# Print the processing summary from the crops log\n",
    "!awk '/PROCESSING SUMMARY/ {found=1} found' ./crops_val_log.txt"
   ]
  },
  {
   "cell_type": "markdown",
   "id": "63032b69-f8f1-4a81-9852-2eb954a16068",
   "metadata": {},
   "source": [
    "#### 5.1.3 Test set"
   ]
  },
  {
   "cell_type": "code",
   "execution_count": 72,
   "id": "88a2dd5b-f019-4788-9fa4-38da43cb6e6b",
   "metadata": {},
   "outputs": [
    {
     "name": "stdout",
     "output_type": "stream",
     "text": [
      "PROCESSING SUMMARY - TEST SPLIT\n",
      "============================================================\n",
      "Number of input images processed: 15\n",
      "Total crops of size 96 x 96 created: 253\n",
      "Images with no crops created: 3\n",
      "Crops with padding applied: 0\n",
      "Crops with bounding box shrunk: 0\n",
      "Crops skipped (bounding box exceeds crop boundary): 1\n",
      "Actual image files written: 253\n",
      "Actual label files written: 253\n",
      "Padding strategy: Zero padding (pad_value=0) for complex64 SAR data\n",
      "Crop summary saved to: /mnt/h/SARFish/Generated/SLC/test/crops/crop_summary_test.csv\n",
      "Total crops processed: 253\n"
     ]
    }
   ],
   "source": [
    "# Create crops from test set scences\n",
    "#%run create_crop.py --config config.yaml --base-dir {gen_data_root} --data-split test\n",
    "# Print the processing summary from the crops log\n",
    "!awk '/PROCESSING SUMMARY/ {found=1} found' ./crops_test_log.txt"
   ]
  },
  {
   "cell_type": "markdown",
   "id": "5ffd6901-2605-4978-aa63-c748925e5a69",
   "metadata": {},
   "source": [
    "### 5.2 Crops analysis (training set)"
   ]
  },
  {
   "cell_type": "code",
   "execution_count": 73,
   "id": "0e0aa45e-0c48-4e21-8c6b-f5c7c70d03d0",
   "metadata": {},
   "outputs": [
    {
     "name": "stdout",
     "output_type": "stream",
     "text": [
      "Analysing 3114 crop files...\n"
     ]
    },
    {
     "name": "stderr",
     "output_type": "stream",
     "text": [
      "Processing crops: 100%|█████████████████████████████████████████████████████████████| 3114/3114 [04:12<00:00, 12.33it/s]\n"
     ]
    }
   ],
   "source": [
    "# Analyse the magntiude and real components of crop pixels (train) to determine optimal visualisation parameters\n",
    "stats, mag_vals, log_vals, real_vals = analyse_crop_statistics('.') # base path to 'images' directory is current working directory"
   ]
  },
  {
   "cell_type": "code",
   "execution_count": 74,
   "id": "d4b45039-6997-42ac-ad13-fd5a0127661d",
   "metadata": {},
   "outputs": [
    {
     "name": "stdout",
     "output_type": "stream",
     "text": [
      "\n",
      "============================================================\n",
      "SAR CROP STATISTICS SUMMARY\n",
      "============================================================\n",
      "Files analyzed: 3,114\n",
      "Total pixels: 28,698,624\n",
      "\n",
      "MAGNITUDE STATISTICS:\n",
      "  Min: 0.00\n",
      "  Max: 4369.43\n",
      "  Mean: 15.37\n",
      "  Std: 22.43\n",
      "\n",
      "  Percentiles:\n",
      "     1%:     1.00\n",
      "     5%:     2.83\n",
      "    25%:     7.07\n",
      "    50%:    12.04\n",
      "    75%:    18.60\n",
      "    95%:    33.11\n",
      "    99%:    71.51\n",
      "\n",
      "LOG-MAGNITUDE (dB) STATISTICS:\n",
      "  Min: -200.00 dB\n",
      "  Max: 72.81 dB\n",
      "  Mean: 19.54 dB\n",
      "  Std: 19.39 dB\n",
      "\n",
      "  Percentiles:\n",
      "     1%:     0.00 dB\n",
      "     5%:     9.03 dB\n",
      "    25%:    16.99 dB\n",
      "    50%:    21.61 dB\n",
      "    75%:    25.39 dB\n",
      "    95%:    30.40 dB\n",
      "    99%:    37.09 dB\n",
      "\n",
      "REAL PART STATISTICS:\n",
      "  Min: -3141.00\n",
      "  Max: 3277.00\n",
      "  Mean: 0.01\n",
      "  Std: 19.25\n",
      "\n",
      "  Percentiles:\n",
      "     1%:   -35.00\n",
      "     5%:   -20.00\n",
      "    25%:    -7.00\n",
      "    50%:     0.00\n",
      "    75%:     7.00\n",
      "    95%:    20.00\n",
      "    99%:    35.00\n",
      "\n",
      "============================================================\n",
      "RECOMMENDED NORMALISATION PARAMETERS:\n",
      "============================================================\n",
      "For MAGNITUDE (99% coverage):\n",
      "  amp_min = 1.0\n",
      "  amp_max = 71.5\n",
      "\n",
      "For LOG-MAGNITUDE (99% coverage):\n",
      "  log_min = 0.0\n",
      "  log_max = 37.1\n",
      "\n",
      "For LOG-MAGNITUDE (95% coverage - more conservative):\n",
      "  log_min = 9.0\n",
      "  log_max = 30.4\n",
      "\n",
      "For REAL PART (99% coverage):\n",
      "  real_min = -35.0\n",
      "  real_max = 35.0\n",
      "\n",
      "For REAL PART (95% coverage - more conservative):\n",
      "  real_min = -20.0\n",
      "  real_max = 20.0\n"
     ]
    }
   ],
   "source": [
    "# Print the formatted statistical summary with recommendations\n",
    "print_statistics_summary(stats)"
   ]
  },
  {
   "cell_type": "code",
   "execution_count": 75,
   "id": "a3b4ad69-357c-40f9-abb3-8ffdae0a41e8",
   "metadata": {},
   "outputs": [
    {
     "data": {
      "image/png": "[encoded data removed]",
      "text/plain": [
       "<Figure size 1500x1000 with 6 Axes>"
      ]
     },
     "metadata": {},
     "output_type": "display_data"
    }
   ],
   "source": [
    "# Plot distribution visualizations\n",
    "plot_distribution_analysis(stats, mag_vals, log_vals, real_vals)"
   ]
  },
  {
   "cell_type": "markdown",
   "id": "ef2359c6-7888-432e-85f7-9a1ad5e9f5d5",
   "metadata": {},
   "source": [
    "Comments:\n",
    "\n",
    "* Only the magnitude and real components, measured across all 3,114 crops, are considered here, principally to determine optimal visualisation parameters.\n",
    "* The recommended normalisaton parameters determined above will be used for visualisations henceforth, where applicable."
   ]
  },
  {
   "cell_type": "markdown",
   "id": "7c6e13a8-e96a-4e48-b5b3-5fdc9aa9188e",
   "metadata": {},
   "source": [
    "### 5.3 Crop visualisation"
   ]
  },
  {
   "cell_type": "markdown",
   "id": "a78cfff2-27a7-4c57-a25d-43ee36c4b533",
   "metadata": {},
   "source": [
    "#### 5.3.1 Interactive visual tool"
   ]
  },
  {
   "cell_type": "markdown",
   "id": "30f6eb30-d7b5-493d-9aed-ace4e09de2d4",
   "metadata": {},
   "source": [
    "An interactive tool to visualise the extracted crops was developed. The tool offers a selection of display modes, including magnitude (default) and decibel-scaled magnitude, phase, sin(phase), cos(phase), real and imaginary. The number of randomly selected image samples to view is user-selectable (default=50). It also offers a single-image view mode where the user nominates a specific image to view at launch. Optionally, bounding boxes can also displayed with the class of the detected object indicated ('is_fishing' or 'is_vessel')."
   ]
  },
  {
   "cell_type": "code",
   "execution_count": 76,
   "id": "c080c190-4025-43b0-8af5-3bf7c277b5d0",
   "metadata": {},
   "outputs": [],
   "source": [
    "#%run visualise_crops.py --help"
   ]
  },
  {
   "cell_type": "code",
   "execution_count": 77,
   "id": "c9c85925-542e-4824-a18e-4cf835f9f63d",
   "metadata": {},
   "outputs": [],
   "source": [
    "# launch the interactive SAR image browser in raw magnitude (default) mode (swichable during the session)\n",
    "#%run visualise_crops.py -i images -l labels"
   ]
  },
  {
   "cell_type": "markdown",
   "id": "8c44c782-0d93-4e4d-a253-a930cb8159a6",
   "metadata": {},
   "source": [
    "#### 5.3.2 Padded crop QC"
   ]
  },
  {
   "cell_type": "markdown",
   "id": "727147b2-93ee-48fa-aa56-f723d85e24bb",
   "metadata": {},
   "source": [
    "Visually examine the 5 padded crops created earlier"
   ]
  },
  {
   "cell_type": "code",
   "execution_count": 78,
   "id": "e79dfcfe-0ecf-45a3-8a86-0a3fbb2f1cb7",
   "metadata": {},
   "outputs": [
    {
     "name": "stdout",
     "output_type": "stream",
     "text": [
      "List saved to padded_images.txt\n",
      "\n",
      "Total number of items in padded_images: 4\n",
      "padded_images = [\"a6073537a4ea5fb9v_057.32055021000000039066_008.51600360299999969982_swath1.npy\"\n",
      "                 ,\"fc483682c621b54bv_004.30196294300000037225_008.16526335400000036202_swath2.npy\"\n",
      "                 ,\"fc483682c621b54bv_004.32414975499999965081_008.27698049800000035248_swath2.npy\"\n",
      "                 ,\"3ceef682fbe4930av_004.27261539000000034605_008.55530834800000050677_swath1.npy\"]\n"
     ]
    }
   ],
   "source": [
    "# Create a list of the train crops that have been padded\n",
    "command = \"awk -v pat='PADDED' '$0 ~ pat {print $2 \\\".npy\\\"}' ./crops_train_log.txt\"\n",
    "padded_images = extract_list_from_command(command, output_file=\"padded_images.txt\", print_summary=True, columns=1, list_name=\"padded_images\")"
   ]
  },
  {
   "cell_type": "code",
   "execution_count": 79,
   "id": "271326a2-b974-40c5-8e9a-4497aa6862a7",
   "metadata": {},
   "outputs": [
    {
     "data": {
      "image/png": "[encoded data removed]",
      "text/plain": [
       "<Figure size 1800x1000 with 10 Axes>"
      ]
     },
     "metadata": {},
     "output_type": "display_data"
    },
    {
     "name": "stdout",
     "output_type": "stream",
     "text": [
      "Crop comparison complete!\n",
      "Single list mode: Top row = magnitude, Bottom row = log-magnitude\n",
      "Normalization parameters - Magnitude: [0.0, 71.5], Log-Magnitude: [0.0, 37.1] dB, Real: [-35, 35]\n",
      "All images normalized to [0, 1] range using above parameters\n"
     ]
    }
   ],
   "source": [
    "# Plot each padded crops in both magnitude and log-magnitude display modes ('real' is an alternative display mode)\n",
    "%matplotlib inline\n",
    "crop_compare(padded_images, base_dir='.',\n",
    "             amp_min=0.0, amp_max=71.5,\n",
    "             log_min=0.0, log_max=37.1,\n",
    "             real_min=-35, real_max=35,\n",
    "             mode_row1='magnitude', mode_row2='log-magnitude')"
   ]
  },
  {
   "cell_type": "markdown",
   "id": "d4e4abd5-8974-4b36-a967-6f2dcf503c22",
   "metadata": {},
   "source": [
    "Comments:\n",
    "\n",
    "The plots above display the 4 padded crops in two separate display modes, raw magnitude and decibel-scaled magnitude.\n",
    "\n",
    "The first crop image shows a vessel positioned right up against the padded region border (original image boundary). The vessel signature is well defined, clearly oriented horizontally and consistent with its BBox placement. The faint vertical echoes extending into the padded region are typical of sidelobe artefacts commonly seen in SAR imagery.\n",
    "\n",
    "The second crop image displays a highly questionable detection, with the 'vessel' pixels, positioned right on the border of the padded region, and having intensities virtually indistinguishable from the background.\n",
    "\n",
    "The last two images show two distinct vessel detections, including one of a very large vessel (**100.5 m** in length^2). Despite the close proximity of the larger vessel to the image border, this crop, and the last, are considered acceptable for use in training. The first crop is marginal however the second should probably be discarded. \n",
    "\n",
    "[2] Vessel length data obtained from *SLC_validation_labels.csv* sourced from [xView3 website](https://iuu.xview.us/)"
   ]
  },
  {
   "cell_type": "markdown",
   "id": "58b389b4-81fd-4b33-b93b-de67f30f7afb",
   "metadata": {},
   "source": [
    "### 5.4 Scaling and normalisation"
   ]
  },
  {
   "cell_type": "markdown",
   "id": "fd2bec1c-31c0-4b83-832d-6bb46ea8d044",
   "metadata": {},
   "source": [
    "This section applies scaling and percentile clipping to amplitude data and sine and cosine transformations to phase data, in each training image crop. This is followed by normalisation to [0, 1] for YOLO compatiblity. The approach follows the recommendations in Section 4.2.1 and is informed by the statistical analysis of cropped images in Section 5.2. The final processing stage involves stacking the three components (amplitude_norm, phase_sin_norm and phase_cos_norm) in order to simulate the 3-channel RGB image input format expected by YOLO models (3, Height, Width).\n",
    "\n",
    "Note: With respect to amplitudes, it is assumed that non-fishing vessels display greater variability in amplitude intensity signatures relative to fishing vessels. This is because of their large variability in size, shape and construction. For example, large cargo/container ships generally show very high intensities resulting from corner reflections and metal structures, while smaller passenger ferries display more moderate intensities. Add to this the different orientations and aspect ratios, then a broad range of different backscatter levels could be expected. In contrast, fishing vessel backscatter levels would be expected to be mostly in the moderate range due to smaller size, different construction and materials used (wooden hulls as opposed to metal."
   ]
  },
  {
   "cell_type": "markdown",
   "id": "651fd9e1-e5c5-4737-b6b2-04e9289623f9",
   "metadata": {},
   "source": [
    "Batch process the image crops created in Section 5.1 using the `batch_process_sar_data() function` which invokes the `complex_scale_and_norm.py` script. \n",
    "\n",
    "Uses the 1st and 99th percentile to clip amplitudes values prior to scaling. "
   ]
  },
  {
   "cell_type": "code",
   "execution_count": 80,
   "id": "427aee48-6bb4-4d91-b6d3-c5a9abdbab7c",
   "metadata": {},
   "outputs": [],
   "source": [
    "# Call the script from a bash shell not current python process to utilise more workers\n",
    "#!./batch_sar_processing.py --config config.yaml --base-dir {gen_data_root} --data-split train"
   ]
  },
  {
   "cell_type": "code",
   "execution_count": 81,
   "id": "47334922-f5dc-4357-94c7-f1cfe4b84f0d",
   "metadata": {},
   "outputs": [],
   "source": [
    "# Print the processing summary from batch_sar_processing.log if needed\n",
    "#!head -n 5 ./batch_sar_processing.log; tail -n 6 ./batch_sar_processing.log"
   ]
  },
  {
   "cell_type": "markdown",
   "id": "a6a82aae-28f1-4d71-8922-ea78cc8beaf2",
   "metadata": {},
   "source": [
    "Load and display vital the stats for one scaled and normalised image crop array created in the previous cell:"
   ]
  },
  {
   "cell_type": "code",
   "execution_count": 82,
   "id": "213d165f-de23-47ae-9515-3ae48644d61a",
   "metadata": {
    "tags": []
   },
   "outputs": [
    {
     "name": "stdout",
     "output_type": "stream",
     "text": [
      "/mnt/h/SARFish/Generated/SLC/train/crops/images_proc\n"
     ]
    }
   ],
   "source": [
    "# Build path to the processed crop images\n",
    "images_proc_path = Path(gen_data_root, config[\"batch_sar_processing\"][\"output_dir\"][\"train\"])\n",
    "# Check the path by printing it\n",
    "print(images_proc_path)"
   ]
  },
  {
   "cell_type": "code",
   "execution_count": 83,
   "id": "f01258f6-fcdb-4dc0-9ec0-ac73531c7b27",
   "metadata": {},
   "outputs": [],
   "source": [
    "# Load a single normalised crop image\n",
    "slc_crop_norm = np.load(f\"{images_proc_path}/0d8ed29b0760dc59v_043.21094381000000339554_015.15049506000000079098_swath1_proc.npy\")"
   ]
  },
  {
   "cell_type": "code",
   "execution_count": 84,
   "id": "e8601298-6526-4a8a-ab0c-dcc7b80cd5f4",
   "metadata": {},
   "outputs": [
    {
     "data": {
      "text/plain": [
       "{'size': 27648,\n",
       " 'shape': (3, 96, 96),\n",
       " 'dtype': dtype('float32'),\n",
       " 'amp_min': 0.0,\n",
       " 'amp_max': 1.0,\n",
       " 'phase_sin_min': 0.0,\n",
       " 'phase_sin_max': 1.0,\n",
       " 'phase_cos_min': 0.0,\n",
       " 'phase_cos_max': 1.0}"
      ]
     },
     "execution_count": 84,
     "metadata": {},
     "output_type": "execute_result"
    }
   ],
   "source": [
    "# Compute some vital statistics of the normalised crop image\n",
    "slc_crop_norm_vitals = {\n",
    "    \"size\": slc_crop_norm.size, \n",
    "    \"shape\": slc_crop_norm.shape, \n",
    "    \"dtype\": slc_crop_norm.dtype, \n",
    "    \"amp_min\": np.min(slc_crop_norm[:, :, 0]), \n",
    "    \"amp_max\": np.max(slc_crop_norm[:, :, 0]), \n",
    "    \"phase_sin_min\": np.min(slc_crop_norm[:, :, 1]), \n",
    "    \"phase_sin_max\": np.max(slc_crop_norm[:, :, 1]),\n",
    "    \"phase_cos_min\": np.min(slc_crop_norm[:, :, 2]), \n",
    "    \"phase_cos_max\": np.max(slc_crop_norm[:, :, 2])    \n",
    "}\n",
    "slc_crop_norm_vitals"
   ]
  },
  {
   "cell_type": "markdown",
   "id": "2d4b68ad-9934-4f59-ab41-0faa90bfa3a0",
   "metadata": {},
   "source": [
    "Shape of array and all channel ranges in expected range (YOLO-compatible)"
   ]
  },
  {
   "cell_type": "markdown",
   "id": "25e95c3f-f62e-4960-b2ac-30230f98984e",
   "metadata": {},
   "source": [
    "Apply scaling and normlisation in the same way to both validation and test sets:"
   ]
  },
  {
   "cell_type": "code",
   "execution_count": 85,
   "id": "c3d42ff2-b16a-44de-8ea1-4a61451cadc7",
   "metadata": {},
   "outputs": [
    {
     "name": "stdout",
     "output_type": "stream",
     "text": [
      "============================================================\n",
      "Batch SAR Data Processing\n",
      "============================================================\n",
      "✓ Configuration loaded from: config.yaml\n",
      "✓ Logging enabled: batch_sar_processing.log\n",
      "✓ Configuration validated\n",
      "✓ Output directory: /mnt/h/SARFish/Generated/SLC/val/crops/images_proc\n",
      "Found 463 files matching pattern '*.npy' in /mnt/h/SARFish/Generated/SLC/val/crops/images\n",
      "\n",
      "Processing Configuration:\n",
      "  Base directory: /mnt/h/SARFish/Generated/\n",
      "  Data split: val\n",
      "  Input directory: /mnt/h/SARFish/Generated/SLC/val/crops/images\n",
      "  Output directory: /mnt/h/SARFish/Generated/SLC/val/crops/images_proc\n",
      "  NaN strategy: skip\n",
      "  Epsilon: 1e-6\n",
      "  Global normalisation: Yes\n",
      "    Amplitude parameters: [1e-06, 71.5]\n",
      "    Phase normalization: automatic via sine/cosine transformation\n",
      "  Parallel processing: Yes\n",
      "  Skip existing: True\n",
      "Processing 463 files with 4 workers (verbose=False)...\n",
      "\n",
      "============================================================\n",
      "Processing Summary\n",
      "============================================================\n",
      "Total files: 463\n",
      "Successful: 463\n",
      "Failed: 0\n",
      "Processing time: 0.52 seconds\n"
     ]
    }
   ],
   "source": [
    "# Process validation crops\n",
    "!./batch_sar_processing.py --config config.yaml --base-dir {gen_data_root} --data-split val"
   ]
  },
  {
   "cell_type": "code",
   "execution_count": 86,
   "id": "e8fc28fb-0f9f-4bc5-8bdf-43ddcd2bbf83",
   "metadata": {},
   "outputs": [
    {
     "name": "stdout",
     "output_type": "stream",
     "text": [
      "============================================================\n",
      "Batch SAR Data Processing\n",
      "============================================================\n",
      "✓ Configuration loaded from: config.yaml\n",
      "✓ Logging enabled: batch_sar_processing.log\n",
      "✓ Configuration validated\n",
      "✓ Output directory: /mnt/h/SARFish/Generated/SLC/test/crops/images_proc\n",
      "Found 253 files matching pattern '*.npy' in /mnt/h/SARFish/Generated/SLC/test/crops/images\n",
      "\n",
      "Processing Configuration:\n",
      "  Base directory: /mnt/h/SARFish/Generated/\n",
      "  Data split: test\n",
      "  Input directory: /mnt/h/SARFish/Generated/SLC/test/crops/images\n",
      "  Output directory: /mnt/h/SARFish/Generated/SLC/test/crops/images_proc\n",
      "  NaN strategy: skip\n",
      "  Epsilon: 1e-6\n",
      "  Global normalisation: Yes\n",
      "    Amplitude parameters: [1e-06, 71.5]\n",
      "    Phase normalization: automatic via sine/cosine transformation\n",
      "  Parallel processing: Yes\n",
      "  Skip existing: True\n",
      "Processing 253 files with 4 workers (verbose=False)...\n",
      "\n",
      "============================================================\n",
      "Processing Summary\n",
      "============================================================\n",
      "Total files: 253\n",
      "Successful: 253\n",
      "Failed: 0\n",
      "Processing time: 0.24 seconds\n"
     ]
    }
   ],
   "source": [
    "# Process test crops\n",
    "!./batch_sar_processing.py --config config.yaml --base-dir {gen_data_root} --data-split test"
   ]
  },
  {
   "cell_type": "markdown",
   "id": "b89cc1e5-3f90-404b-a8fb-efc91b965e23",
   "metadata": {},
   "source": [
    "### 5.5 Data augmentation"
   ]
  },
  {
   "cell_type": "markdown",
   "id": "f8aed722-6759-4e66-8e88-104fd5027630",
   "metadata": {},
   "source": [
    "Data augmentation may be carried out during model training using Ultralytics YOLO's implementation which includes a comprehensive suite of augmentation techniques. See the SARFish Project Part2 (Model Training and Evaluation) Jupyter notebook for more details."
   ]
  },
  {
   "cell_type": "markdown",
   "id": "758acb78-35bf-4cfe-9148-8fd26823722e",
   "metadata": {},
   "source": [
    "[See: Data Augmentation using Ultralytics YOLO](https://docs.ultralytics.com/guides/yolo-data-augmentation/)"
   ]
  }
 ],
 "metadata": {
  "kernelspec": {
   "display_name": "Python 3 (ipykernel)",
   "language": "python",
   "name": "python3"
  },
  "language_info": {
   "codemirror_mode": {
    "name": "ipython",
    "version": 3
   },
   "file_extension": ".py",
   "mimetype": "text/x-python",
   "name": "python",
   "nbconvert_exporter": "python",
   "pygments_lexer": "ipython3",
   "version": "3.10.12"
  }
 },
 "nbformat": 4,
 "nbformat_minor": 5
}
