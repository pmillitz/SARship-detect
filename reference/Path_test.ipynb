{
 "cells": [
  {
   "cell_type": "code",
   "execution_count": 1,
   "id": "2590568e-e433-4996-b545-348b710b6a80",
   "metadata": {},
   "outputs": [
    {
     "name": "stdout",
     "output_type": "stream",
     "text": [
      "False\n",
      "/home/peterm/UWA/CITS5014/SARFish/reference/example.txt\n",
      "[PosixPath('SARModel.py'), PosixPath('4_evaluate.py'), PosixPath('6_concatenate_scene_predictions.py'), PosixPath('visualise_labels.py'), PosixPath('GeoTiff.py'), PosixPath('1_create_tile.py'), PosixPath('1_create_tile_copy1.py'), PosixPath('3_test.py'), PosixPath('SARFish_constants.py'), PosixPath('1_create_tile_copy2.py'), PosixPath('SARFish_metric.py'), PosixPath('vessel_accuracy_sim.py'), PosixPath('SAR.py'), PosixPath('test_vispy.py'), PosixPath('5_inference.py'), PosixPath('2_train.py'), PosixPath('SARFish_reference.py'), PosixPath('.ipynb_checkpoints/GeoTiff-checkpoint.py'), PosixPath('.ipynb_checkpoints/1_create_tile-checkpoint.py'), PosixPath('.ipynb_checkpoints/SAR-checkpoint.py'), PosixPath('.ipynb_checkpoints/1_create_tile_copy1-checkpoint.py'), PosixPath('.ipynb_checkpoints/2_train-checkpoint.py'), PosixPath('.ipynb_checkpoints/1_create_tile_copy2-checkpoint.py'), PosixPath('.ipynb_checkpoints/SARFish_metric-checkpoint.py'), PosixPath('.ipynb_checkpoints/visualise_labels-checkpoint.py'), PosixPath('.ipynb_checkpoints/vessel_accuracy_sim-checkpoint.py'), PosixPath('.ipynb_checkpoints/6_concatenate_scene_predictions-checkpoint.py')]\n"
     ]
    }
   ],
   "source": [
    "from pathlib import Path\n",
    "\n",
    "# Create a Path object\n",
    "p = Path(\"example.txt\")\n",
    "\n",
    "# Check if the file exists\n",
    "print(p.exists())\n",
    "\n",
    "# Get the absolute path\n",
    "print(p.resolve())\n",
    "\n",
    "# List all Python files in a directory\n",
    "print(list(Path(\".\").glob(\"**/*.py\")))"
   ]
  },
  {
   "cell_type": "code",
   "execution_count": null,
   "id": "0104482f-8638-4866-9578-65d532700905",
   "metadata": {},
   "outputs": [],
   "source": []
  },
  {
   "cell_type": "code",
   "execution_count": null,
   "id": "512cc5a8-3663-4101-a350-1f7aae4a2002",
   "metadata": {},
   "outputs": [],
   "source": []
  }
 ],
 "metadata": {
  "kernelspec": {
   "display_name": "Python 3 (ipykernel)",
   "language": "python",
   "name": "python3"
  },
  "language_info": {
   "codemirror_mode": {
    "name": "ipython",
    "version": 3
   },
   "file_extension": ".py",
   "mimetype": "text/x-python",
   "name": "python",
   "nbconvert_exporter": "python",
   "pygments_lexer": "ipython3",
   "version": "3.10.12"
  }
 },
 "nbformat": 4,
 "nbformat_minor": 5
}
