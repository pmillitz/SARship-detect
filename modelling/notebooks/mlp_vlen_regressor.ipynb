{
 "cells": [
  {
   "cell_type": "markdown",
   "id": "47ba6a2e-6689-4106-8362-02fc39a1cea9",
   "metadata": {},
   "source": [
    "# MLP Vessel Length Regressor"
   ]
  },
  {
   "cell_type": "markdown",
   "id": "408ce350-0207-4b50-8e77-ed51b89a038a",
   "metadata": {},
   "source": [
    "## 1. Setup and Imports"
   ]
  },
  {
   "cell_type": "code",
   "execution_count": 1,
   "id": "a6c19902-2c20-4d6a-924c-d7e86722c529",
   "metadata": {},
   "outputs": [],
   "source": [
    "# Better error messages in notebooks\n",
    "%load_ext autoreload\n",
    "%autoreload 2"
   ]
  },
  {
   "cell_type": "code",
   "execution_count": 2,
   "id": "dc7c3be7-4b27-42f6-b8a2-5832cb8e7fae",
   "metadata": {},
   "outputs": [
    {
     "name": "stderr",
     "output_type": "stream",
     "text": [
      "2025-09-10 18:11:26.857734: I tensorflow/core/platform/cpu_feature_guard.cc:210] This TensorFlow binary is optimized to use available CPU instructions in performance-critical operations.\n",
      "To enable the following instructions: AVX2 AVX_VNNI FMA, in other operations, rebuild TensorFlow with the appropriate compiler flags.\n"
     ]
    }
   ],
   "source": [
    "import os\n",
    "os.environ['TF_ENABLE_ONEDNN_OPTS'] = '0'\n",
    "import sys\n",
    "from pathlib import Path\n",
    "\n",
    "PROJECT_ROOT = Path.cwd().parent # Get to project root from notebook location\n",
    "sys.path.append(str(PROJECT_ROOT / \"src\")) # Add \"src\" to Python's module search path sys.path\n",
    "\n",
    "import pickle\n",
    "import tensorflow as tf\n",
    "from du_utilities import *"
   ]
  },
  {
   "cell_type": "markdown",
   "id": "020c1f10-b9b5-496b-8850-e5f6e982ff37",
   "metadata": {},
   "source": [
    "## 2. Model training"
   ]
  },
  {
   "cell_type": "code",
   "execution_count": 3,
   "id": "09b04525-159c-4a5e-bb89-f3bda7548771",
   "metadata": {},
   "outputs": [],
   "source": [
    "from mlp_vessel_regressor import *\n",
    "\n",
    "# Reset the name counters\n",
    "tf.keras.backend.clear_session()"
   ]
  },
  {
   "cell_type": "code",
   "execution_count": 4,
   "id": "51d305a0-21b2-4f2e-9821-15a8d548b07c",
   "metadata": {},
   "outputs": [
    {
     "name": "stderr",
     "output_type": "stream",
     "text": [
      "WARNING: All log messages before absl::InitializeLog() is called are written to STDERR\n",
      "I0000 00:00:1757499094.070394 1473120 gpu_device.cc:2020] Created device /job:localhost/replica:0/task:0/device:GPU:0 with 5566 MB memory:  -> device: 0, name: NVIDIA RTX 2000 Ada Generation Laptop GPU, pci bus id: 0000:01:00.0, compute capability: 8.9\n"
     ]
    }
   ],
   "source": [
    "# Create model architecture\n",
    "model = create_mlp_model(input_dim=3, hidden_layers=[32, 16, 8])"
   ]
  },
  {
   "cell_type": "code",
   "execution_count": 5,
   "id": "3c705e5e-4880-4326-af6e-02192ff73658",
   "metadata": {},
   "outputs": [
    {
     "data": {
      "text/html": [
       "<pre style=\"white-space:pre;overflow-x:auto;line-height:normal;font-family:Menlo,'DejaVu Sans Mono',consolas,'Courier New',monospace\"><span style=\"font-weight: bold\">Model: \"sequential\"</span>\n",
       "</pre>\n"
      ],
      "text/plain": [
       "\u001b[1mModel: \"sequential\"\u001b[0m\n"
      ]
     },
     "metadata": {},
     "output_type": "display_data"
    },
    {
     "data": {
      "text/html": [
       "<pre style=\"white-space:pre;overflow-x:auto;line-height:normal;font-family:Menlo,'DejaVu Sans Mono',consolas,'Courier New',monospace\">┏━━━━━━━━━━━━━━━━━━━━━━━━━━━━━━━━━┳━━━━━━━━━━━━━━━━━━━━━━━━┳━━━━━━━━━━━━━━━┓\n",
       "┃<span style=\"font-weight: bold\"> Layer (type)                    </span>┃<span style=\"font-weight: bold\"> Output Shape           </span>┃<span style=\"font-weight: bold\">       Param # </span>┃\n",
       "┡━━━━━━━━━━━━━━━━━━━━━━━━━━━━━━━━━╇━━━━━━━━━━━━━━━━━━━━━━━━╇━━━━━━━━━━━━━━━┩\n",
       "│ dense (<span style=\"color: #0087ff; text-decoration-color: #0087ff\">Dense</span>)                   │ (<span style=\"color: #00d7ff; text-decoration-color: #00d7ff\">None</span>, <span style=\"color: #00af00; text-decoration-color: #00af00\">32</span>)             │           <span style=\"color: #00af00; text-decoration-color: #00af00\">128</span> │\n",
       "├─────────────────────────────────┼────────────────────────┼───────────────┤\n",
       "│ dense_1 (<span style=\"color: #0087ff; text-decoration-color: #0087ff\">Dense</span>)                 │ (<span style=\"color: #00d7ff; text-decoration-color: #00d7ff\">None</span>, <span style=\"color: #00af00; text-decoration-color: #00af00\">16</span>)             │           <span style=\"color: #00af00; text-decoration-color: #00af00\">528</span> │\n",
       "├─────────────────────────────────┼────────────────────────┼───────────────┤\n",
       "│ dense_2 (<span style=\"color: #0087ff; text-decoration-color: #0087ff\">Dense</span>)                 │ (<span style=\"color: #00d7ff; text-decoration-color: #00d7ff\">None</span>, <span style=\"color: #00af00; text-decoration-color: #00af00\">8</span>)              │           <span style=\"color: #00af00; text-decoration-color: #00af00\">136</span> │\n",
       "├─────────────────────────────────┼────────────────────────┼───────────────┤\n",
       "│ dense_3 (<span style=\"color: #0087ff; text-decoration-color: #0087ff\">Dense</span>)                 │ (<span style=\"color: #00d7ff; text-decoration-color: #00d7ff\">None</span>, <span style=\"color: #00af00; text-decoration-color: #00af00\">1</span>)              │             <span style=\"color: #00af00; text-decoration-color: #00af00\">9</span> │\n",
       "└─────────────────────────────────┴────────────────────────┴───────────────┘\n",
       "</pre>\n"
      ],
      "text/plain": [
       "┏━━━━━━━━━━━━━━━━━━━━━━━━━━━━━━━━━┳━━━━━━━━━━━━━━━━━━━━━━━━┳━━━━━━━━━━━━━━━┓\n",
       "┃\u001b[1m \u001b[0m\u001b[1mLayer (type)                   \u001b[0m\u001b[1m \u001b[0m┃\u001b[1m \u001b[0m\u001b[1mOutput Shape          \u001b[0m\u001b[1m \u001b[0m┃\u001b[1m \u001b[0m\u001b[1m      Param #\u001b[0m\u001b[1m \u001b[0m┃\n",
       "┡━━━━━━━━━━━━━━━━━━━━━━━━━━━━━━━━━╇━━━━━━━━━━━━━━━━━━━━━━━━╇━━━━━━━━━━━━━━━┩\n",
       "│ dense (\u001b[38;5;33mDense\u001b[0m)                   │ (\u001b[38;5;45mNone\u001b[0m, \u001b[38;5;34m32\u001b[0m)             │           \u001b[38;5;34m128\u001b[0m │\n",
       "├─────────────────────────────────┼────────────────────────┼───────────────┤\n",
       "│ dense_1 (\u001b[38;5;33mDense\u001b[0m)                 │ (\u001b[38;5;45mNone\u001b[0m, \u001b[38;5;34m16\u001b[0m)             │           \u001b[38;5;34m528\u001b[0m │\n",
       "├─────────────────────────────────┼────────────────────────┼───────────────┤\n",
       "│ dense_2 (\u001b[38;5;33mDense\u001b[0m)                 │ (\u001b[38;5;45mNone\u001b[0m, \u001b[38;5;34m8\u001b[0m)              │           \u001b[38;5;34m136\u001b[0m │\n",
       "├─────────────────────────────────┼────────────────────────┼───────────────┤\n",
       "│ dense_3 (\u001b[38;5;33mDense\u001b[0m)                 │ (\u001b[38;5;45mNone\u001b[0m, \u001b[38;5;34m1\u001b[0m)              │             \u001b[38;5;34m9\u001b[0m │\n",
       "└─────────────────────────────────┴────────────────────────┴───────────────┘\n"
      ]
     },
     "metadata": {},
     "output_type": "display_data"
    },
    {
     "data": {
      "text/html": [
       "<pre style=\"white-space:pre;overflow-x:auto;line-height:normal;font-family:Menlo,'DejaVu Sans Mono',consolas,'Courier New',monospace\"><span style=\"font-weight: bold\"> Total params: </span><span style=\"color: #00af00; text-decoration-color: #00af00\">801</span> (3.13 KB)\n",
       "</pre>\n"
      ],
      "text/plain": [
       "\u001b[1m Total params: \u001b[0m\u001b[38;5;34m801\u001b[0m (3.13 KB)\n"
      ]
     },
     "metadata": {},
     "output_type": "display_data"
    },
    {
     "data": {
      "text/html": [
       "<pre style=\"white-space:pre;overflow-x:auto;line-height:normal;font-family:Menlo,'DejaVu Sans Mono',consolas,'Courier New',monospace\"><span style=\"font-weight: bold\"> Trainable params: </span><span style=\"color: #00af00; text-decoration-color: #00af00\">801</span> (3.13 KB)\n",
       "</pre>\n"
      ],
      "text/plain": [
       "\u001b[1m Trainable params: \u001b[0m\u001b[38;5;34m801\u001b[0m (3.13 KB)\n"
      ]
     },
     "metadata": {},
     "output_type": "display_data"
    },
    {
     "data": {
      "text/html": [
       "<pre style=\"white-space:pre;overflow-x:auto;line-height:normal;font-family:Menlo,'DejaVu Sans Mono',consolas,'Courier New',monospace\"><span style=\"font-weight: bold\"> Non-trainable params: </span><span style=\"color: #00af00; text-decoration-color: #00af00\">0</span> (0.00 B)\n",
       "</pre>\n"
      ],
      "text/plain": [
       "\u001b[1m Non-trainable params: \u001b[0m\u001b[38;5;34m0\u001b[0m (0.00 B)\n"
      ]
     },
     "metadata": {},
     "output_type": "display_data"
    }
   ],
   "source": [
    "# Display model architecture\n",
    "model.summary()"
   ]
  },
  {
   "cell_type": "code",
   "execution_count": 20,
   "id": "99183cf1-6770-4116-8152-caa71a76c257",
   "metadata": {},
   "outputs": [],
   "source": [
    "# Load the data\n",
    "(X_train, y_train, X_val, y_val, X_test, y_test) = pickleload(\"../data/mlp_regressor_data_no_aug.pkl\")"
   ]
  },
  {
   "cell_type": "code",
   "execution_count": 21,
   "id": "1f1d2242-331c-4e8e-90ca-6e6e0fabcae1",
   "metadata": {},
   "outputs": [
    {
     "name": "stdout",
     "output_type": "stream",
     "text": [
      "X_train: ((3092, 3), array([0.052083, 0.010417, 0.      ]), array([1.      , 0.552083, 1.      ])), y_train: ((3092,), 6.96, 343.4)\n",
      "X_val:   ((459, 3), array([0.052083, 0.010417, 0.      ]), array([1.      , 0.604167, 1.      ])),  y_val: ((459,), 9.99, 240.1687969)\n",
      "X_test:  ((248, 3), array([0.072917, 0.010417, 0.      ]), array([0.864583, 0.458333, 1.      ])),  y_test: ((248,), 12.29957825, 274.3977876)\n"
     ]
    }
   ],
   "source": [
    "# Check shape and range of each data split\n",
    "print(f\"X_train: {np.shape(X_train), np.min(X_train, axis=0), np.max(X_train, axis=0)}, y_train: {np.shape(y_train),np.min(y_train), np.max(y_train)}\")\n",
    "print(f\"X_val:   {np.shape(X_val), np.min(X_val, axis=0), np.max(X_val, axis=0)},  y_val: {np.shape(y_val),np.min(y_val), np.max(y_val)}\")\n",
    "print(f\"X_test:  {np.shape(X_test), np.min(X_test, axis=0), np.max(X_test, axis=0)},  y_test: {np.shape(y_test),np.min(y_test), np.max(y_test)}\")"
   ]
  },
  {
   "cell_type": "code",
   "execution_count": 24,
   "id": "e3a4be25-fb28-4260-a3a7-d5504cfbaad5",
   "metadata": {},
   "outputs": [],
   "source": [
    "# Setup target (vessel length) for scaling\n",
    "y_scaler, y_train_scaled = setup_target_scaler(y_train)\n",
    "y_val_scaled = y_scaler.transform(y_val.reshape(-1, 1)).flatten()"
   ]
  },
  {
   "cell_type": "code",
   "execution_count": 25,
   "id": "599ce06e-7a19-4fff-b0ce-48100dae5563",
   "metadata": {},
   "outputs": [],
   "source": [
    "# Create custom loss function - Absolute Relative Error (scaled)\n",
    "loss_function = create_custom_loss(y_scaler)"
   ]
  },
  {
   "cell_type": "code",
   "execution_count": 26,
   "id": "4dbd3c6f-2cbe-4c7a-90ee-0e3651f4f6eb",
   "metadata": {},
   "outputs": [],
   "source": [
    "# Compile with custom ARE loss and SGD optimizer\n",
    "optimizer = tf.keras.optimizers.SGD(learning_rate=0.001, momentum=0.9, nesterov=True)\n",
    "model.compile(loss=loss_function, optimizer=optimizer, metrics=['mae'])"
   ]
  },
  {
   "cell_type": "code",
   "execution_count": 27,
   "id": "a90f62dc-2dd1-4f1e-81da-d1a9431e5043",
   "metadata": {},
   "outputs": [],
   "source": [
    "# Setup VLA and model checkpoint callbacks\n",
    "checkpoint_path = '../models/mlp/best_model.keras'\n",
    "callbacks = create_callbacks(checkpoint_path, X_val, y_val, y_scaler, vla_freq=5)"
   ]
  },
  {
   "cell_type": "code",
   "execution_count": 30,
   "id": "7198476a-2591-42db-918f-d6f5cafd84c0",
   "metadata": {},
   "outputs": [
    {
     "name": "stdout",
     "output_type": "stream",
     "text": [
      "\n",
      "Epoch 1 - Validation VLA: 0.660\n",
      "\n",
      "Epoch 6 - Validation VLA: 0.672\n",
      "\n",
      "Epoch 11 - Validation VLA: 0.676\n",
      "\n",
      "Epoch 16 - Validation VLA: 0.668\n",
      "\n",
      "Epoch 21 - Validation VLA: 0.674\n",
      "\n",
      "Epoch 26 - Validation VLA: 0.672\n",
      "\n",
      "Epoch 31 - Validation VLA: 0.670\n",
      "\n",
      "Epoch 36 - Validation VLA: 0.668\n",
      "\n",
      "Epoch 41 - Validation VLA: 0.669\n",
      "\n",
      "Epoch 46 - Validation VLA: 0.675\n",
      "\n",
      "Epoch 51 - Validation VLA: 0.673\n",
      "\n",
      "Epoch 56 - Validation VLA: 0.679\n",
      "\n",
      "Epoch 61 - Validation VLA: 0.675\n",
      "\n",
      "Epoch 66 - Validation VLA: 0.676\n",
      "\n",
      "Epoch 71 - Validation VLA: 0.678\n",
      "\n",
      "Epoch 76 - Validation VLA: 0.676\n",
      "\n",
      "Epoch 81 - Validation VLA: 0.678\n",
      "\n",
      "Epoch 86 - Validation VLA: 0.679\n",
      "\n",
      "Epoch 91 - Validation VLA: 0.679\n",
      "\n",
      "Epoch 96 - Validation VLA: 0.677\n",
      "\n",
      "Epoch 101 - Validation VLA: 0.678\n",
      "\n",
      "Epoch 106 - Validation VLA: 0.676\n",
      "\n",
      "Epoch 111 - Validation VLA: 0.677\n",
      "\n",
      "Epoch 116 - Validation VLA: 0.677\n"
     ]
    }
   ],
   "source": [
    "# Train model\n",
    "tf.random.set_seed(42)\n",
    "\n",
    "#callbacks = tf.keras.callbacks.EarlyStopping(monitor='val_loss', patience=10, restore_best_weights=True)\n",
    "    \n",
    "history = model.fit(\n",
    "    X_train, y_train_scaled,\n",
    "    batch_size=32,\n",
    "    epochs=120,\n",
    "    shuffle=True,\n",
    "    validation_data=(X_val, y_val_scaled),\n",
    "    callbacks=callbacks,\n",
    "    verbose=0\n",
    ")"
   ]
  },
  {
   "cell_type": "code",
   "execution_count": 31,
   "id": "dd9d29bf-76f1-4777-b014-16aa1b096066",
   "metadata": {},
   "outputs": [
    {
     "data": {
      "image/png": "[encoded data removed]",
      "text/plain": [
       "<Figure size 800x600 with 1 Axes>"
      ]
     },
     "metadata": {},
     "output_type": "display_data"
    }
   ],
   "source": [
    "# Plot learning curves\n",
    "fig = plot_learning_curves(history, title=\"MLP Regressor training and validation learning curves\", figsize=(8, 6))"
   ]
  },
  {
   "cell_type": "code",
   "execution_count": null,
   "id": "e9775599-1261-480d-9572-a9c0ceb0c8b6",
   "metadata": {},
   "outputs": [],
   "source": [
    "# Load best model (after training)\n",
    "best_model = load_mlp_model(checkpoint_path, y_scaler)"
   ]
  },
  {
   "cell_type": "code",
   "execution_count": null,
   "id": "95401324-7238-487e-bd67-2f82985ff7a9",
   "metadata": {},
   "outputs": [],
   "source": [
    "# Save figure if required\n",
    "save_fig(\"../models/mlp/mlp_loss_(4_32-16-8_lr25e-5)\", fig=fig)"
   ]
  },
  {
   "cell_type": "markdown",
   "id": "7805d92d-95bf-4cf9-b39a-ca9451943524",
   "metadata": {},
   "source": [
    "## 3. Model evaluation"
   ]
  },
  {
   "cell_type": "code",
   "execution_count": null,
   "id": "881cfa0b-853b-4d4a-b9aa-50476b48065a",
   "metadata": {},
   "outputs": [],
   "source": [
    "y_train_pred = make_predictions(best_model, X_train, y_scaler)\n",
    "y_val_pred = make_predictions(best_model, X_val, y_scaler)\n",
    "y_test_pred = make_predictions(best_model, X_test, y_scaler)"
   ]
  },
  {
   "cell_type": "code",
   "execution_count": null,
   "id": "1882a7fb-d3ef-4b53-acf5-a0c0b12f2152",
   "metadata": {},
   "outputs": [],
   "source": [
    "# Calculate and display metrics for each split\n",
    "train_mlp_metrics = calculate_metrics_by_class(y_train, y_train_pred, X_train[:, -1], \"Training\")\n",
    "val_mlp_metrics = calculate_metrics_by_class(y_val, y_val_pred, X_val[:, -1], \"Validation\")\n",
    "test_mlp_metrics = calculate_metrics_by_class(y_test, y_test_pred, X_test[:, -1], \"Test\")"
   ]
  },
  {
   "cell_type": "code",
   "execution_count": null,
   "id": "00248730-be31-4cdb-a411-d881a0f269a7",
   "metadata": {},
   "outputs": [],
   "source": [
    "# Display predictded versus true vessel length plots for each split (use the rf regressor plot function)\n",
    "\n",
    "# Prepare plot data dictionary - extract 'overall' metrics\n",
    "plot_data = {\n",
    "    'train_true': y_train, 'train_pred': y_train_pred,\n",
    "    'val_true': y_val, 'val_pred': y_val_pred,\n",
    "    'test_true': y_test, 'test_pred': y_test_pred,\n",
    "    'train_metrics': train_mlp_metrics['overall'],\n",
    "    'val_metrics': val_mlp_metrics['overall'],\n",
    "    'test_metrics': test_mlp_metrics['overall'],\n",
    "    'train_classes': X_train[:, -1],\n",
    "    'val_classes': X_val[:, -1],\n",
    "    'test_classes': X_test[:, -1]\n",
    "}\n",
    "\n",
    "# Generate all three plots side by side\n",
    "plot_results(plot_data)"
   ]
  },
  {
   "cell_type": "code",
   "execution_count": null,
   "id": "67474889-c8db-4ac2-bd75-88e3891cc4ce",
   "metadata": {},
   "outputs": [],
   "source": []
  }
 ],
 "metadata": {
  "kernelspec": {
   "display_name": "Python 3 (ipykernel)",
   "language": "python",
   "name": "python3"
  },
  "language_info": {
   "codemirror_mode": {
    "name": "ipython",
    "version": 3
   },
   "file_extension": ".py",
   "mimetype": "text/x-python",
   "name": "python",
   "nbconvert_exporter": "python",
   "pygments_lexer": "ipython3",
   "version": "3.10.12"
  }
 },
 "nbformat": 4,
 "nbformat_minor": 5
}
