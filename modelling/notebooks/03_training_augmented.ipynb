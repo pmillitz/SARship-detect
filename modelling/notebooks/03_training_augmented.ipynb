{
 "cells": [
  {
   "cell_type": "markdown",
   "id": "5775cbc8-5f9a-4772-b61f-a252389b7d4b",
   "metadata": {},
   "source": [
    "# Training with Original + Augmented images"
   ]
  },
  {
   "cell_type": "markdown",
   "id": "120c906f-415c-4c65-b975-41aa7f9099e2",
   "metadata": {},
   "source": [
    "## 1. Setup"
   ]
  },
  {
   "cell_type": "code",
   "execution_count": 19,
   "id": "9cb7fded-4fb7-4a45-a98a-2513b6e306d1",
   "metadata": {},
   "outputs": [
    {
     "name": "stdout",
     "output_type": "stream",
     "text": [
      "The autoreload extension is already loaded. To reload it, use:\n",
      "  %reload_ext autoreload\n"
     ]
    }
   ],
   "source": [
    "# Better error messages in notebooks\n",
    "%load_ext autoreload\n",
    "%autoreload 2"
   ]
  },
  {
   "cell_type": "code",
   "execution_count": 20,
   "id": "b64adc04-43bc-4268-bc4e-8ec0b8d6317f",
   "metadata": {},
   "outputs": [
    {
     "name": "stdout",
     "output_type": "stream",
     "text": [
      "Project root: /home/peterm/UWA/CITS5014/SARFish/modelling\n",
      "Data directory: /home/peterm/UWA/CITS5014/SARFish/modelling/data\n",
      "Config directory: /home/peterm/UWA/CITS5014/SARFish/modelling/configs\n",
      "Runs directory: /home/peterm/UWA/CITS5014/SARFish/modelling/runs\n"
     ]
    }
   ],
   "source": [
    "# Set up data paths\n",
    "\n",
    "import sys\n",
    "from pathlib import Path\n",
    "\n",
    "# Get to project root from notebook location\n",
    "PROJECT_ROOT = Path.cwd().parent\n",
    "# Add \"src\" to Python's module search path sys.path\n",
    "sys.path.append(str(PROJECT_ROOT / \"src\"))\n",
    "\n",
    "# Define project paths\n",
    "DATA_DIR = PROJECT_ROOT / \"data\"\n",
    "CONFIG_DIR = PROJECT_ROOT / \"configs\"\n",
    "RUNS_DIR = PROJECT_ROOT / \"runs\"\n",
    "\n",
    "print(f\"Project root: {PROJECT_ROOT}\")\n",
    "print(f\"Data directory: {DATA_DIR}\")\n",
    "print(f\"Config directory: {CONFIG_DIR}\")\n",
    "print(f\"Runs directory: {RUNS_DIR}\")"
   ]
  },
  {
   "cell_type": "code",
   "execution_count": 21,
   "id": "61693170-1147-4ce8-99d0-a35587e07cb8",
   "metadata": {},
   "outputs": [],
   "source": [
    "# Setup and imports\n",
    "%matplotlib inline\n",
    "from sar_dataset import SARPreprocessedDataset\n",
    "from letterbox_resize import letterbox_resize\n",
    "from sar_yolo_simple_trainer import SimpleSARTrainer\n",
    "from sar_evaluator import SARFloat32Evaluator\n",
    "import json"
   ]
  },
  {
   "cell_type": "code",
   "execution_count": 22,
   "id": "5e2eec5d-150a-411b-a981-af0eca887d5f",
   "metadata": {},
   "outputs": [],
   "source": [
    "# Create data configuration\n",
    "import yaml\n",
    "\n",
    "data_config = {\n",
    "    'path':   str(PROJECT_ROOT / 'data'), \n",
    "    'train':  'train_hflip',\n",
    "    'val':    'val', \n",
    "    'test':   'test',\n",
    "    'nc': 2,\n",
    "    'names':  ['is_vessel', 'is_fishing']\n",
    "}\n",
    "\n",
    "# Save to configs directory\n",
    "config_path = CONFIG_DIR / 'sar_data_hflip.yaml'\n",
    "with open(config_path, 'w') as f:\n",
    "    yaml.dump(data_config, f)"
   ]
  },
  {
   "cell_type": "markdown",
   "id": "2b358a37-ef37-4cf8-8e89-6d211b4803c4",
   "metadata": {},
   "source": [
    "## 2. Model Inspection (YOLOv8)"
   ]
  },
  {
   "cell_type": "code",
   "execution_count": 23,
   "id": "11a730e9-23d6-4b86-90f5-85beec7defb7",
   "metadata": {},
   "outputs": [],
   "source": [
    "#%run {PROJECT_ROOT / 'src/yolov8n_model_explorer'}"
   ]
  },
  {
   "cell_type": "markdown",
   "id": "54a70da9-f255-41b4-acf9-768075b30a26",
   "metadata": {},
   "source": [
    "### Proposed Freezing Strategies:\n",
    "\n",
    "For YOLOv8n fine-tuning on SAR data:\n",
    "\n",
    "1. CONSERVATIVE (Freeze backbone only):  \n",
    "   Freezes modules 0-9\n",
    "   - Freezes: 1,272,656 parameters (40.3%)\n",
    "   - Trains: 1,884,544 parameters (59.7%)  \n",
    "2. MODERATE (Freeze backbone + early neck):  \n",
    "   Freezes modules 0-12  \n",
    "3. AGGRESSIVE (Freeze most, train detection head only):  \n",
    "   Freezes modules 0-20"
   ]
  },
  {
   "cell_type": "markdown",
   "id": "bfc4450f-5b64-4548-8383-0e61f53a2963",
   "metadata": {},
   "source": [
    "## 3. Model training"
   ]
  },
  {
   "cell_type": "code",
   "execution_count": 24,
   "id": "9267e3be-19b2-4835-8a04-0882a92fb301",
   "metadata": {},
   "outputs": [
    {
     "name": "stdout",
     "output_type": "stream",
     "text": [
      "The tensorboard extension is already loaded. To reload it, use:\n",
      "  %reload_ext tensorboard\n"
     ]
    },
    {
     "data": {
      "text/plain": [
       "Reusing TensorBoard on port 6006 (pid 230631), started 3:10:08 ago. (Use '!kill 230631' to kill it.)"
      ]
     },
     "metadata": {},
     "output_type": "display_data"
    },
    {
     "data": {
      "text/html": [
       "\n",
       "      <iframe id=\"tensorboard-frame-c3a821e36f81b00c\" width=\"100%\" height=\"800\" frameborder=\"0\">\n",
       "      </iframe>\n",
       "      <script>\n",
       "        (function() {\n",
       "          const frame = document.getElementById(\"tensorboard-frame-c3a821e36f81b00c\");\n",
       "          const url = new URL(\"/\", window.location);\n",
       "          const port = 6006;\n",
       "          if (port) {\n",
       "            url.port = port;\n",
       "          }\n",
       "          frame.src = url;\n",
       "        })();\n",
       "      </script>\n",
       "    "
      ],
      "text/plain": [
       "<IPython.core.display.HTML object>"
      ]
     },
     "metadata": {},
     "output_type": "display_data"
    }
   ],
   "source": [
    "# Start TensorBoard in notebook\n",
    "%load_ext tensorboard\n",
    "%tensorboard --logdir {RUNS_DIR / 'train_rotate'}"
   ]
  },
  {
   "cell_type": "code",
   "execution_count": 27,
   "id": "71c31fda-fbbc-460d-82e9-d210cb027248",
   "metadata": {},
   "outputs": [
    {
     "name": "stdout",
     "output_type": "stream",
     "text": [
      "💾 Models will be saved to: /home/peterm/UWA/CITS5014/SARFish/modelling/runs/train_hflip/20250729_192016\n",
      "Using device: cuda\n",
      "Train samples: 5616\n",
      "Val samples: 463\n"
     ]
    }
   ],
   "source": [
    "# Initialise trainer\n",
    "trainer = SimpleSARTrainer(\n",
    "    model_name='yolov8n.pt',\n",
    "    data_yaml=str(CONFIG_DIR / 'sar_data_hflip.yaml'),\n",
    "    imgsz=640,\n",
    "    device='cuda',\n",
    "    save_dir=RUNS_DIR / 'train_hflip'\n",
    ")"
   ]
  },
  {
   "cell_type": "code",
   "execution_count": 28,
   "id": "b07fe241-c675-4429-894b-9d1690f2516b",
   "metadata": {},
   "outputs": [
    {
     "data": {
      "image/png": "[encoded data removed]",
      "text/plain": [
       "<Figure size 1500x500 with 3 Axes>"
      ]
     },
     "metadata": {},
     "output_type": "display_data"
    },
    {
     "name": "stdout",
     "output_type": "stream",
     "text": [
      "\n",
      "==================================================\n",
      "Epoch 6/50\n",
      "==================================================\n"
     ]
    },
    {
     "data": {
      "application/vnd.jupyter.widget-view+json": {
       "model_id": "46110ba2362a4ad69781e06bac294115",
       "version_major": 2,
       "version_minor": 0
      },
      "text/plain": [
       "Training:   0%|          | 0/351 [00:00<?, ?it/s]"
      ]
     },
     "metadata": {},
     "output_type": "display_data"
    },
    {
     "data": {
      "application/vnd.jupyter.widget-view+json": {
       "model_id": "e527fd8eba554dbfabede97d5ea403f8",
       "version_major": 2,
       "version_minor": 0
      },
      "text/plain": [
       "Validation:   0%|          | 0/29 [00:00<?, ?it/s]"
      ]
     },
     "metadata": {},
     "output_type": "display_data"
    },
    {
     "name": "stdout",
     "output_type": "stream",
     "text": [
      "\n",
      "📊 Results:\n",
      "  Train Loss: 70.1892\n",
      "  Val Loss: 92.9673\n",
      "  Learning Rate: 0.000100\n",
      "  ⏳ Patience counter: 1/5\n",
      "\n",
      "==================================================\n",
      "Epoch 7/50\n",
      "==================================================\n"
     ]
    },
    {
     "data": {
      "application/vnd.jupyter.widget-view+json": {
       "model_id": "93387d082f224654b7c822cffae173d6",
       "version_major": 2,
       "version_minor": 0
      },
      "text/plain": [
       "Training:   0%|          | 0/351 [00:00<?, ?it/s]"
      ]
     },
     "metadata": {},
     "output_type": "display_data"
    },
    {
     "data": {
      "application/vnd.jupyter.widget-view+json": {
       "model_id": "89adf8865dd64e40b4e2561fc9bb8488",
       "version_major": 2,
       "version_minor": 0
      },
      "text/plain": [
       "Validation:   0%|          | 0/29 [00:00<?, ?it/s]"
      ]
     },
     "metadata": {},
     "output_type": "display_data"
    },
    {
     "name": "stdout",
     "output_type": "stream",
     "text": [
      "\n",
      "📊 Results:\n",
      "  Train Loss: 62.9597\n",
      "  Val Loss: 91.0856\n",
      "  Learning Rate: 0.000100\n",
      "  ⏳ Patience counter: 2/5\n",
      "\n",
      "==================================================\n",
      "Epoch 8/50\n",
      "==================================================\n"
     ]
    },
    {
     "data": {
      "application/vnd.jupyter.widget-view+json": {
       "model_id": "51511ecf59984e3cb528b755047fb590",
       "version_major": 2,
       "version_minor": 0
      },
      "text/plain": [
       "Training:   0%|          | 0/351 [00:00<?, ?it/s]"
      ]
     },
     "metadata": {},
     "output_type": "display_data"
    },
    {
     "data": {
      "application/vnd.jupyter.widget-view+json": {
       "model_id": "7792d4c445694446bbe2507de0da5ab8",
       "version_major": 2,
       "version_minor": 0
      },
      "text/plain": [
       "Validation:   0%|          | 0/29 [00:00<?, ?it/s]"
      ]
     },
     "metadata": {},
     "output_type": "display_data"
    },
    {
     "name": "stdout",
     "output_type": "stream",
     "text": [
      "\n",
      "📊 Results:\n",
      "  Train Loss: 56.4517\n",
      "  Val Loss: 91.8489\n",
      "  Learning Rate: 0.000099\n",
      "  ⏳ Patience counter: 3/5\n",
      "\n",
      "==================================================\n",
      "Epoch 9/50\n",
      "==================================================\n"
     ]
    },
    {
     "data": {
      "application/vnd.jupyter.widget-view+json": {
       "model_id": "433dac00cab24e90ac2c630dbeb323d6",
       "version_major": 2,
       "version_minor": 0
      },
      "text/plain": [
       "Training:   0%|          | 0/351 [00:00<?, ?it/s]"
      ]
     },
     "metadata": {},
     "output_type": "display_data"
    },
    {
     "data": {
      "application/vnd.jupyter.widget-view+json": {
       "model_id": "f03807188fde4cd6a67ba01732f2c162",
       "version_major": 2,
       "version_minor": 0
      },
      "text/plain": [
       "Validation:   0%|          | 0/29 [00:00<?, ?it/s]"
      ]
     },
     "metadata": {},
     "output_type": "display_data"
    },
    {
     "name": "stdout",
     "output_type": "stream",
     "text": [
      "\n",
      "📊 Results:\n",
      "  Train Loss: 50.8892\n",
      "  Val Loss: 95.2819\n",
      "  Learning Rate: 0.000098\n",
      "  ⏳ Patience counter: 4/5\n",
      "\n",
      "==================================================\n",
      "Epoch 10/50\n",
      "==================================================\n"
     ]
    },
    {
     "data": {
      "application/vnd.jupyter.widget-view+json": {
       "model_id": "027740b4225f41b5ab8b1865c3eee1af",
       "version_major": 2,
       "version_minor": 0
      },
      "text/plain": [
       "Training:   0%|          | 0/351 [00:00<?, ?it/s]"
      ]
     },
     "metadata": {},
     "output_type": "display_data"
    },
    {
     "data": {
      "application/vnd.jupyter.widget-view+json": {
       "model_id": "edc66a27fbc84d939d0ea2db6cbdb11f",
       "version_major": 2,
       "version_minor": 0
      },
      "text/plain": [
       "Validation:   0%|          | 0/29 [00:00<?, ?it/s]"
      ]
     },
     "metadata": {},
     "output_type": "display_data"
    },
    {
     "name": "stdout",
     "output_type": "stream",
     "text": [
      "\n",
      "📊 Results:\n",
      "  Train Loss: 46.3848\n",
      "  Val Loss: 95.8294\n",
      "  Learning Rate: 0.000097\n",
      "  ⏳ Patience counter: 5/5\n",
      "\n",
      "🛑 Early stopping triggered at epoch 10\n",
      "  💾 Saved checkpoint: final.pt\n",
      "\n",
      "==================================================\n",
      "Training completed!\n",
      "Best validation loss: 90.6027\n",
      "Final epoch: 10\n",
      "==================================================\n"
     ]
    }
   ],
   "source": [
    "# Train the model\n",
    "history = trainer.train(\n",
    "    epochs=50,  # Still testing\n",
    "    batch_size=16,\n",
    "    optimizer_type='adamw',\n",
    "    lr=0.00001,\n",
    "    workers=4,\n",
    "    weight_decay=0.0005,             # L2 regularization\n",
    "    use_warmup=True,                 # Enable learning rate warmup\n",
    "    use_progressive_unfreeze=False,  # Disable progressive unfreezing\n",
    "    freeze_until_module=9            # Freeze backbone only\n",
    ")"
   ]
  },
  {
   "cell_type": "code",
   "execution_count": 29,
   "id": "5d641bff-995b-4d6a-ba21-db026ab7b228",
   "metadata": {},
   "outputs": [
    {
     "name": "stdout",
     "output_type": "stream",
     "text": [
      "Loaded best model from epoch 5\n",
      "Loaded best model from epoch 5 with val loss 90.6027\n"
     ]
    }
   ],
   "source": [
    "# Load best model\n",
    "best_epoch, best_val_loss = trainer.load_best_model()\n",
    "print(f\"Loaded best model from epoch {best_epoch+1} with val loss {best_val_loss:.4f}\")"
   ]
  },
  {
   "cell_type": "code",
   "execution_count": 30,
   "id": "717456b3-d1cf-4bb4-86a1-516f5e4e4b7a",
   "metadata": {},
   "outputs": [
    {
     "name": "stdout",
     "output_type": "stream",
     "text": [
      "✅ Saved training history and config to: /home/peterm/UWA/CITS5014/SARFish/modelling/runs/train_hflip/20250729_192016\n"
     ]
    }
   ],
   "source": [
    "# Save training history using the trainer's save_dir\n",
    "with open(trainer.save_dir / 'history.json', 'w') as f:\n",
    "    json.dump(history, f)\n",
    "\n",
    "# Save training config (MANUAL EDIT!)\n",
    "config = {\n",
    "    'model_name': 'yolov8n.pt',\n",
    "    'epochs': 50,\n",
    "    'batch_size': 16,\n",
    "    'optimizer_type': 'adamw',\n",
    "    'lr': 0.00001,\n",
    "    'workers': 4,\n",
    "    'weight_decay': 0.0005,\n",
    "    'use_warmup': True,\n",
    "    'use_progressive_unfreeze': False,\n",
    "    'freeze_until_module': 9,\n",
    "    'best_val_loss': trainer.best_val_loss,\n",
    "    'final_epoch': len(history['train_loss']),\n",
    "    'early_stopped': trainer.patience_counter >= trainer.early_stop_patience\n",
    "}\n",
    "\n",
    "with open(trainer.save_dir / 'config.json', 'w') as f:\n",
    "    json.dump(config, f, indent=2)\n",
    "\n",
    "print(f\"✅ Saved training history and config to: {trainer.save_dir}\")"
   ]
  },
  {
   "cell_type": "markdown",
   "id": "d0b3dd76-abd9-4abc-ab03-ba55abc5d012",
   "metadata": {},
   "source": [
    "## 4. Model Evaluation"
   ]
  },
  {
   "cell_type": "code",
   "execution_count": 31,
   "id": "a16bbff6-a30e-44cd-a5d1-ef60a02d0f41",
   "metadata": {},
   "outputs": [
    {
     "name": "stdout",
     "output_type": "stream",
     "text": [
      "/home/peterm/UWA/CITS5014/SARFish/modelling/configs/sar_data_hflip.yaml\n"
     ]
    }
   ],
   "source": [
    "# Sets up path to the relevant data.yaml file for easy access\n",
    "config_path=CONFIG_DIR /'sar_data_hflip.yaml' \n",
    "print(config_path)"
   ]
  },
  {
   "cell_type": "code",
   "execution_count": 32,
   "id": "c17fc9f8-a0d7-4ce1-be68-5162dd430f77",
   "metadata": {},
   "outputs": [],
   "source": [
    "# Initialize the evaluator\n",
    "evaluator = SARFloat32Evaluator(\n",
    "    model_path=RUNS_DIR / 'train_hflip/20250729_192016/best.pt',\n",
    "    data_yaml_path=config_path,\n",
    "    device='cuda'\n",
    ")"
   ]
  },
  {
   "cell_type": "code",
   "execution_count": 33,
   "id": "ab39d850-9cb2-4912-b50c-8b5c0fe6a281",
   "metadata": {},
   "outputs": [],
   "source": [
    "# Create the test dataset\n",
    "with open(config_path, 'r') as f:\n",
    "    data_dict = yaml.safe_load(f)\n",
    "\n",
    "# Create test dataset manually\n",
    "data_root = Path(data_dict['path'])\n",
    "test_dataset = SARPreprocessedDataset(\n",
    "    image_dir=str(data_root / 'test' / 'images'),  # or 'val' if using val\n",
    "    label_dir=str(data_root / 'test' / 'labels'),\n",
    "    imgsz=640\n",
    ")"
   ]
  },
  {
   "cell_type": "code",
   "execution_count": 34,
   "id": "2df781fa-d63f-4ab3-ae8b-200d3c5d8596",
   "metadata": {},
   "outputs": [
    {
     "name": "stdout",
     "output_type": "stream",
     "text": [
      "Evaluating on 253 images...\n"
     ]
    },
    {
     "name": "stderr",
     "output_type": "stream",
     "text": [
      "Evaluating: 100%|█████████████████████████████████████████████████████████████████████████| 8/8 [00:03<00:00,  2.52it/s]\n"
     ]
    },
    {
     "name": "stdout",
     "output_type": "stream",
     "text": [
      "\n",
      "Results saved to: /home/peterm/UWA/CITS5014/SARFish/modelling/runs/evaluation_hflip/test_results\n",
      "- metrics.json: Detailed metrics\n",
      "- evaluation_results.png: Visualization\n"
     ]
    }
   ],
   "source": [
    "# Run evaluation\n",
    "metrics = evaluator.evaluate_dataset(\n",
    "    test_dataset,\n",
    "    batch_size=32,\n",
    "    conf_thres=0.25,\n",
    "    iou_thres=0.45,\n",
    "    save_dir=RUNS_DIR / 'evaluation_hflip' / 'test_results'\n",
    ")"
   ]
  },
  {
   "cell_type": "code",
   "execution_count": null,
   "id": "665c7a0a-e9c1-459b-8839-6ac505891dea",
   "metadata": {},
   "outputs": [],
   "source": []
  },
  {
   "cell_type": "code",
   "execution_count": null,
   "id": "608d1f80-99de-4acc-b298-d26b90163262",
   "metadata": {},
   "outputs": [],
   "source": []
  },
  {
   "cell_type": "code",
   "execution_count": null,
   "id": "39bc8778-9484-4ec8-93bc-831768fa8b74",
   "metadata": {},
   "outputs": [],
   "source": [
    "# Test inference on a single image\n",
    "import torch\n",
    "import numpy as np\n",
    "\n",
    "# Load a test image\n",
    "test_img_path = list((DATA_DIR / 'test' / 'images').glob('*.npy'))[0]\n",
    "print(test_img_path)\n",
    "test_img = np.load(test_img_path)\n",
    "\n",
    "# Convert numpy image to a torch tensor and add a batch dimension with\n",
    "# unsqueeze, then move the tensor to the approriate device (CPU or GPU)\n",
    "test_img = torch.from_numpy(test_img).unsqueeze(0).to(trainer.device)\n",
    "\n",
    "# Run inference\n",
    "trainer.model.eval() # Sets the model to evaluation mode (disables dropout, uses running stats for batch normalization)\n",
    "with torch.no_grad(): # Disables gradient computation for efficiency during inference\n",
    "    predictions = trainer.model(test_img)\n",
    "\n",
    "# Print the shape of predictions—taking care to handle tuple output (like in YOLO-style heads).    \n",
    "print(f\"Predictions shape: {predictions[1][0].shape if isinstance(predictions, tuple) else predictions.shape}\")"
   ]
  },
  {
   "cell_type": "code",
   "execution_count": null,
   "id": "7631076f-a823-4a2f-b027-efe1a78f733e",
   "metadata": {},
   "outputs": [],
   "source": []
  },
  {
   "cell_type": "code",
   "execution_count": null,
   "id": "53247d88-2f0f-4dab-98e1-f602e786c882",
   "metadata": {},
   "outputs": [],
   "source": []
  },
  {
   "cell_type": "code",
   "execution_count": null,
   "id": "84a39fb9-eb1d-4e02-a226-eae75bda577b",
   "metadata": {},
   "outputs": [],
   "source": []
  },
  {
   "cell_type": "code",
   "execution_count": null,
   "id": "c7caa223-e49e-4692-a655-fe594fb2fb64",
   "metadata": {},
   "outputs": [],
   "source": []
  }
 ],
 "metadata": {
  "kernelspec": {
   "display_name": "Python 3 (ipykernel)",
   "language": "python",
   "name": "python3"
  },
  "language_info": {
   "codemirror_mode": {
    "name": "ipython",
    "version": 3
   },
   "file_extension": ".py",
   "mimetype": "text/x-python",
   "name": "python",
   "nbconvert_exporter": "python",
   "pygments_lexer": "ipython3",
   "version": "3.10.12"
  }
 },
 "nbformat": 4,
 "nbformat_minor": 5
}
