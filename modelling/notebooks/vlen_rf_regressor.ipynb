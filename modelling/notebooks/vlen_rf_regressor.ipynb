{
 "cells": [
  {
   "cell_type": "markdown",
   "id": "47ba6a2e-6689-4106-8362-02fc39a1cea9",
   "metadata": {},
   "source": [
    "# SARFish Random Forest Vessel Length Regressor"
   ]
  },
  {
   "cell_type": "markdown",
   "id": "408ce350-0207-4b50-8e77-ed51b89a038a",
   "metadata": {},
   "source": [
    "## 1. Setup"
   ]
  },
  {
   "cell_type": "code",
   "execution_count": 1,
   "id": "acc35c90-60a9-41b5-9831-8ea999eb3d2a",
   "metadata": {},
   "outputs": [],
   "source": [
    "# Better error messages in notebooks\n",
    "%load_ext autoreload\n",
    "%autoreload 2"
   ]
  },
  {
   "cell_type": "code",
   "execution_count": 2,
   "id": "4f84158b-6669-4366-aaa7-e5d73c2ccdd9",
   "metadata": {},
   "outputs": [
    {
     "name": "stdout",
     "output_type": "stream",
     "text": [
      "PROJECT_ROOT: /home/peterm/UWA/CITS5014/SARFish\n",
      "DATA_DIR:     /mnt/h/SARFish/Generated/SLC\n",
      "RUNS_DIR:     /home/peterm/UWA/CITS5014/SARFish/modelling/runs\n",
      "WORK_DIR:     /home/peterm/UWA/CITS5014/SARFish/working\n"
     ]
    }
   ],
   "source": [
    "# Set up data paths\n",
    "from pathlib import Path\n",
    "import sys\n",
    "\n",
    "# Get to project root from notebook location\n",
    "PROJECT_ROOT = Path.cwd().parent.parent\n",
    "# Add \"src\" to Python's module search path sys.path\n",
    "sys.path.append(str(PROJECT_ROOT / \"modelling\" /\"src\"))\n",
    "# Add \"working\" to Python's module search path sys.path\n",
    "sys.path.append(str(PROJECT_ROOT / \"working\"))\n",
    "\n",
    "# Define project paths\n",
    "DATA_DIR = Path(\"/mnt/h/SARFish/Generated/SLC/\")\n",
    "RUNS_DIR = PROJECT_ROOT / \"modelling\" / \"runs\"\n",
    "WORK_DIR = PROJECT_ROOT / \"working\"\n",
    "\n",
    "print(f\"PROJECT_ROOT: {PROJECT_ROOT}\")\n",
    "print(f\"DATA_DIR:     {DATA_DIR}\")\n",
    "print(f\"RUNS_DIR:     {RUNS_DIR}\")\n",
    "print(f\"WORK_DIR:     {WORK_DIR}\")"
   ]
  },
  {
   "cell_type": "code",
   "execution_count": 3,
   "id": "dc7c3be7-4b27-42f6-b8a2-5832cb8e7fae",
   "metadata": {},
   "outputs": [],
   "source": [
    "import numpy as np\n",
    "import pandas as pd\n",
    "import cv2\n",
    "import glob as glob\n",
    "import yaml\n",
    "import pickle\n",
    "import matplotlib.pyplot as plt\n",
    "from datetime import datetime\n",
    "from ultralytics import YOLO\n",
    "\n",
    "import tensorflow as tf\n",
    "from scipy.stats import randint\n",
    "from sklearn.preprocessing import MinMaxScaler\n",
    "from sklearn.ensemble import RandomForestRegressor\n",
    "from sklearn.model_selection import RandomizedSearchCV\n",
    "\n",
    "from utilities import *\n",
    "from plot_loss_curves import plot_total_loss\n",
    "from du_utilities import *\n",
    "\n",
    "from label_feature_extractor import extract_features_from_labels\n",
    "from extract_bbox_features import extract_bbox_features\n",
    "from rf_vlen_regressor import  VesselLengthRegressor\n",
    "from match_png_vessel_lengths import build_image_vessel_length_table\n",
    "\n",
    "from run_inference_and_export import run_inference_and_save_results\n",
    "from crops_analyser import analyse_crops"
   ]
  },
  {
   "cell_type": "markdown",
   "id": "07b2eb8c-627f-4d3f-b5fd-b768bed5e456",
   "metadata": {},
   "source": [
    "## 2. Data preparation"
   ]
  },
  {
   "cell_type": "markdown",
   "id": "774a59d4-6074-444e-854b-d84354e4ba4b",
   "metadata": {},
   "source": [
    "Training and validation input files for vessel regression are constructed using the ground truth label files created during the image cropping process. For inference, the input file should be generated from the bounding box predictions output by the vessel detector. \n",
    "\n",
    "Procedure:\n",
    "\n",
    "A. Training and validation splits\n",
    "\n",
    "For both splits, construct an input file containing ground truth information for every detection in that split. Each row of the table should include a label filename,  ground truth bounding box dimensions (width and height) and class. Appended to each row should be the corresponding vessel length in metres.\n",
    "\n",
    "B. Test set.\n",
    "\n",
    "The structure of the input file used for inference should be identical with the following two exceptions:\n",
    "•\tLabel filenames are substituted with the test set image filenames.\n",
    "•\tThe bounding box dimensions and class ids are the product of vessel detections\n",
    "\n",
    "\n",
    "**Note:** The feature extraction process extracts the box width and height 'as is', i.e., in normalised coordinates \\[0, 1\\]. Width and height in pixel units are optionally added later. The ground truth vessel lengths are also 'as is' (no scaling applied)."
   ]
  },
  {
   "cell_type": "markdown",
   "id": "8941f063-554a-4501-b153-9e6a1044929b",
   "metadata": {},
   "source": [
    "### 2.1. `train` set"
   ]
  },
  {
   "cell_type": "markdown",
   "id": "af987583-979c-42ff-8541-86d77f95fa7c",
   "metadata": {},
   "source": [
    "Extract features for vessel length regressor training."
   ]
  },
  {
   "cell_type": "code",
   "execution_count": 6,
   "id": "b5f58dcc-3bdf-41b6-841c-a93335c68690",
   "metadata": {},
   "outputs": [
    {
     "name": "stdout",
     "output_type": "stream",
     "text": [
      "Step 1: Matching label files with vessel lengths...\n",
      "Step 1 completed: 3092 files matched\n",
      "\n",
      "Step 2: Extracting features from label files...\n"
     ]
    },
    {
     "name": "stderr",
     "output_type": "stream",
     "text": [
      "Processing label files: 100%|████████████████████████████████████████████████████████████| 3092/3092 [01:51<00:00, 27.85it/s]"
     ]
    },
    {
     "name": "stdout",
     "output_type": "stream",
     "text": [
      "Step 2 completed: 3092 feature records extracted\n"
     ]
    },
    {
     "name": "stderr",
     "output_type": "stream",
     "text": [
      "\n"
     ]
    }
   ],
   "source": [
    "# Assemble the ground truth features for the regressor training set \n",
    "train_features_df = extract_features_from_labels(\n",
    "                        metadata_csv_path =  WORK_DIR / 'df_labels_train_filt.csv',\n",
    "                        label_dir =          WORK_DIR / 'train' / 'crops_png_dual' / 'labels',\n",
    "                        output_csv_path =    WORK_DIR / 'train_vlen_reg_input.csv',\n",
    "                        matching_logfile =   WORK_DIR / 'train_matching.log',\n",
    "                        extraction_logfile = WORK_DIR / 'train_feature_extraction.log')"
   ]
  },
  {
   "cell_type": "code",
   "execution_count": 6,
   "id": "540cae23-9263-4dff-a885-9299b0c042bf",
   "metadata": {},
   "outputs": [
    {
     "name": "stdout",
     "output_type": "stream",
     "text": [
      "                   dtype  count  missing       min         max\n",
      "class              int64   3092        0  0.000000    1.000000\n",
      "height           float64   3092        0  0.010417    0.552083\n",
      "label_filename    object   3092        0       NaN         NaN\n",
      "vessel_length_m  float64   3092        0  6.960000  343.400000\n",
      "width            float64   3092        0  0.052083    1.000000\n"
     ]
    }
   ],
   "source": [
    "# Print basic stats for the lookup table just created\n",
    "train_vlen_reg_input_summary = summarise_csv(WORK_DIR / 'train_vlen_reg_input.csv')\n",
    "print(train_vlen_reg_input_summary)"
   ]
  },
  {
   "cell_type": "code",
   "execution_count": 29,
   "id": "eba8bc98-18cf-4661-8638-95f939d43f01",
   "metadata": {},
   "outputs": [],
   "source": [
    "# Optionally add un-normlised width and height columns ('width_pixels' and 'height_pixels')\n",
    "#df = unnormalize_features(WORK_DIR / 'train_vlen_reg_input.csv')"
   ]
  },
  {
   "cell_type": "markdown",
   "id": "2219eb55-b0bf-402e-a66f-bf9d6b05a8f0",
   "metadata": {},
   "source": [
    "### 2.2 `val` set"
   ]
  },
  {
   "cell_type": "markdown",
   "id": "15e6479b-ad03-4baa-ae26-ac50a374ffad",
   "metadata": {},
   "source": [
    "Repeat feature extraction for the `val` set in the same way as for `train`"
   ]
  },
  {
   "cell_type": "code",
   "execution_count": 8,
   "id": "ba644fdd-86fa-4e82-9c9c-5fd2243a5cec",
   "metadata": {},
   "outputs": [
    {
     "name": "stdout",
     "output_type": "stream",
     "text": [
      "Step 1: Matching label files with vessel lengths...\n",
      "Step 1 completed: 459 files matched\n",
      "\n",
      "Step 2: Extracting features from label files...\n"
     ]
    },
    {
     "name": "stderr",
     "output_type": "stream",
     "text": [
      "Processing label files: 100%|██████████████████████████████████████████████████████████████| 459/459 [00:15<00:00, 29.95it/s]"
     ]
    },
    {
     "name": "stdout",
     "output_type": "stream",
     "text": [
      "Step 2 completed: 459 feature records extracted\n"
     ]
    },
    {
     "name": "stderr",
     "output_type": "stream",
     "text": [
      "\n"
     ]
    }
   ],
   "source": [
    "# Assemble the ground truth features for the regressor validation set \n",
    "val_features_df = extract_features_from_labels(\n",
    "                        metadata_csv_path =  WORK_DIR /  'df_labels_val_filt.csv',\n",
    "                        label_dir =          WORK_DIR /  'val' / 'crops_png_dual' / 'labels',\n",
    "                        output_csv_path =    WORK_DIR /  'val_vlen_reg_input.csv',\n",
    "                        matching_logfile =   WORK_DIR /  'val_matching.log',\n",
    "                        extraction_logfile = WORK_DIR /  'val_feature_extraction.log')"
   ]
  },
  {
   "cell_type": "code",
   "execution_count": 7,
   "id": "c3e2d082-794d-4897-9ea2-beb19929f0a9",
   "metadata": {},
   "outputs": [
    {
     "name": "stdout",
     "output_type": "stream",
     "text": [
      "                   dtype  count  missing       min         max\n",
      "class              int64    459        0  0.000000    1.000000\n",
      "height           float64    459        0  0.010417    0.604167\n",
      "label_filename    object    459        0       NaN         NaN\n",
      "vessel_length_m  float64    459        0  9.990000  240.168797\n",
      "width            float64    459        0  0.052083    1.000000\n"
     ]
    }
   ],
   "source": [
    "# Print basic stats for the lookup table just created\n",
    "val_vlen_reg_input_summary = summarise_csv(WORK_DIR / 'val_vlen_reg_input.csv')\n",
    "print(val_vlen_reg_input_summary)"
   ]
  },
  {
   "cell_type": "code",
   "execution_count": 10,
   "id": "5a78a0b8-e8bd-4daa-93ea-a031dd0a378d",
   "metadata": {},
   "outputs": [],
   "source": [
    "# Add un-normlised width and height columns ('width_pixels' and 'height_pixels')\n",
    "#df = unnormalize_features(WORK_DIR / 'val_vlen_reg_input.csv')"
   ]
  },
  {
   "cell_type": "markdown",
   "id": "0b8f6878-122e-4a6e-a801-58c971997bac",
   "metadata": {},
   "source": [
    "### 2.3 `test` set"
   ]
  },
  {
   "cell_type": "markdown",
   "id": "dda1b327-c9d4-4365-ba8a-a1b5fd5e2a6c",
   "metadata": {},
   "source": [
    "The `test` set is treated differently. The extracted bounding box features (w, h, cls) are extracted from the predicted bounding boxes output by the **vessel detector**. These predicted features are then matched with the corresponding ground truth vessel lengths to be referenced later at inference time."
   ]
  },
  {
   "cell_type": "code",
   "execution_count": 11,
   "id": "13adf6e1-2c38-4142-8b9d-c5ae6fa456f0",
   "metadata": {},
   "outputs": [
    {
     "name": "stdout",
     "output_type": "stream",
     "text": [
      "Loaded 254 records from CSV\n",
      "Created lookup dictionary with 254 entries\n",
      "Found 253 .png files\n",
      "Successfully matched 248/248 files\n",
      "Files with NaN vessel lengths: 0\n",
      "Unparsed files: 0\n",
      "Skipped mosaic files: 0\n",
      "Output saved to /home/peterm/UWA/CITS5014/SARFish/working/test_png_vlen.csv\n"
     ]
    }
   ],
   "source": [
    "# First build a look-up file matching vessel image png file with corresponding ground truth vessel length\n",
    "build_image_vessel_length_table(input_csv_path =   WORK_DIR / 'df_labels_test_filt.csv',\n",
    "                                png_dir =          DATA_DIR / 'test' / 'crops_png_dual' / 'images',\n",
    "                                output_csv_path =  WORK_DIR / 'test_png_vlen.csv', \n",
    "                                logfile =          WORK_DIR / 'test_matching.log',\n",
    "                                return_data = False)"
   ]
  },
  {
   "cell_type": "code",
   "execution_count": 12,
   "id": "aa2cd96b-167d-40d0-b9f8-1336087284de",
   "metadata": {},
   "outputs": [
    {
     "name": "stdout",
     "output_type": "stream",
     "text": [
      "Loaded 254 records from CSV\n",
      "Created lookup dictionary with 254 entries\n",
      "Found 253 .png files\n",
      "Successfully matched 248/248 files\n",
      "Files with NaN vessel lengths: 0\n",
      "Unparsed files: 0\n",
      "Skipped mosaic files: 0\n",
      "Output saved to /home/peterm/UWA/CITS5014/SARFish/working/test_png_vlen.csv\n"
     ]
    }
   ],
   "source": [
    "from match_png_vessel_lengths import build_image_vessel_length_table\n",
    "\n",
    "# First build a look file matching vessel image png file with corresponding ground truth vessel length\n",
    "build_image_vessel_length_table(input_csv_path =   WORK_DIR / 'df_labels_test_filt.csv',\n",
    "                                png_dir =          DATA_DIR / 'test' / 'crops_png_dual' / 'images',\n",
    "                                output_csv_path =  WORK_DIR / 'test_png_vlen.csv', \n",
    "                                logfile =          WORK_DIR / 'test_matching.log',\n",
    "                                return_data = False)"
   ]
  },
  {
   "cell_type": "code",
   "execution_count": 15,
   "id": "e9534e3c-e802-4cd9-8029-61cd3960451a",
   "metadata": {},
   "outputs": [],
   "source": [
    "# Build the path the saved vessel detector model - latest best model ('dual-polarisation')\n",
    "model_path = RUNS_DIR / 'png_runs' / 'png_aug_dual' / '20250915_1358_30042' / 'weights' / 'best.pt'"
   ]
  },
  {
   "cell_type": "markdown",
   "id": "3a53e978-3ac8-4020-b70b-14d657f27191",
   "metadata": {},
   "source": [
    "#### Note: the predictions below are made with YOLO model.predict() parameters conf=0.01, iou=0.65 (same as used for vessel detection validation on test data)\n",
    "\n",
    "Keeps only the highest confidence prediction if multiple predictions per image are generated and pass the thresholds."
   ]
  },
  {
   "cell_type": "code",
   "execution_count": 16,
   "id": "505949fd-bc5b-4409-b5b2-5357e3445e32",
   "metadata": {},
   "outputs": [
    {
     "name": "stdout",
     "output_type": "stream",
     "text": [
      "Loaded metadata with 248 records\n",
      "Created lookup dictionary with 248 entries\n",
      "Found 253 image files with extension .png\n"
     ]
    },
    {
     "name": "stderr",
     "output_type": "stream",
     "text": [
      "Processing images: 100%|███████████████████████████████████████████████████████████████████| 253/253 [00:21<00:00, 11.64it/s]"
     ]
    },
    {
     "name": "stdout",
     "output_type": "stream",
     "text": [
      "\n",
      "=== PROCESSING SUMMARY ===\n",
      "Total images found: 253\n",
      "Images processed: 253\n",
      "Skipped - no metadata: 5\n",
      "Skipped - invalid vessel length: 0\n",
      "Skipped - no detections: 19\n",
      "Total detections found: 229\n",
      "Records created: 229\n",
      "Saved 229 records to /home/peterm/UWA/CITS5014/SARFish/working/test_vlen_reg_input.csv\n"
     ]
    },
    {
     "name": "stderr",
     "output_type": "stream",
     "text": [
      "\n"
     ]
    }
   ],
   "source": [
    "# Now extract predict bounding box features and assemble dataset inference for input into vessel length regressor\n",
    "extract_bbox_features(model_path=model_path,\n",
    "                      metadata_path = WORK_DIR / 'test_png_vlen.csv',\n",
    "                      image_dir     = DATA_DIR / 'test' / 'crops_png_dual' / 'images',\n",
    "                      file_ext      = '.png',\n",
    "                      output_csv    = WORK_DIR / 'test_vlen_reg_input.csv',\n",
    "                      logfile       = WORK_DIR / 'extract_bbox_features.log')"
   ]
  },
  {
   "attachments": {},
   "cell_type": "markdown",
   "id": "79dffc6e-e9de-4931-a7d6-28674516d0fe",
   "metadata": {},
   "source": [
    "Comments on test set:\n",
    "- Only 248 out of the 253 test images have vessel lengths\n",
    "- predictions were generated by the dual-pol-3ch model using parameters conf=0.01 and iou=0.65\n",
    "- 229 predictions resulted after filtering mulitple predictions by highest confidence\n",
    "- 19 images had no detections or detections that did not match or exceed the confidence threshold"
   ]
  },
  {
   "cell_type": "code",
   "execution_count": 8,
   "id": "8c5fc5c6-a08f-43f2-a777-c987a0ba45dd",
   "metadata": {},
   "outputs": [
    {
     "name": "stdout",
     "output_type": "stream",
     "text": [
      "                   dtype  count  missing        min         max\n",
      "class              int64    229        0   0.000000    1.000000\n",
      "conf             float64    229        0   0.010656    0.347544\n",
      "height           float64    229        0   0.034530    0.284690\n",
      "image             object    229        0        NaN         NaN\n",
      "vessel_length_m  float64    229        0  13.369143  274.397788\n",
      "width            float64    229        0   0.083744    0.908943\n"
     ]
    }
   ],
   "source": [
    "# Print basic stats for the lookup table just created\n",
    "test_vlen_reg_input_summary = summarise_csv(WORK_DIR / 'test_vlen_reg_input.csv')\n",
    "print(test_vlen_reg_input_summary)"
   ]
  },
  {
   "cell_type": "code",
   "execution_count": 16,
   "id": "10a9c5c7-eb20-4540-b183-2baa9ceb6a5e",
   "metadata": {},
   "outputs": [],
   "source": [
    "# Optionally add un-normlised width and height columns ('width_pixels' and 'height_pixels')\n",
    "#df = unnormalize_features(WORK_DIR / 'test_vlen_reg_input.csv')"
   ]
  },
  {
   "cell_type": "markdown",
   "id": "a69b37b5-061d-4d40-af81-e005c638e2a8",
   "metadata": {},
   "source": [
    "## 3. Vessel Length Regression"
   ]
  },
  {
   "cell_type": "markdown",
   "id": "c88d0396-0cf4-427e-abe6-712a51cbbda5",
   "metadata": {},
   "source": [
    "Use the \"features\" extracted from the train, val and test sets as inputs to train a RandomForest Regressor."
   ]
  },
  {
   "cell_type": "code",
   "execution_count": 5,
   "id": "37576bf5-f746-499e-82a1-068f64a08052",
   "metadata": {},
   "outputs": [],
   "source": [
    "# Instantiate a regressor with the best parameter values determined with the aid of randomized search\n",
    "regressor = VesselLengthRegressor(model_params={'max_depth': 10, \n",
    "                                                'min_samples_leaf': 5, \n",
    "                                                'min_samples_split': 2, \n",
    "                                                'n_estimators': 413,\n",
    "                                                'n_jobs': 1,\n",
    "                                                'random_state': 42}, \n",
    "                                  feature_cols=['width', 'height', 'class'],\n",
    "                                  sample_weights={0: 1.0, 1: 1.0}) # no sample weight bias applied"
   ]
  },
  {
   "cell_type": "code",
   "execution_count": 6,
   "id": "125493f0-a5bf-4c0c-b9bf-feebe2c2470c",
   "metadata": {},
   "outputs": [],
   "source": [
    "# Load and prepare the data\n",
    "\n",
    "train_csv = WORK_DIR / 'train_vlen_reg_input.csv'  # based on ground truth\n",
    "val_csv   = WORK_DIR / 'val_vlen_reg_input.csv'    # based on grount truth (not used for rf regressor)\n",
    "test_csv  = WORK_DIR / 'test_vlen_reg_input.csv'   # based on vessel detection model predicted bboxes\n",
    "\n",
    "X_train, y_train, X_val, y_val, X_test, y_test = regressor.load_and_prepare_data(train_csv, val_csv, test_csv)"
   ]
  },
  {
   "cell_type": "markdown",
   "id": "e88a2258-eb17-4dfe-8f94-dee57d39eb51",
   "metadata": {},
   "source": [
    "```python\n",
    "def convert_to_greens(y, minval, maxval):\n",
    "    # convert to uint8 in the range 0..255\n",
    "    arr = np.uint8((y - minval)/(maxval - minval)*255)\n",
    "    # return as a list of rgb (in hexidecimal) colour strings\n",
    "    return ['#00' + np.base_repr(a, 16).lower().zfill(2) + '00' for a in arr]\n",
    "\n",
    "minval = np.min(np.r_[y_train,y_val,y_test])\n",
    "maxval = np.max(np.r_[y_train,y_val,y_test])\n",
    "y_train = convert_to_greens(y_train, minval, maxval)\n",
    "y_val = convert_to_greens(y_val, minval, maxval)\n",
    "y_test = convert_to_greens(y_test, minval, maxval)\n",
    "```"
   ]
  },
  {
   "cell_type": "markdown",
   "id": "04cdafb3-fa01-4fef-af56-537fc99ddc8a",
   "metadata": {},
   "source": [
    "```python\n",
    "_,axes = plt.subplots(3, 2, figsize=(10,12), sharex=True)\n",
    "print('Dark green: short vessel length; Bright green: long vessel length')\n",
    "for row,X,y,name in zip(range(3),[X_train,X_val,X_test],[y_train,y_val,y_test],['Train','Val','Test']):\n",
    "    for c in range(2):\n",
    "            indices = np.where(X[:,-1] == c)[0]\n",
    "            for id in indices:\n",
    "                axes[row,c].plot(X[id,0], X[id,1], color=y[id], marker='o', alpha=0.3)\n",
    "            if row == 2:\n",
    "                axes[row,c].set_xlabel('Feature 0')\n",
    "            if c == 0:\n",
    "                axes[row,c].set_ylabel('Feature 1')\n",
    "            axes[row,c].axis('equal')\n",
    "            axes[row,c].grid('on')\n",
    "            axes[row,c].set_title(f'{name:s}: class {c:d} ({len(indices):,d} instances)')\n",
    "            axes[row,c].set_ylim(0, 0.8)\n",
    "plt.show()\n",
    "```"
   ]
  },
  {
   "cell_type": "code",
   "execution_count": 7,
   "id": "02ed7254-76aa-4f08-9fc7-a33b422f41d5",
   "metadata": {},
   "outputs": [
    {
     "name": "stdout",
     "output_type": "stream",
     "text": [
      "X_train: ((3092, 3), array([   0.052083,    0.010417,           0]), array([          1,     0.55208,           1])), y_train: ((3092,), 6.96, 343.4)\n",
      "X_val:   ((459, 3), array([   0.052083,    0.010417,           0]), array([          1,     0.60417,           1])),  y_val: ((459,), 9.99, 240.1687969)\n",
      "X_test:  ((229, 3), array([   0.083744,     0.03453,           0]), array([    0.90894,     0.28469,           1])),  y_test: ((229,), 13.36914283, 274.3977876)\n"
     ]
    }
   ],
   "source": [
    "# Check shape and range of each data split\n",
    "print(f\"X_train: {np.shape(X_train), np.min(X_train, axis=0), np.max(X_train, axis=0)}, y_train: {np.shape(y_train), np.min(y_train), np.max(y_train)}\")\n",
    "print(f\"X_val:   {np.shape(X_val), np.min(X_val, axis=0), np.max(X_val, axis=0)},  y_val: {np.shape(y_val),np.min(y_val), np.max(y_val)}\")\n",
    "print(f\"X_test:  {np.shape(X_test), np.min(X_test, axis=0), np.max(X_test, axis=0)},  y_test: {np.shape(y_test),np.min(y_test), np.max(y_test)}\")"
   ]
  },
  {
   "cell_type": "code",
   "execution_count": 20,
   "id": "9650fe36-5acd-4451-835f-8e82817c6110",
   "metadata": {},
   "outputs": [],
   "source": [
    "#picklesave((X_train, y_train, X_val, y_val, X_test, y_test), str('/home/peterm/CITS5014/SARFish/modelling/data/mlp_regressor_unnorm.pkl'))\n",
    "picklesave((X_train, y_train, X_val, y_val, X_test, y_test), str('/home/peterm/UWA/CITS5014/SARFish/modelling/runs/vlength/rf/20251009_1826/rf_reg_unnorm_dual_no_aug_conf-filtered.pkl'))"
   ]
  },
  {
   "cell_type": "markdown",
   "id": "64aa72e9-20f0-44bc-a668-30f04f797d6c",
   "metadata": {},
   "source": [
    "```python\n",
    "# Perform a randomized search for the best parameter values for the nominated parameters\n",
    "\n",
    "param_distributions = {\n",
    "    'n_estimators': randint(100, 500),\n",
    "    'max_depth': [None] + list(range(5, 20)),\n",
    "    'min_samples_split': randint(2, 10),\n",
    "    'min_samples_leaf': randint(1, 10)\n",
    "}\n",
    "\n",
    "rf = RandomForestRegressor()\n",
    "random_search = RandomizedSearchCV(estimator=rf, param_distributions=param_distributions, cv=5, n_iter=10, random_state=None)\n",
    "random_search.fit(X_train, y_train)\n",
    "\n",
    "print(\"Best Parameters:\", random_search.best_params_)\n",
    "print(\"Best Score:\", random_search.best_score_)\n",
    "```"
   ]
  },
  {
   "cell_type": "markdown",
   "id": "764742ce-60cc-492b-a5d9-f303cd1431b9",
   "metadata": {},
   "source": [
    "The optimal values for the four parameters were arrived at using the randomized search above and subsequent manual fine-tuning . They are:\n",
    "- `max_depth`: 10,\n",
    "- `min_samples_leaf`: 5,\n",
    "- `min_samples_split`: 2\n",
    "- `n_estimators`: 413"
   ]
  },
  {
   "cell_type": "code",
   "execution_count": 8,
   "id": "db86be56-14e1-479c-9da4-493e84405252",
   "metadata": {},
   "outputs": [
    {
     "name": "stdout",
     "output_type": "stream",
     "text": [
      "Model training completed!\n",
      "Feature importances: {'width': '0.812', 'height': '0.085', 'class': '0.103'}\n"
     ]
    }
   ],
   "source": [
    "# Train the regressor\n",
    "model = regressor.train_regressor(X_train, y_train)\n",
    "print(\"Model training completed!\")\n",
    "print(f\"Feature importances: { {col: f'{imp:.3f}' for col, imp in zip(regressor.feature_cols, model.feature_importances_)} }\")"
   ]
  },
  {
   "cell_type": "code",
   "execution_count": 4,
   "id": "845e8ef0-2720-4d1f-ae5d-e7bc90144261",
   "metadata": {},
   "outputs": [],
   "source": [
    "import joblib\n",
    "\n",
    "# Load the saved .pkl model\n",
    "model = joblib.load('../runs/vlength/rf/20251009_1826/rf_reg_unnorm_dual_no_aug_conf-filtered.pkl')"
   ]
  },
  {
   "cell_type": "code",
   "execution_count": 9,
   "id": "f9c1a6d5-dbd1-412c-b162-6300647b38bd",
   "metadata": {},
   "outputs": [],
   "source": [
    "# Make predictions\n",
    "y_train_pred = model.predict(X_train)\n",
    "y_test_pred = model.predict(X_test)"
   ]
  },
  {
   "cell_type": "code",
   "execution_count": 10,
   "id": "0aeaf740-7da7-4ff1-b70c-5f7285afda97",
   "metadata": {},
   "outputs": [
    {
     "name": "stdout",
     "output_type": "stream",
     "text": [
      "\n",
      "=== Training Metrics ===\n",
      "Overall      MAE:  21.19, R²:  0.721, VLA:  0.631\n",
      "is_vessel    MAE:  25.98, R²:  0.618, VLA:  0.603 (n=2323)\n",
      "is_fishing   MAE:   6.69, R²:  0.485, VLA:  0.714 (n=769)\n",
      "\n",
      "=== Test Metrics ===\n",
      "Overall      MAE:  21.29, R²:  0.740, VLA:  0.596\n",
      "is_vessel    MAE:  25.51, R²:  0.644, VLA:  0.565 (n=173)\n",
      "is_fishing   MAE:   8.24, R²: -0.117, VLA:  0.692 (n=56)\n"
     ]
    }
   ],
   "source": [
    "# Calculate and display metrics for each split\n",
    "if 'class' in regressor.feature_cols:\n",
    "    class_idx = regressor.feature_cols.index('class')\n",
    "    train_metrics = regressor.calculate_metrics_by_class(y_train, y_train_pred, X_train[:, class_idx], \"Training\")\n",
    "    test_metrics = regressor.calculate_metrics_by_class(y_test, y_test_pred, X_test[:, class_idx], \"Test\")"
   ]
  },
  {
   "cell_type": "markdown",
   "id": "db95acf6-bd2a-4f07-909d-b251d0748aa5",
   "metadata": {},
   "source": [
    "Save the model (if required):"
   ]
  },
  {
   "cell_type": "code",
   "execution_count": 26,
   "id": "09f6686e-26a1-40d7-9830-154888a3b343",
   "metadata": {},
   "outputs": [
    {
     "name": "stdout",
     "output_type": "stream",
     "text": [
      "Regressor saved to /home/peterm/UWA/CITS5014/SARFish/modelling/runs/vlength/rf/20251009_1826/rf_model_dual_no_aug.pkl\n"
     ]
    }
   ],
   "source": [
    "# Generate timestamp\n",
    "#timestamp = datetime.now().strftime('%Y%m%d_%H%M')\n",
    "\n",
    "# Define log directory and save path\n",
    "log_dir=f\"/home/peterm/UWA/CITS5014/SARFish/modelling/runs/vlength/rf/20251009_1826\"\n",
    "save_path = 'rf_model_dual_no_aug.pkl'\n",
    "\n",
    "# Save the model\n",
    "model_save_path = regressor.save_model(save_path, log_dir)"
   ]
  },
  {
   "cell_type": "markdown",
   "id": "125ff8dc-cced-444e-ab02-b69aecdf3f50",
   "metadata": {},
   "source": [
    "Plot the results: predicted versus true vessel length plots for each split."
   ]
  },
  {
   "cell_type": "code",
   "execution_count": 12,
   "id": "f9bcddd7-1383-4244-80cc-661863c35421",
   "metadata": {},
   "outputs": [
    {
     "name": "stdout",
     "output_type": "stream",
     "text": [
      "Plot saved to /home/peterm/UWA/CITS5014/SARFish/modelling/runs/vlength/rf/rf_vlen_test_results_20251014_1915.pdf\n"
     ]
    },
    {
     "data": {
      "image/png": "[encoded data removed]",
      "text/plain": [
       "<Figure size 800x800 with 1 Axes>"
      ]
     },
     "metadata": {},
     "output_type": "display_data"
    }
   ],
   "source": [
    "# Extract class information for colored plotting (if 'class' is in features)\n",
    "train_classes = X_train[:, regressor.feature_cols.index('class')] if 'class' in regressor.feature_cols else None\n",
    "#val_classes = X_val[:, regressor.feature_cols.index('class')] if 'class' in regressor.feature_cols else None\n",
    "test_classes = X_test[:, regressor.feature_cols.index('class')] if 'class' in regressor.feature_cols else None\n",
    "\n",
    "# Prepare plot data dictionary\n",
    "plot_data = {\n",
    "    'train_true': y_train, 'train_pred': y_train_pred,\n",
    "    'test_true': y_test, 'test_pred': y_test_pred,\n",
    "    'train_metrics': train_metrics['overall'],  \n",
    "    'test_metrics': test_metrics['overall'], \n",
    "    'train_classes': train_classes,\n",
    "    'test_classes': test_classes\n",
    "  }\n",
    "# Generate all plots\n",
    "regressor.plot_results(plot_data, save_path='rf_vlen_test_results_20251014_1915.pdf', log_dir=f\"/home/peterm/UWA/CITS5014/SARFish/modelling/runs/vlength/rf\", split='test')"
   ]
  },
  {
   "cell_type": "markdown",
   "id": "723dd4fc-d9c8-4abe-958e-5b37ccebcfa5",
   "metadata": {},
   "source": [
    "## 4. CNN regressor (not implemented)"
   ]
  },
  {
   "cell_type": "markdown",
   "id": "cd8ec156-f824-4f3a-a10c-29b0188f8308",
   "metadata": {},
   "source": [
    "### 4.1 Data preparation"
   ]
  },
  {
   "cell_type": "markdown",
   "id": "f2aac9e5-69a1-459d-bd5d-8440ee3418dc",
   "metadata": {},
   "source": [
    "First generate predictions on training data and export and save image sub-crops based on the predicted bounding boxes. Analyse the sub-crops to determine an optimal size to re-size all the sub-crops, then resize them."
   ]
  },
  {
   "cell_type": "code",
   "execution_count": 115,
   "id": "35a85ebb-7161-4697-beb7-2d8378b99d6c",
   "metadata": {},
   "outputs": [
    {
     "name": "stdout",
     "output_type": "stream",
     "text": [
      "Found 8396 images to process\n"
     ]
    },
    {
     "name": "stderr",
     "output_type": "stream",
     "text": [
      "Processing images: 100%|███████████████████████████████████████████████████████████| 8396/8396 [44:35<00:00,  3.14img/s]"
     ]
    },
    {
     "name": "stdout",
     "output_type": "stream",
     "text": [
      "\n",
      "Inference completed!\n",
      "Results saved to: /mnt/h/SARFish/Generated/SLC/test/crops_png_alt/images_hvrt_msc_bal_preds/detection_results.txt\n",
      "Cropped images saved to: /mnt/h/SARFish/Generated/SLC/test/crops_png_alt/images_hvrt_msc_bal_preds/crops\n",
      "Total images processed: 8396\n"
     ]
    },
    {
     "name": "stderr",
     "output_type": "stream",
     "text": [
      "\n"
     ]
    }
   ],
   "source": [
    "# Generate training prediction subcrops\n",
    "run_inference_and_save_results(\n",
    "     model_path=model_path,\n",
    "     test_images_dir=\"/mnt/h/SARFish/Generated/SLC/train/crops_png_alt/images_hvrt_msc_bal\",\n",
    "     output_dir=\"/mnt/h/SARFish/Generated/SLC/train/crops_png_alt/images_hvrt_msc_bal_preds\",\n",
    "     conf_threshold=0.25,\n",
    "     iou_threshold=0.7\n",
    ")"
   ]
  },
  {
   "cell_type": "code",
   "execution_count": 119,
   "id": "9370dcc2-82c3-4899-a46d-abc1c1c6a32d",
   "metadata": {},
   "outputs": [
    {
     "name": "stdout",
     "output_type": "stream",
     "text": [
      "Analyzing crops in: /mnt/h/SARFish/Generated/SLC/train/crops_png_alt/images_hvrt_msc_bal_preds/crops\n",
      "Directory exists: ✓\n",
      "Found 7693 image files\n",
      "First few files:\n",
      "  - 0d8ed29b0760dc59v_043.21094381000000339554_015.15049506000000079098_swath1_aug0_vflip_translate_proc_is_vessel_0_conf0.567.png\n",
      "  - 0d8ed29b0760dc59v_043.21094381000000339554_015.15049506000000079098_swath1_original_proc_is_vessel_0_conf0.443.png\n",
      "  - 0d8ed29b0760dc59v_043.22273045000000024629_014.93491904999999952963_swath1_aug0_hflip_rotate_proc_is_vessel_0_conf0.287.png\n",
      "  - 0d8ed29b0760dc59v_043.22273045000000024629_014.93491904999999952963_swath1_original_proc_is_vessel_0_conf0.577.png\n",
      "  - 0d8ed29b0760dc59v_043.28511705999999747974_014.51577484000000062281_swath1_original_proc_is_vessel_0_conf0.684.png\n",
      "\n",
      "Analyzing dimensions...\n",
      "  0d8ed29b0760dc59v_043.21094381000000339554_015.15049506000000079098_swath1_aug0_vflip_translate_proc_is_vessel_0_conf0.567.png: 50 x 14\n",
      "  0d8ed29b0760dc59v_043.21094381000000339554_015.15049506000000079098_swath1_original_proc_is_vessel_0_conf0.443.png: 50 x 11\n",
      "  0d8ed29b0760dc59v_043.22273045000000024629_014.93491904999999952963_swath1_aug0_hflip_rotate_proc_is_vessel_0_conf0.287.png: 10 x 36\n",
      "  0d8ed29b0760dc59v_043.22273045000000024629_014.93491904999999952963_swath1_original_proc_is_vessel_0_conf0.577.png: 42 x 10\n",
      "  0d8ed29b0760dc59v_043.28511705999999747974_014.51577484000000062281_swath1_original_proc_is_vessel_0_conf0.684.png: 59 x 15\n",
      "\n",
      "==================================================\n",
      "ANALYSIS RESULTS (7693 images)\n",
      "==================================================\n",
      "Width  - Min:   2, Max:  96, Mean:   24.5\n",
      "Height - Min:   1, Max:  70, Mean:   13.9\n",
      "\n",
      "Size distribution:\n",
      "Most common sizes:\n",
      "  5x16: 81 images\n",
      "  14x5: 75 images\n",
      "  6x18: 70 images\n",
      "  13x5: 69 images\n",
      "  6x17: 65 images\n",
      "  15x6: 65 images\n",
      "  12x4: 65 images\n",
      "  16x7: 64 images\n",
      "  5x17: 63 images\n",
      "  15x5: 63 images\n",
      "\n",
      "==================================================\n",
      "RECOMMENDATIONS FOR SAR VESSEL LENGTH PREDICTION\n",
      "==================================================\n",
      "95th percentile: 66 x 30\n",
      "Maximum dimensions: 96 x 70\n",
      "\n",
      "Suggested target sizes:\n",
      "  64x64 - Minimal upscaling (max upscale: 0.9x)\n",
      "  96x96 - Moderate upscaling, matches training resolution (max upscale: 1.4x)\n",
      "  128x128 - Conservative CNN size (max upscale: 1.8x)\n"
     ]
    }
   ],
   "source": [
    "# Analyse the subcrop dimensions\n",
    "analyse_crops(\"/mnt/h/SARFish/Generated/SLC/train/crops_png_alt/images_hvrt_msc_bal_preds/crops\")"
   ]
  },
  {
   "cell_type": "code",
   "execution_count": 54,
   "id": "efdd639a-7f9a-4679-8a30-9e04e973e81e",
   "metadata": {},
   "outputs": [
    {
     "name": "stdout",
     "output_type": "stream",
     "text": [
      "Resizing crops from: /mnt/h/SARFish/Generated/SLC/train/crops_png_alt/images_hvrt_msc_bal_preds/crops\n",
      "Output directory: /mnt/h/SARFish/Generated/SLC/train/crops_png_alt/images_hvrt_msc_bal_preds_rsz24/crops\n",
      "Target size: 24 x 24\n",
      "Interpolation: bilinear\n",
      "Mode: Aspect ratio preserving with padding color (0, 0, 0)\n",
      "Resizing 7693 images to 24x24 with aspect ratio preservation...\n",
      "Using bilinear interpolation with padding color: (0, 0, 0)\n",
      "Resizing with aspect preservation: 100%|███| 7693/7693 [21:35<00:00,  5.94img/s]\n",
      "Resizing complete! Images saved to: /mnt/h/SARFish/Generated/SLC/train/crops_png_alt/images_hvrt_msc_bal_preds_rsz24/crops\n"
     ]
    }
   ],
   "source": [
    "# Resize images to 64 x 64 pixels (minimal upscaling)\n",
    "!python ../src/resize_crops.py --crops \"/mnt/h/SARFish/Generated/SLC/train/crops_png_alt/images_hvrt_msc_bal_preds/crops\" \\\n",
    "                        --output \"/mnt/h/SARFish/Generated/SLC/train/crops_png_alt/images_hvrt_msc_bal_preds_rsz24/crops\" \\\n",
    "                        --size 24 24 --preserve-aspect"
   ]
  },
  {
   "cell_type": "code",
   "execution_count": null,
   "id": "34b58371-f6d9-4375-8135-26cf82e36dd5",
   "metadata": {},
   "outputs": [],
   "source": []
  }
 ],
 "metadata": {
  "kernelspec": {
   "display_name": "Python 3 (ipykernel)",
   "language": "python",
   "name": "python3"
  },
  "language_info": {
   "codemirror_mode": {
    "name": "ipython",
    "version": 3
   },
   "file_extension": ".py",
   "mimetype": "text/x-python",
   "name": "python",
   "nbconvert_exporter": "python",
   "pygments_lexer": "ipython3",
   "version": "3.10.12"
  }
 },
 "nbformat": 4,
 "nbformat_minor": 5
}
