{
 "cells": [
  {
   "cell_type": "markdown",
   "id": "120c906f-415c-4c65-b975-41aa7f9099e2",
   "metadata": {},
   "source": [
    "## 1. Setup"
   ]
  },
  {
   "cell_type": "code",
   "execution_count": 2,
   "id": "9cb7fded-4fb7-4a45-a98a-2513b6e306d1",
   "metadata": {},
   "outputs": [],
   "source": [
    "# Better error messages in notebooks\n",
    "%load_ext autoreload\n",
    "%autoreload 2"
   ]
  },
  {
   "cell_type": "code",
   "execution_count": 1,
   "id": "b64adc04-43bc-4268-bc4e-8ec0b8d6317f",
   "metadata": {},
   "outputs": [
    {
     "name": "stdout",
     "output_type": "stream",
     "text": [
      "PROJECT_ROOT: /home/peterm/UWA/CITS5014/SARFish/modelling\n",
      "DATA_DIR: /home/peterm/UWA/CITS5014/SARFish/modelling/data\n",
      "CONFIG_DIR: /home/peterm/UWA/CITS5014/SARFish/modelling/configs\n",
      "RUNS_DIR: /home/peterm/UWA/CITS5014/SARFish/modelling/runs\n"
     ]
    }
   ],
   "source": [
    "# Set up data paths\n",
    "\n",
    "import sys\n",
    "from pathlib import Path\n",
    "\n",
    "# Get to project root from notebook location\n",
    "PROJECT_ROOT = Path.cwd().parent\n",
    "# Add \"src\" to Python's module search path sys.path\n",
    "sys.path.append(str(PROJECT_ROOT / \"src\"))\n",
    "\n",
    "# Define project paths\n",
    "DATA_DIR = PROJECT_ROOT / \"data\"\n",
    "CONFIG_DIR = PROJECT_ROOT / \"configs\"\n",
    "RUNS_DIR = PROJECT_ROOT / \"runs\"\n",
    "\n",
    "print(f\"PROJECT_ROOT: {PROJECT_ROOT}\")\n",
    "print(f\"DATA_DIR: {DATA_DIR}\")\n",
    "print(f\"CONFIG_DIR: {CONFIG_DIR}\")\n",
    "print(f\"RUNS_DIR: {RUNS_DIR}\")"
   ]
  },
  {
   "cell_type": "code",
   "execution_count": 4,
   "id": "61693170-1147-4ce8-99d0-a35587e07cb8",
   "metadata": {},
   "outputs": [],
   "source": [
    "# Setup and imports\n",
    "%matplotlib inline\n",
    "from sar_dataset import SARPreprocessedDataset\n",
    "from letterbox_resize import letterbox_resize\n",
    "from sar_yolo_simple_trainer import SimpleSARTrainer\n",
    "from sar_evaluator import SARFloat32Evaluator\n",
    "import json"
   ]
  },
  {
   "cell_type": "code",
   "execution_count": 5,
   "id": "5e2eec5d-150a-411b-a981-af0eca887d5f",
   "metadata": {},
   "outputs": [],
   "source": [
    "# Create data configuration\n",
    "import yaml\n",
    "\n",
    "data_config = {\n",
    "    'path':   str(PROJECT_ROOT / 'data'), \n",
    "    'train':  'train',\n",
    "    'val':    'val', \n",
    "    'test':   'test',\n",
    "    'nc': 2,\n",
    "    'names':  ['is_vessel', 'is_fishing']\n",
    "}\n",
    "\n",
    "# Save to configs directory\n",
    "config_path = CONFIG_DIR / 'sar_data.yaml'\n",
    "with open(config_path, 'w') as f:\n",
    "    yaml.dump(data_config, f)"
   ]
  },
  {
   "cell_type": "markdown",
   "id": "2b358a37-ef37-4cf8-8e89-6d211b4803c4",
   "metadata": {},
   "source": [
    "## 2. Model Inspection (YOLOv8)"
   ]
  },
  {
   "cell_type": "code",
   "execution_count": 5,
   "id": "11a730e9-23d6-4b86-90f5-85beec7defb7",
   "metadata": {
    "collapsed": true,
    "jupyter": {
     "outputs_hidden": true
    }
   },
   "outputs": [
    {
     "name": "stdout",
     "output_type": "stream",
     "text": [
      "YOLOv8n Architecture Overview:\n",
      "================================================================================\n",
      "Module 0: model\n",
      "  Contains 23 sub-modules\n",
      "  Type: Sequential\n",
      "\n",
      "\n",
      "================================================================================\n",
      "Detailed Layer Analysis:\n",
      "================================================================================\n",
      "Total parameter tensors: 184\n",
      "Total parameters: 3,157,200\n",
      "\n",
      "First 50 parameter tensors:\n",
      "  0: Module  0 | model.0.conv.weight                                          | shape=[16, 3, 3, 3] | params=432\n",
      "  1: Module  0 | model.0.bn.weight                                            | shape=[16] | params=16\n",
      "  2: Module  0 | model.0.bn.bias                                              | shape=[16] | params=16\n",
      "  3: Module  1 | model.1.conv.weight                                          | shape=[32, 16, 3, 3] | params=4,608\n",
      "  4: Module  1 | model.1.bn.weight                                            | shape=[32] | params=32\n",
      "  5: Module  1 | model.1.bn.bias                                              | shape=[32] | params=32\n",
      "  6: Module  2 | model.2.cv1.conv.weight                                      | shape=[32, 32, 1, 1] | params=1,024\n",
      "  7: Module  2 | model.2.cv1.bn.weight                                        | shape=[32] | params=32\n",
      "  8: Module  2 | model.2.cv1.bn.bias                                          | shape=[32] | params=32\n",
      "  9: Module  2 | model.2.cv2.conv.weight                                      | shape=[32, 48, 1, 1] | params=1,536\n",
      " 10: Module  2 | model.2.cv2.bn.weight                                        | shape=[32] | params=32\n",
      " 11: Module  2 | model.2.cv2.bn.bias                                          | shape=[32] | params=32\n",
      " 12: Module  2 | model.2.m.0.cv1.conv.weight                                  | shape=[16, 16, 3, 3] | params=2,304\n",
      " 13: Module  2 | model.2.m.0.cv1.bn.weight                                    | shape=[16] | params=16\n",
      " 14: Module  2 | model.2.m.0.cv1.bn.bias                                      | shape=[16] | params=16\n",
      " 15: Module  2 | model.2.m.0.cv2.conv.weight                                  | shape=[16, 16, 3, 3] | params=2,304\n",
      " 16: Module  2 | model.2.m.0.cv2.bn.weight                                    | shape=[16] | params=16\n",
      " 17: Module  2 | model.2.m.0.cv2.bn.bias                                      | shape=[16] | params=16\n",
      " 18: Module  3 | model.3.conv.weight                                          | shape=[64, 32, 3, 3] | params=18,432\n",
      " 19: Module  3 | model.3.bn.weight                                            | shape=[64] | params=64\n",
      " 20: Module  3 | model.3.bn.bias                                              | shape=[64] | params=64\n",
      " 21: Module  4 | model.4.cv1.conv.weight                                      | shape=[64, 64, 1, 1] | params=4,096\n",
      " 22: Module  4 | model.4.cv1.bn.weight                                        | shape=[64] | params=64\n",
      " 23: Module  4 | model.4.cv1.bn.bias                                          | shape=[64] | params=64\n",
      " 24: Module  4 | model.4.cv2.conv.weight                                      | shape=[64, 128, 1, 1] | params=8,192\n",
      " 25: Module  4 | model.4.cv2.bn.weight                                        | shape=[64] | params=64\n",
      " 26: Module  4 | model.4.cv2.bn.bias                                          | shape=[64] | params=64\n",
      " 27: Module  4 | model.4.m.0.cv1.conv.weight                                  | shape=[32, 32, 3, 3] | params=9,216\n",
      " 28: Module  4 | model.4.m.0.cv1.bn.weight                                    | shape=[32] | params=32\n",
      " 29: Module  4 | model.4.m.0.cv1.bn.bias                                      | shape=[32] | params=32\n",
      " 30: Module  4 | model.4.m.0.cv2.conv.weight                                  | shape=[32, 32, 3, 3] | params=9,216\n",
      " 31: Module  4 | model.4.m.0.cv2.bn.weight                                    | shape=[32] | params=32\n",
      " 32: Module  4 | model.4.m.0.cv2.bn.bias                                      | shape=[32] | params=32\n",
      " 33: Module  4 | model.4.m.1.cv1.conv.weight                                  | shape=[32, 32, 3, 3] | params=9,216\n",
      " 34: Module  4 | model.4.m.1.cv1.bn.weight                                    | shape=[32] | params=32\n",
      " 35: Module  4 | model.4.m.1.cv1.bn.bias                                      | shape=[32] | params=32\n",
      " 36: Module  4 | model.4.m.1.cv2.conv.weight                                  | shape=[32, 32, 3, 3] | params=9,216\n",
      " 37: Module  4 | model.4.m.1.cv2.bn.weight                                    | shape=[32] | params=32\n",
      " 38: Module  4 | model.4.m.1.cv2.bn.bias                                      | shape=[32] | params=32\n",
      " 39: Module  5 | model.5.conv.weight                                          | shape=[128, 64, 3, 3] | params=73,728\n",
      " 40: Module  5 | model.5.bn.weight                                            | shape=[128] | params=128\n",
      " 41: Module  5 | model.5.bn.bias                                              | shape=[128] | params=128\n",
      " 42: Module  6 | model.6.cv1.conv.weight                                      | shape=[128, 128, 1, 1] | params=16,384\n",
      " 43: Module  6 | model.6.cv1.bn.weight                                        | shape=[128] | params=128\n",
      " 44: Module  6 | model.6.cv1.bn.bias                                          | shape=[128] | params=128\n",
      " 45: Module  6 | model.6.cv2.conv.weight                                      | shape=[128, 256, 1, 1] | params=32,768\n",
      " 46: Module  6 | model.6.cv2.bn.weight                                        | shape=[128] | params=128\n",
      " 47: Module  6 | model.6.cv2.bn.bias                                          | shape=[128] | params=128\n",
      " 48: Module  6 | model.6.m.0.cv1.conv.weight                                  | shape=[64, 64, 3, 3] | params=36,864\n",
      " 49: Module  6 | model.6.m.0.cv1.bn.weight                                    | shape=[64] | params=64\n",
      "\n",
      "================================================================================\n",
      "YOLOv8 Architecture Breakdown:\n",
      "================================================================================\n",
      "\n",
      "YOLOv8n consists of:\n",
      "\n",
      "BACKBONE (CSPDarknet-based):\n",
      "- Module 0: Conv (Stem) - Initial convolution\n",
      "- Module 1: Conv - Downsample\n",
      "- Module 2: C2f - CSP block with 3 bottlenecks\n",
      "- Module 3: Conv - Downsample\n",
      "- Module 4: C2f - CSP block with 6 bottlenecks\n",
      "- Module 5: Conv - Downsample\n",
      "- Module 6: C2f - CSP block with 6 bottlenecks\n",
      "- Module 7: Conv - Downsample\n",
      "- Module 8: C2f - CSP block with 3 bottlenecks\n",
      "- Module 9: SPPF - Spatial Pyramid Pooling Fast\n",
      "\n",
      "NECK (FPN + PAN):\n",
      "- Module 10: Upsample\n",
      "- Module 11: Concat\n",
      "- Module 12: C2f\n",
      "- Module 13: Upsample\n",
      "- Module 14: Concat\n",
      "- Module 15: C2f\n",
      "- Module 16: Conv\n",
      "- Module 17: Concat\n",
      "- Module 18: C2f\n",
      "- Module 19: Conv\n",
      "- Module 20: Concat\n",
      "- Module 21: C2f\n",
      "\n",
      "HEAD (Detection):\n",
      "- Module 22: Detect - Final detection layer\n",
      "\n",
      "\n",
      "================================================================================\n",
      "Parameter count by module:\n",
      "================================================================================\n",
      "Module | Tensors | Parameters   | Cumulative Params | Cumulative Tensors\n",
      "---------------------------------------------------------------------------\n",
      "     0 |       3 |          464 |               464 |                  3\n",
      "     1 |       3 |        4,672 |             5,136 |                  6\n",
      "     2 |      12 |        7,360 |            12,496 |                 18\n",
      "     3 |       3 |       18,560 |            31,056 |                 21\n",
      "     4 |      18 |       49,664 |            80,720 |                 39\n",
      "     5 |       3 |       73,984 |           154,704 |                 42\n",
      "     6 |      18 |      197,632 |           352,336 |                 60\n",
      "     7 |       3 |      295,424 |           647,760 |                 63\n",
      "     8 |      12 |      460,288 |         1,108,048 |                 75\n",
      "     9 |       6 |      164,608 |         1,272,656 |                 81\n",
      "---------------------------------------------------------------------------\n",
      "BACKBONE END: 81 tensors, 1,272,656 parameters\n",
      "---------------------------------------------------------------------------\n",
      "    12 |      12 |      148,224 |         1,420,880 |                 93\n",
      "    15 |      12 |       37,248 |         1,458,128 |                105\n",
      "    16 |       3 |       36,992 |         1,495,120 |                108\n",
      "    18 |      12 |      123,648 |         1,618,768 |                120\n",
      "    19 |       3 |      147,712 |         1,766,480 |                123\n",
      "    21 |      12 |      493,056 |         2,259,536 |                135\n",
      "---------------------------------------------------------------------------\n",
      "NECK END: 135 tensors, 2,259,536 parameters\n",
      "---------------------------------------------------------------------------\n",
      "    22 |      49 |      897,664 |         3,157,200 |                184\n",
      "\n",
      "================================================================================\n",
      "SUMMARY:\n",
      "================================================================================\n",
      "Total model parameters: 3,157,200\n",
      "Backbone parameters (modules 0-9): 1,272,656 (40.3%)\n",
      "Backbone tensor count: 81\n",
      "\n",
      "================================================================================\n",
      "LAYER TYPE DISTRIBUTION:\n",
      "================================================================================\n",
      "Conv2d              :  64 instances\n",
      "Conv                :  57 instances\n",
      "BatchNorm2d         :  57 instances\n",
      "ModuleList          :  10 instances\n",
      "Bottleneck          :  10 instances\n",
      "C2f                 :   8 instances\n",
      "Sequential          :   7 instances\n",
      "Concat              :   4 instances\n",
      "Upsample            :   2 instances\n",
      "DetectionModel      :   1 instances\n"
     ]
    }
   ],
   "source": [
    "%run {PROJECT_ROOT / 'src/yolov8n_model_explorer'}"
   ]
  },
  {
   "cell_type": "markdown",
   "id": "54a70da9-f255-41b4-acf9-768075b30a26",
   "metadata": {},
   "source": [
    "### Proposed Freezing Strategies:\n",
    "\n",
    "For YOLOv8n fine-tuning on SAR data:\n",
    "\n",
    "1. CONSERVATIVE (Freeze backbone only):  \n",
    "   Freezes modules 0-9\n",
    "   - Freezes: 1,272,656 parameters (40.3%)\n",
    "   - Trains: 1,884,544 parameters (59.7%)  \n",
    "2. MODERATE (Freeze backbone + early neck):  \n",
    "   Freezes modules 0-12  \n",
    "3. AGGRESSIVE (Freeze most, train detection head only):  \n",
    "   Freezes modules 0-20"
   ]
  },
  {
   "cell_type": "markdown",
   "id": "bfc4450f-5b64-4548-8383-0e61f53a2963",
   "metadata": {},
   "source": [
    "## 3. Model training"
   ]
  },
  {
   "cell_type": "code",
   "execution_count": 6,
   "id": "9267e3be-19b2-4835-8a04-0882a92fb301",
   "metadata": {},
   "outputs": [
    {
     "data": {
      "text/html": [
       "\n",
       "      <iframe id=\"tensorboard-frame-be5d2dd6aabe9941\" width=\"100%\" height=\"800\" frameborder=\"0\">\n",
       "      </iframe>\n",
       "      <script>\n",
       "        (function() {\n",
       "          const frame = document.getElementById(\"tensorboard-frame-be5d2dd6aabe9941\");\n",
       "          const url = new URL(\"/\", window.location);\n",
       "          const port = 6006;\n",
       "          if (port) {\n",
       "            url.port = port;\n",
       "          }\n",
       "          frame.src = url;\n",
       "        })();\n",
       "      </script>\n",
       "    "
      ],
      "text/plain": [
       "<IPython.core.display.HTML object>"
      ]
     },
     "metadata": {},
     "output_type": "display_data"
    }
   ],
   "source": [
    "# Start TensorBoard in notebook\n",
    "%load_ext tensorboard\n",
    "%tensorboard --logdir {RUNS_DIR / 'train_no_aug'}"
   ]
  },
  {
   "cell_type": "code",
   "execution_count": 7,
   "id": "71c31fda-fbbc-460d-82e9-d210cb027248",
   "metadata": {},
   "outputs": [
    {
     "name": "stdout",
     "output_type": "stream",
     "text": [
      "💾 Models will be saved to: /home/peterm/UWA/CITS5014/SARFish/modelling/runs/train_no_aug/20250722_152542\n",
      "Using device: cuda\n",
      "Train samples: 3114\n",
      "Val samples: 463\n"
     ]
    }
   ],
   "source": [
    "# Initialise trainer\n",
    "trainer = SimpleSARTrainer(\n",
    "    model_name='yolov8n.pt',\n",
    "    data_yaml=str(CONFIG_DIR / 'sar_data.yaml'),\n",
    "    imgsz=640,\n",
    "    device='cuda',\n",
    "    save_dir=RUNS_DIR / 'train_no_aug'\n",
    ")"
   ]
  },
  {
   "cell_type": "code",
   "execution_count": 8,
   "id": "b07fe241-c675-4429-894b-9d1690f2516b",
   "metadata": {},
   "outputs": [
    {
     "data": {
      "image/png": "[encoded data removed]",
      "text/plain": [
       "<Figure size 1500x500 with 3 Axes>"
      ]
     },
     "metadata": {},
     "output_type": "display_data"
    },
    {
     "name": "stdout",
     "output_type": "stream",
     "text": [
      "  💾 Saved checkpoint: epoch_10.pt\n",
      "\n",
      "==================================================\n",
      "Epoch 11/50\n",
      "==================================================\n"
     ]
    },
    {
     "data": {
      "application/vnd.jupyter.widget-view+json": {
       "model_id": "10f8534364bd43b58781ad28f2ebf42a",
       "version_major": 2,
       "version_minor": 0
      },
      "text/plain": [
       "Training:   0%|          | 0/195 [00:00<?, ?it/s]"
      ]
     },
     "metadata": {},
     "output_type": "display_data"
    },
    {
     "data": {
      "application/vnd.jupyter.widget-view+json": {
       "model_id": "65923eb04add48519511fbb0fe838049",
       "version_major": 2,
       "version_minor": 0
      },
      "text/plain": [
       "Validation:   0%|          | 0/29 [00:00<?, ?it/s]"
      ]
     },
     "metadata": {},
     "output_type": "display_data"
    },
    {
     "name": "stdout",
     "output_type": "stream",
     "text": [
      "\n",
      "📊 Results:\n",
      "  Train Loss: 80.4314\n",
      "  Val Loss: 173.9758\n",
      "  Learning Rate: 0.000096\n",
      "  ⏳ Patience counter: 5/5\n",
      "\n",
      "🛑 Early stopping triggered at epoch 11\n",
      "  💾 Saved checkpoint: final.pt\n",
      "\n",
      "==================================================\n",
      "Training completed!\n",
      "Best validation loss: 160.7809\n",
      "Final epoch: 11\n",
      "==================================================\n"
     ]
    }
   ],
   "source": [
    "# Train the model\n",
    "history = trainer.train(\n",
    "    epochs=50,  # Still testing\n",
    "    batch_size=16,\n",
    "    optimizer_type='adamw',\n",
    "    lr=0.00001,\n",
    "    workers=4,\n",
    "    weight_decay=0.0005,  # L2 regularization\n",
    "    use_warmup=True,  # Enable learning rate warmup\n",
    "    use_progressive_unfreeze=False,  # Disable progressive unfreezing\n",
    "    freeze_until_module=12  # Freeze backbone only\n",
    ")"
   ]
  },
  {
   "cell_type": "code",
   "execution_count": 9,
   "id": "5d641bff-995b-4d6a-ba21-db026ab7b228",
   "metadata": {},
   "outputs": [
    {
     "name": "stdout",
     "output_type": "stream",
     "text": [
      "Loaded best model from epoch 6\n",
      "Loaded best model from epoch 6 with val loss 160.7809\n"
     ]
    }
   ],
   "source": [
    "# Load best model\n",
    "best_epoch, best_val_loss = trainer.load_best_model()\n",
    "print(f\"Loaded best model from epoch {best_epoch+1} with val loss {best_val_loss:.4f}\")"
   ]
  },
  {
   "cell_type": "code",
   "execution_count": 10,
   "id": "717456b3-d1cf-4bb4-86a1-516f5e4e4b7a",
   "metadata": {},
   "outputs": [
    {
     "name": "stdout",
     "output_type": "stream",
     "text": [
      "✅ Saved training history and config to: /home/peterm/UWA/CITS5014/SARFish/modelling/runs/train_no_aug/20250722_152542\n"
     ]
    }
   ],
   "source": [
    "# Save training history using the trainer's save_dir\n",
    "with open(trainer.save_dir / 'history.json', 'w') as f:\n",
    "    json.dump(history, f)\n",
    "\n",
    "# Save training config\n",
    "config = {\n",
    "    'model_name': 'yolov8n.pt',\n",
    "    'epochs': 50,\n",
    "    'batch_size': 16,\n",
    "    'optimizer_type': 'adamw',\n",
    "    'lr': 0.00001,\n",
    "    'workers': 4,\n",
    "    'weight_decay': 0.0005,\n",
    "    'use_warmup': True,\n",
    "    'use_progressive_unfreeze': False,\n",
    "    'freeze_until_module': 9,\n",
    "    'best_val_loss': trainer.best_val_loss,\n",
    "    'final_epoch': len(history['train_loss']),\n",
    "    'early_stopped': trainer.patience_counter >= trainer.early_stop_patience\n",
    "}\n",
    "\n",
    "with open(trainer.save_dir / 'config.json', 'w') as f:\n",
    "    json.dump(config, f, indent=2)\n",
    "\n",
    "print(f\"✅ Saved training history and config to: {trainer.save_dir}\")"
   ]
  },
  {
   "cell_type": "markdown",
   "id": "d0b3dd76-abd9-4abc-ab03-ba55abc5d012",
   "metadata": {},
   "source": [
    "## 4. Model Evaluation"
   ]
  },
  {
   "cell_type": "code",
   "execution_count": null,
   "id": "47d248bc-9de5-4d8b-a4ef-165be928b3a1",
   "metadata": {},
   "outputs": [],
   "source": [
    "# Sets up path to data.yaml file for easy access\n",
    "config_path=CONFIG_DIR /'sar_data.yaml' \n",
    "print(config_path)"
   ]
  },
  {
   "cell_type": "code",
   "execution_count": null,
   "id": "c17fc9f8-a0d7-4ce1-be68-5162dd430f77",
   "metadata": {},
   "outputs": [],
   "source": [
    "# Initialize the evaluator\n",
    "evaluator = SARFloat32Evaluator(\n",
    "    model_path=RUNS_DIR / 'train_no_aug/20250721_130953/best.pt',\n",
    "    data_yaml_path=config_path,\n",
    "    device='cuda'\n",
    ")"
   ]
  },
  {
   "cell_type": "code",
   "execution_count": null,
   "id": "ab39d850-9cb2-4912-b50c-8b5c0fe6a281",
   "metadata": {},
   "outputs": [],
   "source": [
    "# Create the test dataset\n",
    "with open(config_path, 'r') as f:\n",
    "    data_dict = yaml.safe_load(f)\n",
    "\n",
    "# Create test dataset manually\n",
    "data_root = Path(data_dict['path'])\n",
    "test_dataset = SARPreprocessedDataset(\n",
    "    image_dir=str(data_root / 'test' / 'images'),  # or 'test' if using test\n",
    "    label_dir=str(data_root / 'test' / 'labels'),\n",
    "    imgsz=640\n",
    ")"
   ]
  },
  {
   "cell_type": "code",
   "execution_count": null,
   "id": "2df781fa-d63f-4ab3-ae8b-200d3c5d8596",
   "metadata": {},
   "outputs": [],
   "source": [
    "# Run evaluation\n",
    "metrics = evaluator.evaluate_dataset(\n",
    "    test_dataset,\n",
    "    batch_size=32,\n",
    "    conf_thres=0.25,\n",
    "    iou_thres=0.45,\n",
    "    save_dir=RUNS_DIR / 'evaluation_no_aug' / 'test_results'\n",
    ")"
   ]
  },
  {
   "cell_type": "code",
   "execution_count": null,
   "id": "608d1f80-99de-4acc-b298-d26b90163262",
   "metadata": {},
   "outputs": [],
   "source": []
  },
  {
   "cell_type": "code",
   "execution_count": null,
   "id": "39bc8778-9484-4ec8-93bc-831768fa8b74",
   "metadata": {},
   "outputs": [],
   "source": [
    "# Test inference on a single image\n",
    "import torch\n",
    "import numpy as np\n",
    "\n",
    "# Load a test image\n",
    "test_img_path = list((DATA_DIR / 'test' / 'images').glob('*.npy'))[0]\n",
    "print(test_img_path)\n",
    "test_img = np.load(test_img_path)\n",
    "\n",
    "# Convert numpy image to a torch tensor and add a batch dimension with\n",
    "# unsqueeze, then move the tensor to the approriate device (CPU or GPU)\n",
    "test_img = torch.from_numpy(test_img).unsqueeze(0).to(trainer.device)\n",
    "\n",
    "# Run inference\n",
    "trainer.model.eval() # Sets the model to evaluation mode (disables dropout, uses running stats for batch normalization)\n",
    "with torch.no_grad(): # Disables gradient computation for efficiency during inference\n",
    "    predictions = trainer.model(test_img)\n",
    "\n",
    "# Print the shape of predictions—taking care to handle tuple output (like in YOLO-style heads).    \n",
    "print(f\"Predictions shape: {predictions[1][0].shape if isinstance(predictions, tuple) else predictions.shape}\")"
   ]
  }
 ],
 "metadata": {
  "kernelspec": {
   "display_name": "Python 3 (ipykernel)",
   "language": "python",
   "name": "python3"
  },
  "language_info": {
   "codemirror_mode": {
    "name": "ipython",
    "version": 3
   },
   "file_extension": ".py",
   "mimetype": "text/x-python",
   "name": "python",
   "nbconvert_exporter": "python",
   "pygments_lexer": "ipython3",
   "version": "3.10.12"
  }
 },
 "nbformat": 4,
 "nbformat_minor": 5
}
