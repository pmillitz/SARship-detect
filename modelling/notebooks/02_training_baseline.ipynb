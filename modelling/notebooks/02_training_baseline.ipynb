{
 "cells": [
  {
   "cell_type": "markdown",
   "id": "120c906f-415c-4c65-b975-41aa7f9099e2",
   "metadata": {},
   "source": [
    "## 1. Setup"
   ]
  },
  {
   "cell_type": "code",
   "execution_count": 33,
   "id": "9cb7fded-4fb7-4a45-a98a-2513b6e306d1",
   "metadata": {},
   "outputs": [
    {
     "name": "stdout",
     "output_type": "stream",
     "text": [
      "The autoreload extension is already loaded. To reload it, use:\n",
      "  %reload_ext autoreload\n"
     ]
    }
   ],
   "source": [
    "# Better error messages in notebooks\n",
    "%load_ext autoreload\n",
    "%autoreload 2"
   ]
  },
  {
   "cell_type": "code",
   "execution_count": 34,
   "id": "b64adc04-43bc-4268-bc4e-8ec0b8d6317f",
   "metadata": {},
   "outputs": [
    {
     "name": "stdout",
     "output_type": "stream",
     "text": [
      "Project root: /home/peterm/UWA/CITS5014/SARFish/modelling\n",
      "Data directory: /home/peterm/UWA/CITS5014/SARFish/modelling/data\n",
      "Config directory: /home/peterm/UWA/CITS5014/SARFish/modelling/configs\n",
      "Runs directory: /home/peterm/UWA/CITS5014/SARFish/modelling/runs\n"
     ]
    }
   ],
   "source": [
    "# Set up data paths\n",
    "\n",
    "import sys\n",
    "from pathlib import Path\n",
    "\n",
    "# Get to project root from notebook location\n",
    "PROJECT_ROOT = Path.cwd().parent\n",
    "# Add \"src\" to Python's module search path sys.path\n",
    "sys.path.append(str(PROJECT_ROOT / \"src\"))\n",
    "\n",
    "# Define project paths\n",
    "DATA_DIR = PROJECT_ROOT / \"data\"\n",
    "CONFIG_DIR = PROJECT_ROOT / \"configs\"\n",
    "RUNS_DIR = PROJECT_ROOT / \"runs\"\n",
    "\n",
    "print(f\"Project root: {PROJECT_ROOT}\")\n",
    "print(f\"Data directory: {DATA_DIR}\")\n",
    "print(f\"Config directory: {CONFIG_DIR}\")\n",
    "print(f\"Runs directory: {RUNS_DIR}\")"
   ]
  },
  {
   "cell_type": "code",
   "execution_count": 41,
   "id": "61693170-1147-4ce8-99d0-a35587e07cb8",
   "metadata": {},
   "outputs": [],
   "source": [
    "# Setup and imports\n",
    "%matplotlib inline\n",
    "from sar_dataset import SARPreprocessedDataset\n",
    "from letterbox_resize import letterbox_resize\n",
    "from sar_yolo_simple_trainer import SimpleSARTrainer\n",
    "from sar_evaluator import SARFloat32Evaluator"
   ]
  },
  {
   "cell_type": "code",
   "execution_count": 36,
   "id": "5e2eec5d-150a-411b-a981-af0eca887d5f",
   "metadata": {},
   "outputs": [],
   "source": [
    "# Create data configuration\n",
    "import yaml\n",
    "\n",
    "data_config = {\n",
    "    'path':   str(PROJECT_ROOT / 'data'), \n",
    "    'train':  'train',\n",
    "    'val':    'val', \n",
    "    'test':   'test',\n",
    "    'nc': 2,\n",
    "    'names':  ['is_vessel', 'is_fishing']\n",
    "}\n",
    "\n",
    "# Save to configs directory\n",
    "config_path = CONFIG_DIR / 'sar_data.yaml'\n",
    "with open(config_path, 'w') as f:\n",
    "    yaml.dump(data_config, f)"
   ]
  },
  {
   "cell_type": "markdown",
   "id": "bfc4450f-5b64-4548-8383-0e61f53a2963",
   "metadata": {},
   "source": [
    "## 2. Model training"
   ]
  },
  {
   "cell_type": "code",
   "execution_count": 37,
   "id": "9267e3be-19b2-4835-8a04-0882a92fb301",
   "metadata": {
    "collapsed": true,
    "jupyter": {
     "outputs_hidden": true
    }
   },
   "outputs": [
    {
     "name": "stdout",
     "output_type": "stream",
     "text": [
      "The tensorboard extension is already loaded. To reload it, use:\n",
      "  %reload_ext tensorboard\n"
     ]
    },
    {
     "data": {
      "text/plain": [
       "Reusing TensorBoard on port 6006 (pid 1809), started 2:53:41 ago. (Use '!kill 1809' to kill it.)"
      ]
     },
     "metadata": {},
     "output_type": "display_data"
    },
    {
     "data": {
      "text/html": [
       "\n",
       "      <iframe id=\"tensorboard-frame-71cccf4f74ed2f3a\" width=\"100%\" height=\"800\" frameborder=\"0\">\n",
       "      </iframe>\n",
       "      <script>\n",
       "        (function() {\n",
       "          const frame = document.getElementById(\"tensorboard-frame-71cccf4f74ed2f3a\");\n",
       "          const url = new URL(\"/\", window.location);\n",
       "          const port = 6006;\n",
       "          if (port) {\n",
       "            url.port = port;\n",
       "          }\n",
       "          frame.src = url;\n",
       "        })();\n",
       "      </script>\n",
       "    "
      ],
      "text/plain": [
       "<IPython.core.display.HTML object>"
      ]
     },
     "metadata": {},
     "output_type": "display_data"
    }
   ],
   "source": [
    "# Start TensorBoard in notebook\n",
    "%load_ext tensorboard\n",
    "%tensorboard --logdir {RUNS_DIR / 'train_no_aug'}"
   ]
  },
  {
   "cell_type": "code",
   "execution_count": 38,
   "id": "71c31fda-fbbc-460d-82e9-d210cb027248",
   "metadata": {},
   "outputs": [
    {
     "name": "stdout",
     "output_type": "stream",
     "text": [
      "💾 Models will be saved to: /home/peterm/UWA/CITS5014/SARFish/modelling/runs/train_no_aug/20250721_130953\n",
      "Using device: cuda\n",
      "Train samples: 3114\n",
      "Val samples: 463\n"
     ]
    }
   ],
   "source": [
    "# Initialise trainer\n",
    "trainer = SimpleSARTrainer(\n",
    "    model_name='yolov8n.pt',\n",
    "    data_yaml=str(CONFIG_DIR / 'sar_data.yaml'),\n",
    "    imgsz=640,\n",
    "    device='cuda',\n",
    "    save_dir=RUNS_DIR / 'train_no_aug'\n",
    ")"
   ]
  },
  {
   "cell_type": "code",
   "execution_count": 39,
   "id": "b07fe241-c675-4429-894b-9d1690f2516b",
   "metadata": {},
   "outputs": [
    {
     "data": {
      "image/png": "[encoded data removed]",
      "text/plain": [
       "<Figure size 1500x500 with 3 Axes>"
      ]
     },
     "metadata": {},
     "output_type": "display_data"
    },
    {
     "name": "stdout",
     "output_type": "stream",
     "text": [
      "\n",
      "==================================================\n",
      "Epoch 16/50\n",
      "==================================================\n"
     ]
    },
    {
     "data": {
      "application/vnd.jupyter.widget-view+json": {
       "model_id": "286a30c92ba341d59be871726365d63d",
       "version_major": 2,
       "version_minor": 0
      },
      "text/plain": [
       "Training:   0%|          | 0/195 [00:00<?, ?it/s]"
      ]
     },
     "metadata": {},
     "output_type": "display_data"
    },
    {
     "data": {
      "application/vnd.jupyter.widget-view+json": {
       "model_id": "ba9bbeccddde4ff892c31959e0c6c41b",
       "version_major": 2,
       "version_minor": 0
      },
      "text/plain": [
       "Validation:   0%|          | 0/29 [00:00<?, ?it/s]"
      ]
     },
     "metadata": {},
     "output_type": "display_data"
    },
    {
     "name": "stdout",
     "output_type": "stream",
     "text": [
      "\n",
      "📊 Results:\n",
      "  Train Loss: 102.4021\n",
      "  Val Loss: 217.5785\n",
      "  Learning Rate: 0.000086\n",
      "  ⏳ Patience counter: 5/5\n",
      "\n",
      "🛑 Early stopping triggered at epoch 16\n",
      "  💾 Saved checkpoint: final.pt\n",
      "\n",
      "==================================================\n",
      "Training completed!\n",
      "Best validation loss: 201.1885\n",
      "Final epoch: 16\n",
      "==================================================\n"
     ]
    }
   ],
   "source": [
    "# Train the model\n",
    "history = trainer.train(\n",
    "    epochs=50,  # Still testing\n",
    "    batch_size=16,\n",
    "    optimizer_type='adamw',\n",
    "    lr=0.00001,\n",
    "    workers=4,\n",
    "    weight_decay=0.0005,  # L2 regularization\n",
    "    use_warmup=True,  # Enable learning rate warmup\n",
    "    use_progressive_unfreeze=True  # Enable progressive unfreezing\n",
    ")"
   ]
  },
  {
   "cell_type": "code",
   "execution_count": 40,
   "id": "5d641bff-995b-4d6a-ba21-db026ab7b228",
   "metadata": {},
   "outputs": [
    {
     "name": "stdout",
     "output_type": "stream",
     "text": [
      "Loaded best model from epoch 11\n",
      "Loaded best model from epoch 11 with val loss 201.1885\n"
     ]
    }
   ],
   "source": [
    "# Load best model\n",
    "best_epoch, best_val_loss = trainer.load_best_model()\n",
    "print(f\"Loaded best model from epoch {best_epoch+1} with val loss {best_val_loss:.4f}\")"
   ]
  },
  {
   "cell_type": "markdown",
   "id": "d0b3dd76-abd9-4abc-ab03-ba55abc5d012",
   "metadata": {},
   "source": [
    "## 3. Model Evaluation"
   ]
  },
  {
   "cell_type": "code",
   "execution_count": 60,
   "id": "c17fc9f8-a0d7-4ce1-be68-5162dd430f77",
   "metadata": {},
   "outputs": [],
   "source": [
    "# Initialize the evaluator\n",
    "evaluator = SARFloat32Evaluator(\n",
    "    model_path=RUNS_DIR / 'train_no_aug/20250721_130953/best.pt',\n",
    "    #data_yaml_path=CONFIG_DIR / 'sar_data.yaml',\n",
    "    data_yaml_path=config_path,\n",
    "    device='cuda'\n",
    ")"
   ]
  },
  {
   "cell_type": "code",
   "execution_count": 68,
   "id": "ab39d850-9cb2-4912-b50c-8b5c0fe6a281",
   "metadata": {},
   "outputs": [
    {
     "name": "stdout",
     "output_type": "stream",
     "text": [
      "/home/peterm/UWA/CITS5014/SARFish/modelling/data\n"
     ]
    }
   ],
   "source": [
    "# Create the test dataset\n",
    "with open(config_path, 'r') as f:\n",
    "    data_dict = yaml.safe_load(f)\n",
    "\n",
    "# Create test dataset manually\n",
    "data_root = Path(data_dict['path'])\n",
    "test_dataset = SARPreprocessedDataset(\n",
    "    image_dir=str(data_root / 'test' / 'images'),  # or 'test' if using test\n",
    "    label_dir=str(data_root / 'test' / 'labels'),\n",
    "    imgsz=640\n",
    ")"
   ]
  },
  {
   "cell_type": "code",
   "execution_count": 69,
   "id": "2df781fa-d63f-4ab3-ae8b-200d3c5d8596",
   "metadata": {},
   "outputs": [
    {
     "name": "stdout",
     "output_type": "stream",
     "text": [
      "Evaluating on 253 images...\n"
     ]
    },
    {
     "name": "stderr",
     "output_type": "stream",
     "text": [
      "Evaluating: 100%|█████████████████████████████████████████████████████████████████████████| 8/8 [00:02<00:00,  3.36it/s]\n"
     ]
    },
    {
     "name": "stdout",
     "output_type": "stream",
     "text": [
      "\n",
      "Results saved to: /home/peterm/UWA/CITS5014/SARFish/modelling/runs/evaluation_no_aug/test_results\n",
      "- metrics.json: Detailed metrics\n",
      "- evaluation_results.png: Visualization\n"
     ]
    }
   ],
   "source": [
    "# Run evaluation\n",
    "metrics = evaluator.evaluate_dataset(\n",
    "    test_dataset,\n",
    "    batch_size=32,\n",
    "    conf_thres=0.25,\n",
    "    iou_thres=0.45,\n",
    "    save_dir=RUNS_DIR / 'evaluation_no_aug' / 'test_results'\n",
    ")"
   ]
  },
  {
   "cell_type": "code",
   "execution_count": null,
   "id": "665c7a0a-e9c1-459b-8839-6ac505891dea",
   "metadata": {},
   "outputs": [],
   "source": []
  },
  {
   "cell_type": "code",
   "execution_count": null,
   "id": "608d1f80-99de-4acc-b298-d26b90163262",
   "metadata": {},
   "outputs": [],
   "source": []
  },
  {
   "cell_type": "code",
   "execution_count": 31,
   "id": "39bc8778-9484-4ec8-93bc-831768fa8b74",
   "metadata": {},
   "outputs": [
    {
     "name": "stdout",
     "output_type": "stream",
     "text": [
      "/home/peterm/UWA/CITS5014/SARFish/modelling/data/test/images/8204efcfe9f09f94v_044.97495057999999801268_013.22696544999999979098_swath2_proc.npy\n",
      "Predictions shape: torch.Size([1, 144, 12, 12])\n"
     ]
    }
   ],
   "source": [
    "# Test inference on a single image\n",
    "import torch\n",
    "import numpy as np\n",
    "\n",
    "# Load a test image\n",
    "test_img_path = list((DATA_DIR / 'test' / 'images').glob('*.npy'))[0]\n",
    "print(test_img_path)\n",
    "test_img = np.load(test_img_path)\n",
    "\n",
    "# Convert numpy image to a torch tensor and add a batch dimension with\n",
    "# unsqueeze, then move the tensor to the approriate device (CPU or GPU)\n",
    "test_img = torch.from_numpy(test_img).unsqueeze(0).to(trainer.device)\n",
    "\n",
    "# Run inference\n",
    "trainer.model.eval() # Sets the model to evaluation mode (disables dropout, uses running stats for batch normalization)\n",
    "with torch.no_grad(): # Disables gradient computation for efficiency during inference\n",
    "    predictions = trainer.model(test_img)\n",
    "\n",
    "# Print the shape of predictions—taking care to handle tuple output (like in YOLO-style heads).    \n",
    "print(f\"Predictions shape: {predictions[1][0].shape if isinstance(predictions, tuple) else predictions.shape}\")"
   ]
  },
  {
   "cell_type": "code",
   "execution_count": null,
   "id": "7631076f-a823-4a2f-b027-efe1a78f733e",
   "metadata": {},
   "outputs": [],
   "source": []
  },
  {
   "cell_type": "code",
   "execution_count": null,
   "id": "53247d88-2f0f-4dab-98e1-f602e786c882",
   "metadata": {},
   "outputs": [],
   "source": []
  },
  {
   "cell_type": "markdown",
   "id": "9957a30d-6016-429a-bdb0-5e4ccf096ece",
   "metadata": {},
   "source": [
    "## 4. Model Inspection"
   ]
  },
  {
   "cell_type": "code",
   "execution_count": 16,
   "id": "9564f9f0-ed57-490f-baf3-77f0fec51a69",
   "metadata": {},
   "outputs": [
    {
     "name": "stdout",
     "output_type": "stream",
     "text": [
      "  0: model.model.0.conv.weight                          shape=[16, 3, 3, 3]\n",
      "  1: model.model.0.bn.weight                            shape=[16]\n",
      "  2: model.model.0.bn.bias                              shape=[16]\n",
      "  3: model.model.1.conv.weight                          shape=[32, 16, 3, 3]\n",
      "  4: model.model.1.bn.weight                            shape=[32]\n",
      "  5: model.model.1.bn.bias                              shape=[32]\n",
      "  6: model.model.2.cv1.conv.weight                      shape=[32, 32, 1, 1]\n",
      "  7: model.model.2.cv1.bn.weight                        shape=[32]\n",
      "  8: model.model.2.cv1.bn.bias                          shape=[32]\n",
      "  9: model.model.2.cv2.conv.weight                      shape=[32, 48, 1, 1]\n",
      " 10: model.model.2.cv2.bn.weight                        shape=[32]\n",
      " 11: model.model.2.cv2.bn.bias                          shape=[32]\n",
      " 12: model.model.2.m.0.cv1.conv.weight                  shape=[16, 16, 3, 3]\n",
      " 13: model.model.2.m.0.cv1.bn.weight                    shape=[16]\n",
      " 14: model.model.2.m.0.cv1.bn.bias                      shape=[16]\n",
      " 15: model.model.2.m.0.cv2.conv.weight                  shape=[16, 16, 3, 3]\n",
      " 16: model.model.2.m.0.cv2.bn.weight                    shape=[16]\n",
      " 17: model.model.2.m.0.cv2.bn.bias                      shape=[16]\n",
      " 18: model.model.3.conv.weight                          shape=[64, 32, 3, 3]\n",
      " 19: model.model.3.bn.weight                            shape=[64]\n",
      " 20: model.model.3.bn.bias                              shape=[64]\n",
      " 21: model.model.4.cv1.conv.weight                      shape=[64, 64, 1, 1]\n",
      " 22: model.model.4.cv1.bn.weight                        shape=[64]\n",
      " 23: model.model.4.cv1.bn.bias                          shape=[64]\n",
      " 24: model.model.4.cv2.conv.weight                      shape=[64, 128, 1, 1]\n",
      " 25: model.model.4.cv2.bn.weight                        shape=[64]\n",
      " 26: model.model.4.cv2.bn.bias                          shape=[64]\n",
      " 27: model.model.4.m.0.cv1.conv.weight                  shape=[32, 32, 3, 3]\n",
      " 28: model.model.4.m.0.cv1.bn.weight                    shape=[32]\n",
      " 29: model.model.4.m.0.cv1.bn.bias                      shape=[32]\n",
      " 30: model.model.4.m.0.cv2.conv.weight                  shape=[32, 32, 3, 3]\n",
      " 31: model.model.4.m.0.cv2.bn.weight                    shape=[32]\n",
      "...\n"
     ]
    }
   ],
   "source": [
    "# List all layers of the 'yolov8n.pt' model with their indices\n",
    "for i, (name, param) in enumerate(trainer.model.named_parameters()):\n",
    "    print(f\"{i:3d}: {name:50s} shape={list(param.shape)}\")\n",
    "    if i > 30:  # Just show first 30\n",
    "        print(\"...\")\n",
    "        break"
   ]
  },
  {
   "cell_type": "code",
   "execution_count": null,
   "id": "f607e047-c530-41ec-bb6f-a16789f30c2c",
   "metadata": {},
   "outputs": [],
   "source": []
  }
 ],
 "metadata": {
  "kernelspec": {
   "display_name": "Python 3 (ipykernel)",
   "language": "python",
   "name": "python3"
  },
  "language_info": {
   "codemirror_mode": {
    "name": "ipython",
    "version": 3
   },
   "file_extension": ".py",
   "mimetype": "text/x-python",
   "name": "python",
   "nbconvert_exporter": "python",
   "pygments_lexer": "ipython3",
   "version": "3.10.12"
  }
 },
 "nbformat": 4,
 "nbformat_minor": 5
}
